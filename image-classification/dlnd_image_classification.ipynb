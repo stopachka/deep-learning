{
 "cells": [
  {
   "cell_type": "markdown",
   "metadata": {
    "collapsed": true,
    "deletable": true,
    "editable": true
   },
   "source": [
    "# Image Classification\n",
    "In this project, you'll classify images from the [CIFAR-10 dataset](https://www.cs.toronto.edu/~kriz/cifar.html).  The dataset consists of airplanes, dogs, cats, and other objects. You'll preprocess the images, then train a convolutional neural network on all the samples. The images need to be normalized and the labels need to be one-hot encoded.  You'll get to apply what you learned and build a convolutional, max pooling, dropout, and fully connected layers.  At the end, you'll get to see your neural network's predictions on the sample images.\n",
    "## Get the Data\n",
    "Run the following cell to download the [CIFAR-10 dataset for python](https://www.cs.toronto.edu/~kriz/cifar-10-python.tar.gz)."
   ]
  },
  {
   "cell_type": "code",
   "execution_count": 3,
   "metadata": {
    "collapsed": false,
    "deletable": true,
    "editable": true
   },
   "outputs": [
    {
     "name": "stdout",
     "output_type": "stream",
     "text": [
      "All files found!\n"
     ]
    }
   ],
   "source": [
    "\"\"\"\n",
    "DON'T MODIFY ANYTHING IN THIS CELL THAT IS BELOW THIS LINE\n",
    "\"\"\"\n",
    "from urllib.request import urlretrieve\n",
    "from os.path import isfile, isdir\n",
    "from tqdm import tqdm\n",
    "import problem_unittests as tests\n",
    "import tarfile\n",
    "\n",
    "cifar10_dataset_folder_path = 'cifar-10-batches-py'\n",
    "\n",
    "# Use Floyd's cifar-10 dataset if present\n",
    "floyd_cifar10_location = '/input/cifar-10/python.tar.gz'\n",
    "if isfile(floyd_cifar10_location):\n",
    "    tar_gz_path = floyd_cifar10_location\n",
    "else:\n",
    "    tar_gz_path = 'cifar-10-python.tar.gz'\n",
    "\n",
    "class DLProgress(tqdm):\n",
    "    last_block = 0\n",
    "\n",
    "    def hook(self, block_num=1, block_size=1, total_size=None):\n",
    "        self.total = total_size\n",
    "        self.update((block_num - self.last_block) * block_size)\n",
    "        self.last_block = block_num\n",
    "\n",
    "if not isfile(tar_gz_path):\n",
    "    with DLProgress(unit='B', unit_scale=True, miniters=1, desc='CIFAR-10 Dataset') as pbar:\n",
    "        urlretrieve(\n",
    "            'https://www.cs.toronto.edu/~kriz/cifar-10-python.tar.gz',\n",
    "            tar_gz_path,\n",
    "            pbar.hook)\n",
    "\n",
    "if not isdir(cifar10_dataset_folder_path):\n",
    "    with tarfile.open(tar_gz_path) as tar:\n",
    "        tar.extractall()\n",
    "        tar.close()\n",
    "\n",
    "\n",
    "tests.test_folder_path(cifar10_dataset_folder_path)"
   ]
  },
  {
   "cell_type": "markdown",
   "metadata": {
    "deletable": true,
    "editable": true
   },
   "source": [
    "## Explore the Data\n",
    "The dataset is broken into batches to prevent your machine from running out of memory.  The CIFAR-10 dataset consists of 5 batches, named `data_batch_1`, `data_batch_2`, etc.. Each batch contains the labels and images that are one of the following:\n",
    "* airplane\n",
    "* automobile\n",
    "* bird\n",
    "* cat\n",
    "* deer\n",
    "* dog\n",
    "* frog\n",
    "* horse\n",
    "* ship\n",
    "* truck\n",
    "\n",
    "Understanding a dataset is part of making predictions on the data.  Play around with the code cell below by changing the `batch_id` and `sample_id`. The `batch_id` is the id for a batch (1-5). The `sample_id` is the id for a image and label pair in the batch.\n",
    "\n",
    "Ask yourself \"What are all possible labels?\", \"What is the range of values for the image data?\", \"Are the labels in order or random?\".  Answers to questions like these will help you preprocess the data and end up with better predictions."
   ]
  },
  {
   "cell_type": "code",
   "execution_count": 6,
   "metadata": {
    "collapsed": false,
    "deletable": true,
    "editable": true
   },
   "outputs": [
    {
     "name": "stdout",
     "output_type": "stream",
     "text": [
      "\n",
      "Stats of batch 2:\n",
      "Samples: 10000\n",
      "Label Counts: {0: 984, 1: 1007, 2: 1010, 3: 995, 4: 1010, 5: 988, 6: 1008, 7: 1026, 8: 987, 9: 985}\n",
      "First 20 Labels: [1, 6, 6, 8, 8, 3, 4, 6, 0, 6, 0, 3, 6, 6, 5, 4, 8, 3, 2, 6]\n",
      "\n",
      "Example of Image 22:\n",
      "Image - Min Value: 26 Max Value: 255\n",
      "Image - Shape: (32, 32, 3)\n",
      "Label - Label Id: 1 Name: automobile\n"
     ]
    },
    {
     "data": {
      "image/png": "[encoded data removed]",
      "text/plain": [
       "<matplotlib.figure.Figure at 0x7fdde320e978>"
      ]
     },
     "metadata": {
      "image/png": {
       "height": 250,
       "width": 253
      }
     },
     "output_type": "display_data"
    }
   ],
   "source": [
    "%matplotlib inline\n",
    "%config InlineBackend.figure_format = 'retina'\n",
    "\n",
    "import helper\n",
    "import numpy as np\n",
    "\n",
    "# Explore the dataset\n",
    "batch_id = 2\n",
    "sample_id = 22\n",
    "helper.display_stats(cifar10_dataset_folder_path, batch_id, sample_id)"
   ]
  },
  {
   "cell_type": "markdown",
   "metadata": {
    "deletable": true,
    "editable": true
   },
   "source": [
    "## Implement Preprocess Functions\n",
    "### Normalize\n",
    "In the cell below, implement the `normalize` function to take in image data, `x`, and return it as a normalized Numpy array. The values should be in the range of 0 to 1, inclusive.  The return object should be the same shape as `x`."
   ]
  },
  {
   "cell_type": "code",
   "execution_count": 10,
   "metadata": {
    "collapsed": false,
    "deletable": true,
    "editable": true
   },
   "outputs": [
    {
     "name": "stdout",
     "output_type": "stream",
     "text": [
      "Tests Passed\n"
     ]
    }
   ],
   "source": [
    "def normalize(x):\n",
    "    \"\"\"\n",
    "    Normalize a list of sample image data in the range of 0 to 1\n",
    "    : x: List of image data.  The image shape is (32, 32, 3)\n",
    "    : return: Numpy array of normalize data\n",
    "    \"\"\"\n",
    "    # DONE: Implement Function\n",
    "    maxv = np.max(x)\n",
    "    minv = np.min(x)\n",
    "    return  (x - minv) / maxv - minv\n",
    "\n",
    "\n",
    "\"\"\"\n",
    "DON'T MODIFY ANYTHING IN THIS CELL THAT IS BELOW THIS LINE\n",
    "\"\"\"\n",
    "tests.test_normalize(normalize)"
   ]
  },
  {
   "cell_type": "markdown",
   "metadata": {
    "deletable": true,
    "editable": true
   },
   "source": [
    "### One-hot encode\n",
    "Just like the previous code cell, you'll be implementing a function for preprocessing.  This time, you'll implement the `one_hot_encode` function. The input, `x`, are a list of labels.  Implement the function to return the list of labels as One-Hot encoded Numpy array.  The possible values for labels are 0 to 9. The one-hot encoding function should return the same encoding for each value between each call to `one_hot_encode`.  Make sure to save the map of encodings outside the function.\n",
    "\n",
    "Hint: Don't reinvent the wheel."
   ]
  },
  {
   "cell_type": "code",
   "execution_count": 14,
   "metadata": {
    "collapsed": false,
    "deletable": true,
    "editable": true
   },
   "outputs": [
    {
     "name": "stdout",
     "output_type": "stream",
     "text": [
      "Tests Passed\n"
     ]
    }
   ],
   "source": [
    "def one_hot_encode(x):\n",
    "    \"\"\"\n",
    "    One hot encode a list of sample labels. Return a one-hot encoded vector for each label.\n",
    "    : x: List of sample Labels\n",
    "    : return: Numpy array of one-hot encoded labels\n",
    "    \"\"\"\n",
    "    # TODO: Implement Function\n",
    "    return np.eye(10)[x]\n",
    "\n",
    "\n",
    "\"\"\"\n",
    "DON'T MODIFY ANYTHING IN THIS CELL THAT IS BELOW THIS LINE\n",
    "\"\"\"\n",
    "tests.test_one_hot_encode(one_hot_encode)"
   ]
  },
  {
   "cell_type": "markdown",
   "metadata": {
    "deletable": true,
    "editable": true
   },
   "source": [
    "### Randomize Data\n",
    "As you saw from exploring the data above, the order of the samples are randomized.  It doesn't hurt to randomize it again, but you don't need to for this dataset."
   ]
  },
  {
   "cell_type": "markdown",
   "metadata": {
    "deletable": true,
    "editable": true
   },
   "source": [
    "## Preprocess all the data and save it\n",
    "Running the code cell below will preprocess all the CIFAR-10 data and save it to file. The code below also uses 10% of the training data for validation."
   ]
  },
  {
   "cell_type": "code",
   "execution_count": 15,
   "metadata": {
    "collapsed": false,
    "deletable": true,
    "editable": true
   },
   "outputs": [],
   "source": [
    "\"\"\"\n",
    "DON'T MODIFY ANYTHING IN THIS CELL\n",
    "\"\"\"\n",
    "# Preprocess Training, Validation, and Testing Data\n",
    "helper.preprocess_and_save_data(cifar10_dataset_folder_path, normalize, one_hot_encode)"
   ]
  },
  {
   "cell_type": "markdown",
   "metadata": {
    "deletable": true,
    "editable": true
   },
   "source": [
    "# Check Point\n",
    "This is your first checkpoint.  If you ever decide to come back to this notebook or have to restart the notebook, you can start from here.  The preprocessed data has been saved to disk."
   ]
  },
  {
   "cell_type": "code",
   "execution_count": 3,
   "metadata": {
    "collapsed": false,
    "deletable": true,
    "editable": true
   },
   "outputs": [],
   "source": [
    "\"\"\"\n",
    "DON'T MODIFY ANYTHING IN THIS CELL\n",
    "\"\"\"\n",
    "import pickle\n",
    "import problem_unittests as tests\n",
    "import helper\n",
    "\n",
    "# Load the Preprocessed Validation data\n",
    "valid_features, valid_labels = pickle.load(open('preprocess_validation.p', mode='rb'))"
   ]
  },
  {
   "cell_type": "markdown",
   "metadata": {
    "deletable": true,
    "editable": true
   },
   "source": [
    "## Build the network\n",
    "For the neural network, you'll build each layer into a function.  Most of the code you've seen has been outside of functions. To test your code more thoroughly, we require that you put each layer in a function.  This allows us to give you better feedback and test for simple mistakes using our unittests before you submit your project.\n",
    "\n",
    ">**Note:** If you're finding it hard to dedicate enough time for this course each week, we've provided a small shortcut to this part of the project. In the next couple of problems, you'll have the option to use classes from the [TensorFlow Layers](https://www.tensorflow.org/api_docs/python/tf/layers) or [TensorFlow Layers (contrib)](https://www.tensorflow.org/api_guides/python/contrib.layers) packages to build each layer, except the layers you build in the \"Convolutional and Max Pooling Layer\" section.  TF Layers is similar to Keras's and TFLearn's abstraction to layers, so it's easy to pickup.\n",
    "\n",
    ">However, if you would like to get the most out of this course, try to solve all the problems _without_ using anything from the TF Layers packages. You **can** still use classes from other packages that happen to have the same name as ones you find in TF Layers! For example, instead of using the TF Layers version of the `conv2d` class, [tf.layers.conv2d](https://www.tensorflow.org/api_docs/python/tf/layers/conv2d), you would want to use the TF Neural Network version of `conv2d`, [tf.nn.conv2d](https://www.tensorflow.org/api_docs/python/tf/nn/conv2d). \n",
    "\n",
    "Let's begin!\n",
    "\n",
    "### Input\n",
    "The neural network needs to read the image data, one-hot encoded labels, and dropout keep probability. Implement the following functions\n",
    "* Implement `neural_net_image_input`\n",
    " * Return a [TF Placeholder](https://www.tensorflow.org/api_docs/python/tf/placeholder)\n",
    " * Set the shape using `image_shape` with batch size set to `None`.\n",
    " * Name the TensorFlow placeholder \"x\" using the TensorFlow `name` parameter in the [TF Placeholder](https://www.tensorflow.org/api_docs/python/tf/placeholder).\n",
    "* Implement `neural_net_label_input`\n",
    " * Return a [TF Placeholder](https://www.tensorflow.org/api_docs/python/tf/placeholder)\n",
    " * Set the shape using `n_classes` with batch size set to `None`.\n",
    " * Name the TensorFlow placeholder \"y\" using the TensorFlow `name` parameter in the [TF Placeholder](https://www.tensorflow.org/api_docs/python/tf/placeholder).\n",
    "* Implement `neural_net_keep_prob_input`\n",
    " * Return a [TF Placeholder](https://www.tensorflow.org/api_docs/python/tf/placeholder) for dropout keep probability.\n",
    " * Name the TensorFlow placeholder \"keep_prob\" using the TensorFlow `name` parameter in the [TF Placeholder](https://www.tensorflow.org/api_docs/python/tf/placeholder).\n",
    "\n",
    "These names will be used at the end of the project to load your saved model.\n",
    "\n",
    "Note: `None` for shapes in TensorFlow allow for a dynamic size."
   ]
  },
  {
   "cell_type": "code",
   "execution_count": 11,
   "metadata": {
    "collapsed": false,
    "deletable": true,
    "editable": true
   },
   "outputs": [
    {
     "name": "stdout",
     "output_type": "stream",
     "text": [
      "Image Input Tests Passed.\n",
      "Label Input Tests Passed.\n",
      "Keep Prob Tests Passed.\n"
     ]
    }
   ],
   "source": [
    "import tensorflow as tf\n",
    "\n",
    "def neural_net_image_input(image_shape):\n",
    "    \"\"\"\n",
    "    Return a Tensor for a batch of image input\n",
    "    : image_shape: Shape of the images\n",
    "    : return: Tensor for image input.\n",
    "    \"\"\"\n",
    "    # DONE: Implement Function\n",
    "    return tf.placeholder(tf.float32,  [None, *image_shape], name='x')\n",
    "\n",
    "\n",
    "def neural_net_label_input(n_classes):\n",
    "    \"\"\"\n",
    "    Return a Tensor for a batch of label input\n",
    "    : n_classes: Number of classes\n",
    "    : return: Tensor for label input.\n",
    "    \"\"\"\n",
    "    # DONE: Implement Function\n",
    "    return tf.placeholder(tf.float32, [None, n_classes], name='y')\n",
    "\n",
    "\n",
    "def neural_net_keep_prob_input():\n",
    "    \"\"\"\n",
    "    Return a Tensor for keep probability\n",
    "    : return: Tensor for keep probability.\n",
    "    \"\"\"\n",
    "    # TODO: Implement Function\n",
    "    return tf.placeholder(tf.float32, name='keep_prob')\n",
    "\n",
    "\n",
    "\"\"\"\n",
    "DON'T MODIFY ANYTHING IN THIS CELL THAT IS BELOW THIS LINE\n",
    "\"\"\"\n",
    "tf.reset_default_graph()\n",
    "tests.test_nn_image_inputs(neural_net_image_input)\n",
    "tests.test_nn_label_inputs(neural_net_label_input)\n",
    "tests.test_nn_keep_prob_inputs(neural_net_keep_prob_input)"
   ]
  },
  {
   "cell_type": "markdown",
   "metadata": {
    "deletable": true,
    "editable": true
   },
   "source": [
    "### Convolution and Max Pooling Layer\n",
    "Convolution layers have a lot of success with images. For this code cell, you should implement the function `conv2d_maxpool` to apply convolution then max pooling:\n",
    "* Create the weight and bias using `conv_ksize`, `conv_num_outputs` and the shape of `x_tensor`.\n",
    "* Apply a convolution to `x_tensor` using weight and `conv_strides`.\n",
    " * We recommend you use same padding, but you're welcome to use any padding.\n",
    "* Add bias\n",
    "* Add a nonlinear activation to the convolution.\n",
    "* Apply Max Pooling using `pool_ksize` and `pool_strides`.\n",
    " * We recommend you use same padding, but you're welcome to use any padding.\n",
    "\n",
    "**Note:** You **can't** use [TensorFlow Layers](https://www.tensorflow.org/api_docs/python/tf/layers) or [TensorFlow Layers (contrib)](https://www.tensorflow.org/api_guides/python/contrib.layers) for **this** layer, but you can still use TensorFlow's [Neural Network](https://www.tensorflow.org/api_docs/python/tf/nn) package. You may still use the shortcut option for all the **other** layers."
   ]
  },
  {
   "cell_type": "code",
   "execution_count": 70,
   "metadata": {
    "collapsed": false,
    "deletable": true,
    "editable": true
   },
   "outputs": [
    {
     "name": "stdout",
     "output_type": "stream",
     "text": [
      "Tests Passed\n"
     ]
    }
   ],
   "source": [
    "def conv_layer(x_tensor, conv_num_outputs, conv_ksize, conv_strides):\n",
    "    w = tf.Variable(\n",
    "        tf.truncated_normal(\n",
    "            [conv_ksize[0], conv_ksize[1], x_tensor.shape.as_list()[-1], conv_num_outputs],\n",
    "            stddev=0.01\n",
    "        ),\n",
    "    )\n",
    "    b = tf.Variable(tf.zeros([conv_num_outputs]))\n",
    "    return tf.nn.bias_add(\n",
    "        tf.nn.conv2d(x_tensor, w, [1, *conv_strides, 1], padding='SAME'),\n",
    "        b\n",
    "    )\n",
    "    \n",
    "def max_pool(inp, pool_ksize, pool_strides): \n",
    "    return tf.nn.max_pool(\n",
    "        inp, \n",
    "        [1, *pool_ksize, 1], \n",
    "        [1, *pool_strides, 1],\n",
    "        padding='SAME'\n",
    "    )\n",
    "    \n",
    "def conv2d_maxpool(x_tensor, conv_num_outputs, conv_ksize, conv_strides, pool_ksize, pool_strides):\n",
    "    \"\"\"\n",
    "    Apply convolution then max pooling to x_tensor\n",
    "    :param x_tensor: TensorFlow Tensor\n",
    "    :param conv_num_outputs: Number of outputs for the convolutional layer\n",
    "    :param conv_ksize: kernal size 2-D Tuple for the convolutional layer\n",
    "    :param conv_strides: Stride 2-D Tuple for convolution\n",
    "    :param pool_ksize: kernal size 2-D Tuple for pool\n",
    "    :param pool_strides: Stride 2-D Tuple for pool\n",
    "    : return: A tensor that represents convolution and max pooling of x_tensor\n",
    "    \"\"\"\n",
    "\n",
    "    # DONE: Implement Function\n",
    "    return max_pool(\n",
    "        tf.nn.relu(\n",
    "            conv_layer(x_tensor, conv_num_outputs, conv_ksize, conv_strides)\n",
    "        ),\n",
    "        pool_ksize, \n",
    "        pool_strides,\n",
    "    )\n",
    "\n",
    "\n",
    "# personal test\n",
    "def personal_test():\n",
    "    test_x = tf.placeholder(tf.float32, [None, 32, 32, 5])\n",
    "    test_num_outputs = 10\n",
    "    test_con_k = (2, 2)\n",
    "    test_con_s = (4, 4)\n",
    "    test_pool_k = (2, 2)\n",
    "    test_pool_s = (2, 2)\n",
    "\n",
    "    conv2d_maxpool_out = conv2d_maxpool(test_x, test_num_outputs, test_con_k, test_con_s, test_pool_k, test_pool_s)\n",
    "\n",
    "\n",
    "# personal_test()\n",
    "\n",
    "\"\"\"\n",
    "DON'T MODIFY ANYTHING IN THIS CELL THAT IS BELOW THIS LINE\n",
    "\"\"\"\n",
    "tests.test_con_pool(conv2d_maxpool)"
   ]
  },
  {
   "cell_type": "markdown",
   "metadata": {
    "deletable": true,
    "editable": true
   },
   "source": [
    "### Flatten Layer\n",
    "Implement the `flatten` function to change the dimension of `x_tensor` from a 4-D tensor to a 2-D tensor.  The output should be the shape (*Batch Size*, *Flattened Image Size*). Shortcut option: you can use classes from the [TensorFlow Layers](https://www.tensorflow.org/api_docs/python/tf/layers) or [TensorFlow Layers (contrib)](https://www.tensorflow.org/api_guides/python/contrib.layers) packages for this layer. For more of a challenge, only use other TensorFlow packages."
   ]
  },
  {
   "cell_type": "code",
   "execution_count": 16,
   "metadata": {
    "collapsed": false,
    "deletable": true,
    "editable": true
   },
   "outputs": [
    {
     "name": "stdout",
     "output_type": "stream",
     "text": [
      "Tests Passed\n"
     ]
    }
   ],
   "source": [
    "import tensorflow as tf\n",
    "\n",
    "def flatten(x_tensor):\n",
    "    \"\"\"\n",
    "    Flatten x_tensor to (Batch Size, Flattened Image Size)\n",
    "    : x_tensor: A tensor of size (Batch Size, ...), where ... are the image dimensions.\n",
    "    : return: A tensor of size (Batch Size, Flattened Image Size).\n",
    "    \"\"\"\n",
    "    # DONE: Implement Function\n",
    "    return tf.contrib.layers.flatten(x_tensor)\n",
    "\n",
    "\n",
    "\"\"\"\n",
    "DON'T MODIFY ANYTHING IN THIS CELL THAT IS BELOW THIS LINE\n",
    "\"\"\"\n",
    "tests.test_flatten(flatten)"
   ]
  },
  {
   "cell_type": "markdown",
   "metadata": {
    "deletable": true,
    "editable": true
   },
   "source": [
    "### Fully-Connected Layer\n",
    "Implement the `fully_conn` function to apply a fully connected layer to `x_tensor` with the shape (*Batch Size*, *num_outputs*). Shortcut option: you can use classes from the [TensorFlow Layers](https://www.tensorflow.org/api_docs/python/tf/layers) or [TensorFlow Layers (contrib)](https://www.tensorflow.org/api_guides/python/contrib.layers) packages for this layer. For more of a challenge, only use other TensorFlow packages."
   ]
  },
  {
   "cell_type": "code",
   "execution_count": 17,
   "metadata": {
    "collapsed": false,
    "deletable": true,
    "editable": true
   },
   "outputs": [
    {
     "name": "stdout",
     "output_type": "stream",
     "text": [
      "Tests Passed\n"
     ]
    }
   ],
   "source": [
    "def fully_conn(x_tensor, num_outputs):\n",
    "    \"\"\"\n",
    "    Apply a fully connected layer to x_tensor using weight and bias\n",
    "    : x_tensor: A 2-D tensor where the first dimension is batch size.\n",
    "    : num_outputs: The number of output that the new tensor should be.\n",
    "    : return: A 2-D tensor where the second dimension is num_outputs.\n",
    "    \"\"\"\n",
    "    # DONE: Implement Function\n",
    "    return tf.contrib.layers.fully_connected(\n",
    "        x_tensor,\n",
    "        num_outputs\n",
    "    )\n",
    "\n",
    "\n",
    "\"\"\"\n",
    "DON'T MODIFY ANYTHING IN THIS CELL THAT IS BELOW THIS LINE\n",
    "\"\"\"\n",
    "tests.test_fully_conn(fully_conn)"
   ]
  },
  {
   "cell_type": "markdown",
   "metadata": {
    "deletable": true,
    "editable": true
   },
   "source": [
    "### Output Layer\n",
    "Implement the `output` function to apply a fully connected layer to `x_tensor` with the shape (*Batch Size*, *num_outputs*). Shortcut option: you can use classes from the [TensorFlow Layers](https://www.tensorflow.org/api_docs/python/tf/layers) or [TensorFlow Layers (contrib)](https://www.tensorflow.org/api_guides/python/contrib.layers) packages for this layer. For more of a challenge, only use other TensorFlow packages.\n",
    "\n",
    "**Note:** Activation, softmax, or cross entropy should **not** be applied to this."
   ]
  },
  {
   "cell_type": "code",
   "execution_count": 18,
   "metadata": {
    "collapsed": false,
    "deletable": true,
    "editable": true
   },
   "outputs": [
    {
     "name": "stdout",
     "output_type": "stream",
     "text": [
      "Tests Passed\n"
     ]
    }
   ],
   "source": [
    "def output(x_tensor, num_outputs):\n",
    "    \"\"\"\n",
    "    Apply a output layer to x_tensor using weight and bias\n",
    "    : x_tensor: A 2-D tensor where the first dimension is batch size.\n",
    "    : num_outputs: The number of output that the new tensor should be.\n",
    "    : return: A 2-D tensor where the second dimension is num_outputs.\n",
    "    \"\"\"\n",
    "    # DONE: Implement Function\n",
    "    return fully_conn(x_tensor, num_outputs)\n",
    "\n",
    "\n",
    "\"\"\"\n",
    "DON'T MODIFY ANYTHING IN THIS CELL THAT IS BELOW THIS LINE\n",
    "\"\"\"\n",
    "tests.test_output(output)"
   ]
  },
  {
   "cell_type": "markdown",
   "metadata": {
    "deletable": true,
    "editable": true
   },
   "source": [
    "### Create Convolutional Model\n",
    "Implement the function `conv_net` to create a convolutional neural network model. The function takes in a batch of images, `x`, and outputs logits.  Use the layers you created above to create this model:\n",
    "\n",
    "* Apply 1, 2, or 3 Convolution and Max Pool layers\n",
    "* Apply a Flatten Layer\n",
    "* Apply 1, 2, or 3 Fully Connected Layers\n",
    "* Apply an Output Layer\n",
    "* Return the output\n",
    "* Apply [TensorFlow's Dropout](https://www.tensorflow.org/api_docs/python/tf/nn/dropout) to one or more layers in the model using `keep_prob`. "
   ]
  },
  {
   "cell_type": "code",
   "execution_count": 71,
   "metadata": {
    "collapsed": false,
    "deletable": true,
    "editable": true
   },
   "outputs": [
    {
     "name": "stdout",
     "output_type": "stream",
     "text": [
      "Neural Network Built!\n"
     ]
    }
   ],
   "source": [
    "def conv_net(x, keep_prob):\n",
    "    \"\"\"\n",
    "    Create a convolutional neural network model\n",
    "    : x: Placeholder tensor that holds image data.\n",
    "    : keep_prob: Placeholder tensor that hold dropout keep probability.\n",
    "    : return: Tensor that represents logits\n",
    "    \"\"\"\n",
    "    # DONE: Apply 1, 2, or 3 Convolution and Max Pool layers\n",
    "    #    Play around with different number of outputs, kernel size and stride\n",
    "    # Function Definition from Above:\n",
    "    #    conv2d_maxpool(x_tensor, conv_num_outputs, conv_ksize, conv_strides, pool_ksize, pool_strides)\n",
    "    res = x\n",
    "    \n",
    "    res = conv2d_maxpool(\n",
    "        res, \n",
    "        conv_num_outputs=32, \n",
    "        conv_ksize=(4, 4), \n",
    "        conv_strides=(1, 1), \n",
    "        pool_ksize=(2,2), \n",
    "        pool_strides=(2,2)\n",
    "    )\n",
    "    \n",
    "    res = conv2d_maxpool(\n",
    "        res, \n",
    "        conv_num_outputs=64, \n",
    "        conv_ksize=(8, 8), \n",
    "        conv_strides=(1, 1), \n",
    "        pool_ksize=(2,2),\n",
    "        pool_strides=(2,2)\n",
    "    )\n",
    "        \n",
    "    # DONE: Apply a Flatten Layer\n",
    "    # Function Definition from Above:\n",
    "    #   flatten(x_tensor)\n",
    "    res = flatten(res)\n",
    "    \n",
    "    res = tf.nn.dropout(res, keep_prob)\n",
    "\n",
    "    # DONE: Apply 1, 2, or 3 Fully Connected Layers\n",
    "    #    Play around with different number of outputs\n",
    "    # Function Definition from Above:\n",
    "    #   fully_conn(x_tensor, num_outputs)\n",
    "    res = fully_conn(res, 128)\n",
    "    \n",
    "    # DONE: Apply an Output Layer\n",
    "    #    Set this to the number of classes\n",
    "    # Function Definition from Above:\n",
    "    #   output(x_tensor, num_outputs)\n",
    "    \n",
    "    res = output(res, 10)\n",
    "    \n",
    "    # TODO: return output\n",
    "    return res\n",
    "\n",
    "\"\"\"\n",
    "DON'T MODIFY ANYTHING IN THIS CELL THAT IS BELOW THIS LINE\n",
    "\"\"\"\n",
    "\n",
    "##############################\n",
    "## Build the Neural Network ##\n",
    "##############################\n",
    "\n",
    "# Remove previous weights, bias, inputs, etc..\n",
    "tf.reset_default_graph()\n",
    "\n",
    "# Inputs\n",
    "x = neural_net_image_input((32, 32, 3))\n",
    "y = neural_net_label_input(10)\n",
    "keep_prob = neural_net_keep_prob_input()\n",
    "\n",
    "# Model\n",
    "logits = conv_net(x, keep_prob)\n",
    "\n",
    "# Name logits Tensor, so that is can be loaded from disk after training\n",
    "logits = tf.identity(logits, name='logits')\n",
    "\n",
    "# Loss and Optimizer\n",
    "cost = tf.reduce_mean(tf.nn.softmax_cross_entropy_with_logits(logits=logits, labels=y))\n",
    "optimizer = tf.train.AdamOptimizer().minimize(cost)\n",
    "\n",
    "# Accuracy\n",
    "correct_pred = tf.equal(tf.argmax(logits, 1), tf.argmax(y, 1))\n",
    "accuracy = tf.reduce_mean(tf.cast(correct_pred, tf.float32), name='accuracy')\n",
    "\n",
    "tests.test_conv_net(conv_net)"
   ]
  },
  {
   "cell_type": "markdown",
   "metadata": {
    "deletable": true,
    "editable": true
   },
   "source": [
    "## Train the Neural Network\n",
    "### Single Optimization\n",
    "Implement the function `train_neural_network` to do a single optimization.  The optimization should use `optimizer` to optimize in `session` with a `feed_dict` of the following:\n",
    "* `x` for image input\n",
    "* `y` for labels\n",
    "* `keep_prob` for keep probability for dropout\n",
    "\n",
    "This function will be called for each batch, so `tf.global_variables_initializer()` has already been called.\n",
    "\n",
    "Note: Nothing needs to be returned. This function is only optimizing the neural network."
   ]
  },
  {
   "cell_type": "code",
   "execution_count": 55,
   "metadata": {
    "collapsed": false,
    "deletable": true,
    "editable": true
   },
   "outputs": [
    {
     "name": "stdout",
     "output_type": "stream",
     "text": [
      "Tests Passed\n"
     ]
    }
   ],
   "source": [
    "def train_neural_network(session, optimizer, keep_probability, feature_batch, label_batch):\n",
    "    \"\"\"\n",
    "    Optimize the session on a batch of images and labels\n",
    "    : session: Current TensorFlow session\n",
    "    : optimizer: TensorFlow optimizer function\n",
    "    : keep_probability: keep probability\n",
    "    : feature_batch: Batch of Numpy image data\n",
    "    : label_batch: Batch of Numpy label data\n",
    "    \"\"\"\n",
    "    # DONE: Implement Function\n",
    "    session.run(optimizer, feed_dict={x: feature_batch, y: label_batch, keep_prob: keep_probability})\n",
    "\n",
    "\n",
    "\"\"\"\n",
    "DON'T MODIFY ANYTHING IN THIS CELL THAT IS BELOW THIS LINE\n",
    "\"\"\"\n",
    "tests.test_train_nn(train_neural_network)"
   ]
  },
  {
   "cell_type": "markdown",
   "metadata": {
    "deletable": true,
    "editable": true
   },
   "source": [
    "### Show Stats\n",
    "Implement the function `print_stats` to print loss and validation accuracy.  Use the global variables `valid_features` and `valid_labels` to calculate validation accuracy.  Use a keep probability of `1.0` to calculate the loss and validation accuracy."
   ]
  },
  {
   "cell_type": "code",
   "execution_count": 45,
   "metadata": {
    "collapsed": false,
    "deletable": true,
    "editable": true
   },
   "outputs": [],
   "source": [
    "def print_stats(session, feature_batch, label_batch, cost, accuracy):\n",
    "    \"\"\"\n",
    "    Print information about loss and validation accuracy\n",
    "    : session: Current TensorFlow session\n",
    "    : feature_batch: Batch of Numpy image data\n",
    "    : label_batch: Batch of Numpy label data\n",
    "    : cost: TensorFlow cost function\n",
    "    : accuracy: TensorFlow accuracy function\n",
    "    \"\"\"\n",
    "    # DONE: Implement Function\n",
    "    feed_dict = {\n",
    "        x: feature_batch,\n",
    "        y: label_batch,\n",
    "        keep_prob: 1.\n",
    "    }\n",
    "    print(\n",
    "        'Loss:',\n",
    "        session.run(cost, feed_dict=feed_dict),\n",
    "        'Validation Accuracy:',\n",
    "        session.run(accuracy, feed_dict=feed_dict),\n",
    "    )"
   ]
  },
  {
   "cell_type": "markdown",
   "metadata": {
    "deletable": true,
    "editable": true
   },
   "source": [
    "### Hyperparameters\n",
    "Tune the following parameters:\n",
    "* Set `epochs` to the number of iterations until the network stops learning or start overfitting\n",
    "* Set `batch_size` to the highest number that your machine has memory for.  Most people set them to common sizes of memory:\n",
    " * 64\n",
    " * 128\n",
    " * 256\n",
    " * ...\n",
    "* Set `keep_probability` to the probability of keeping a node using dropout"
   ]
  },
  {
   "cell_type": "code",
   "execution_count": 68,
   "metadata": {
    "collapsed": true,
    "deletable": true,
    "editable": true
   },
   "outputs": [],
   "source": [
    "# TODO: Tune Parameters\n",
    "epochs = 40\n",
    "batch_size = 2046\n",
    "keep_probability = 0.7"
   ]
  },
  {
   "cell_type": "markdown",
   "metadata": {
    "deletable": true,
    "editable": true
   },
   "source": [
    "### Train on a Single CIFAR-10 Batch\n",
    "Instead of training the neural network on all the CIFAR-10 batches of data, let's use a single batch. This should save time while you iterate on the model to get a better accuracy.  Once the final validation accuracy is 50% or greater, run the model on all the data in the next section."
   ]
  },
  {
   "cell_type": "code",
   "execution_count": 72,
   "metadata": {
    "collapsed": false,
    "deletable": true,
    "editable": true
   },
   "outputs": [
    {
     "name": "stdout",
     "output_type": "stream",
     "text": [
      "Checking the Training on a Single Batch...\n",
      "Epoch  1, CIFAR-10 Batch 1:  Loss: 2.2631 Validation Accuracy: 0.115196\n",
      "Epoch  2, CIFAR-10 Batch 1:  Loss: 2.17243 Validation Accuracy: 0.22549\n",
      "Epoch  3, CIFAR-10 Batch 1:  Loss: 2.07268 Validation Accuracy: 0.268382\n",
      "Epoch  4, CIFAR-10 Batch 1:  Loss: 2.00717 Validation Accuracy: 0.283088\n",
      "Epoch  5, CIFAR-10 Batch 1:  Loss: 1.96676 Validation Accuracy: 0.314951\n",
      "Epoch  6, CIFAR-10 Batch 1:  Loss: 1.87693 Validation Accuracy: 0.345588\n",
      "Epoch  7, CIFAR-10 Batch 1:  Loss: 1.85019 Validation Accuracy: 0.352941\n",
      "Epoch  8, CIFAR-10 Batch 1:  Loss: 1.76441 Validation Accuracy: 0.376226\n",
      "Epoch  9, CIFAR-10 Batch 1:  Loss: 1.70972 Validation Accuracy: 0.400735\n",
      "Epoch 10, CIFAR-10 Batch 1:  Loss: 1.65265 Validation Accuracy: 0.398284\n",
      "Epoch 11, CIFAR-10 Batch 1:  Loss: 1.60568 Validation Accuracy: 0.421569\n",
      "Epoch 12, CIFAR-10 Batch 1:  Loss: 1.53974 Validation Accuracy: 0.453431\n",
      "Epoch 13, CIFAR-10 Batch 1:  Loss: 1.49975 Validation Accuracy: 0.471814\n",
      "Epoch 14, CIFAR-10 Batch 1:  Loss: 1.48934 Validation Accuracy: 0.464461\n",
      "Epoch 15, CIFAR-10 Batch 1:  Loss: 1.45426 Validation Accuracy: 0.496324\n",
      "Epoch 16, CIFAR-10 Batch 1:  Loss: 1.41653 Validation Accuracy: 0.503677\n",
      "Epoch 17, CIFAR-10 Batch 1:  Loss: 1.39825 Validation Accuracy: 0.519608\n",
      "Epoch 18, CIFAR-10 Batch 1:  Loss: 1.36542 Validation Accuracy: 0.531863\n",
      "Epoch 19, CIFAR-10 Batch 1:  Loss: 1.33856 Validation Accuracy: 0.536765\n",
      "Epoch 20, CIFAR-10 Batch 1:  Loss: 1.31499 Validation Accuracy: 0.54902\n",
      "Epoch 21, CIFAR-10 Batch 1:  Loss: 1.28015 Validation Accuracy: 0.553922\n",
      "Epoch 22, CIFAR-10 Batch 1:  Loss: 1.24728 Validation Accuracy: 0.568627\n",
      "Epoch 23, CIFAR-10 Batch 1:  Loss: 1.23616 Validation Accuracy: 0.577206\n",
      "Epoch 24, CIFAR-10 Batch 1:  Loss: 1.21131 Validation Accuracy: 0.606618\n",
      "Epoch 25, CIFAR-10 Batch 1:  Loss: 1.18936 Validation Accuracy: 0.596814\n",
      "Epoch 26, CIFAR-10 Batch 1:  Loss: 1.14789 Validation Accuracy: 0.613971\n",
      "Epoch 27, CIFAR-10 Batch 1:  Loss: 1.12654 Validation Accuracy: 0.616422\n",
      "Epoch 28, CIFAR-10 Batch 1:  Loss: 1.1047 Validation Accuracy: 0.631128\n",
      "Epoch 29, CIFAR-10 Batch 1:  Loss: 1.08847 Validation Accuracy: 0.640931\n",
      "Epoch 30, CIFAR-10 Batch 1:  Loss: 1.06554 Validation Accuracy: 0.655637\n",
      "Epoch 31, CIFAR-10 Batch 1:  Loss: 1.04952 Validation Accuracy: 0.658088\n",
      "Epoch 32, CIFAR-10 Batch 1:  Loss: 1.04086 Validation Accuracy: 0.66299\n",
      "Epoch 33, CIFAR-10 Batch 1:  Loss: 1.00452 Validation Accuracy: 0.680147\n",
      "Epoch 34, CIFAR-10 Batch 1:  Loss: 1.03164 Validation Accuracy: 0.660539\n",
      "Epoch 35, CIFAR-10 Batch 1:  Loss: 0.998931 Validation Accuracy: 0.67402\n",
      "Epoch 36, CIFAR-10 Batch 1:  Loss: 0.966161 Validation Accuracy: 0.694853\n",
      "Epoch 37, CIFAR-10 Batch 1:  Loss: 0.939851 Validation Accuracy: 0.71201\n",
      "Epoch 38, CIFAR-10 Batch 1:  Loss: 0.921893 Validation Accuracy: 0.718137\n",
      "Epoch 39, CIFAR-10 Batch 1:  Loss: 0.890912 Validation Accuracy: 0.730392\n",
      "Epoch 40, CIFAR-10 Batch 1:  Loss: 0.875365 Validation Accuracy: 0.732843\n"
     ]
    }
   ],
   "source": [
    "import helper\n",
    "\n",
    "\"\"\"\n",
    "DON'T MODIFY ANYTHING IN THIS CELL\n",
    "\"\"\"\n",
    "print('Checking the Training on a Single Batch...')\n",
    "with tf.Session() as sess:\n",
    "    # Initializing the variables\n",
    "    sess.run(tf.global_variables_initializer())\n",
    "    \n",
    "    # Training cycle\n",
    "    for epoch in range(epochs):\n",
    "        batch_i = 1\n",
    "        for batch_features, batch_labels in helper.load_preprocess_training_batch(batch_i, batch_size):\n",
    "            train_neural_network(sess, optimizer, keep_probability, batch_features, batch_labels)\n",
    "        print('Epoch {:>2}, CIFAR-10 Batch {}:  '.format(epoch + 1, batch_i), end='')\n",
    "        print_stats(sess, batch_features, batch_labels, cost, accuracy)"
   ]
  },
  {
   "cell_type": "markdown",
   "metadata": {
    "deletable": true,
    "editable": true
   },
   "source": [
    "### Fully Train the Model\n",
    "Now that you got a good accuracy with a single CIFAR-10 batch, try it with all five batches."
   ]
  },
  {
   "cell_type": "code",
   "execution_count": 73,
   "metadata": {
    "collapsed": false,
    "deletable": true,
    "editable": true
   },
   "outputs": [
    {
     "name": "stdout",
     "output_type": "stream",
     "text": [
      "Training...\n",
      "Epoch  1, CIFAR-10 Batch 1:  Loss: 2.27319 Validation Accuracy: 0.107843\n",
      "Epoch  1, CIFAR-10 Batch 2:  Loss: 2.18887 Validation Accuracy: 0.231618\n",
      "Epoch  1, CIFAR-10 Batch 3:  Loss: 2.13191 Validation Accuracy: 0.242647\n",
      "Epoch  1, CIFAR-10 Batch 4:  Loss: 2.07319 Validation Accuracy: 0.275735\n",
      "Epoch  1, CIFAR-10 Batch 5:  Loss: 2.03776 Validation Accuracy: 0.270833\n",
      "Epoch  2, CIFAR-10 Batch 1:  Loss: 2.05601 Validation Accuracy: 0.27451\n",
      "Epoch  2, CIFAR-10 Batch 2:  Loss: 1.99261 Validation Accuracy: 0.32598\n",
      "Epoch  2, CIFAR-10 Batch 3:  Loss: 1.96894 Validation Accuracy: 0.329657\n",
      "Epoch  2, CIFAR-10 Batch 4:  Loss: 1.91868 Validation Accuracy: 0.345588\n",
      "Epoch  2, CIFAR-10 Batch 5:  Loss: 1.88975 Validation Accuracy: 0.344363\n",
      "Epoch  3, CIFAR-10 Batch 1:  Loss: 1.90492 Validation Accuracy: 0.373775\n",
      "Epoch  3, CIFAR-10 Batch 2:  Loss: 1.84747 Validation Accuracy: 0.387255\n",
      "Epoch  3, CIFAR-10 Batch 3:  Loss: 1.85228 Validation Accuracy: 0.375\n",
      "Epoch  3, CIFAR-10 Batch 4:  Loss: 1.81197 Validation Accuracy: 0.375\n",
      "Epoch  3, CIFAR-10 Batch 5:  Loss: 1.71407 Validation Accuracy: 0.410539\n",
      "Epoch  4, CIFAR-10 Batch 1:  Loss: 1.77644 Validation Accuracy: 0.408088\n",
      "Epoch  4, CIFAR-10 Batch 2:  Loss: 1.69831 Validation Accuracy: 0.416667\n",
      "Epoch  4, CIFAR-10 Batch 3:  Loss: 1.69839 Validation Accuracy: 0.411765\n",
      "Epoch  4, CIFAR-10 Batch 4:  Loss: 1.6553 Validation Accuracy: 0.430147\n",
      "Epoch  4, CIFAR-10 Batch 5:  Loss: 1.60636 Validation Accuracy: 0.455882\n",
      "Epoch  5, CIFAR-10 Batch 1:  Loss: 1.64098 Validation Accuracy: 0.458333\n",
      "Epoch  5, CIFAR-10 Batch 2:  Loss: 1.58298 Validation Accuracy: 0.453431\n",
      "Epoch  5, CIFAR-10 Batch 3:  Loss: 1.58522 Validation Accuracy: 0.42402\n",
      "Epoch  5, CIFAR-10 Batch 4:  Loss: 1.58019 Validation Accuracy: 0.469363\n",
      "Epoch  5, CIFAR-10 Batch 5:  Loss: 1.54503 Validation Accuracy: 0.480392\n",
      "Epoch  6, CIFAR-10 Batch 1:  Loss: 1.57989 Validation Accuracy: 0.473039\n",
      "Epoch  6, CIFAR-10 Batch 2:  Loss: 1.5199 Validation Accuracy: 0.468137\n",
      "Epoch  6, CIFAR-10 Batch 3:  Loss: 1.52904 Validation Accuracy: 0.453431\n",
      "Epoch  6, CIFAR-10 Batch 4:  Loss: 1.50021 Validation Accuracy: 0.493873\n",
      "Epoch  6, CIFAR-10 Batch 5:  Loss: 1.4622 Validation Accuracy: 0.518382\n",
      "Epoch  7, CIFAR-10 Batch 1:  Loss: 1.51523 Validation Accuracy: 0.5\n",
      "Epoch  7, CIFAR-10 Batch 2:  Loss: 1.48585 Validation Accuracy: 0.485294\n",
      "Epoch  7, CIFAR-10 Batch 3:  Loss: 1.48363 Validation Accuracy: 0.459559\n",
      "Epoch  7, CIFAR-10 Batch 4:  Loss: 1.45768 Validation Accuracy: 0.515931\n",
      "Epoch  7, CIFAR-10 Batch 5:  Loss: 1.41443 Validation Accuracy: 0.542892\n",
      "Epoch  8, CIFAR-10 Batch 1:  Loss: 1.45014 Validation Accuracy: 0.523284\n",
      "Epoch  8, CIFAR-10 Batch 2:  Loss: 1.42167 Validation Accuracy: 0.519608\n",
      "Epoch  8, CIFAR-10 Batch 3:  Loss: 1.42747 Validation Accuracy: 0.488971\n",
      "Epoch  8, CIFAR-10 Batch 4:  Loss: 1.41628 Validation Accuracy: 0.534314\n",
      "Epoch  8, CIFAR-10 Batch 5:  Loss: 1.36286 Validation Accuracy: 0.551471\n",
      "Epoch  9, CIFAR-10 Batch 1:  Loss: 1.42629 Validation Accuracy: 0.525735\n",
      "Epoch  9, CIFAR-10 Batch 2:  Loss: 1.36943 Validation Accuracy: 0.536765\n",
      "Epoch  9, CIFAR-10 Batch 3:  Loss: 1.37299 Validation Accuracy: 0.512255\n",
      "Epoch  9, CIFAR-10 Batch 4:  Loss: 1.34442 Validation Accuracy: 0.547794\n",
      "Epoch  9, CIFAR-10 Batch 5:  Loss: 1.30433 Validation Accuracy: 0.583333\n",
      "Epoch 10, CIFAR-10 Batch 1:  Loss: 1.3536 Validation Accuracy: 0.552696\n",
      "Epoch 10, CIFAR-10 Batch 2:  Loss: 1.34098 Validation Accuracy: 0.544118\n",
      "Epoch 10, CIFAR-10 Batch 3:  Loss: 1.33057 Validation Accuracy: 0.534314\n",
      "Epoch 10, CIFAR-10 Batch 4:  Loss: 1.30123 Validation Accuracy: 0.560049\n",
      "Epoch 10, CIFAR-10 Batch 5:  Loss: 1.2802 Validation Accuracy: 0.584559\n",
      "Epoch 11, CIFAR-10 Batch 1:  Loss: 1.33249 Validation Accuracy: 0.558824\n",
      "Epoch 11, CIFAR-10 Batch 2:  Loss: 1.29444 Validation Accuracy: 0.563726\n",
      "Epoch 11, CIFAR-10 Batch 3:  Loss: 1.31526 Validation Accuracy: 0.544118\n",
      "Epoch 11, CIFAR-10 Batch 4:  Loss: 1.2778 Validation Accuracy: 0.567402\n",
      "Epoch 11, CIFAR-10 Batch 5:  Loss: 1.22806 Validation Accuracy: 0.606618\n",
      "Epoch 12, CIFAR-10 Batch 1:  Loss: 1.28489 Validation Accuracy: 0.574755\n",
      "Epoch 12, CIFAR-10 Batch 2:  Loss: 1.25942 Validation Accuracy: 0.58701\n",
      "Epoch 12, CIFAR-10 Batch 3:  Loss: 1.26165 Validation Accuracy: 0.563726\n",
      "Epoch 12, CIFAR-10 Batch 4:  Loss: 1.23432 Validation Accuracy: 0.585784\n",
      "Epoch 12, CIFAR-10 Batch 5:  Loss: 1.16725 Validation Accuracy: 0.623775\n",
      "Epoch 13, CIFAR-10 Batch 1:  Loss: 1.21622 Validation Accuracy: 0.601716\n",
      "Epoch 13, CIFAR-10 Batch 2:  Loss: 1.20638 Validation Accuracy: 0.590686\n",
      "Epoch 13, CIFAR-10 Batch 3:  Loss: 1.20317 Validation Accuracy: 0.584559\n",
      "Epoch 13, CIFAR-10 Batch 4:  Loss: 1.17623 Validation Accuracy: 0.601716\n",
      "Epoch 13, CIFAR-10 Batch 5:  Loss: 1.12277 Validation Accuracy: 0.651961\n",
      "Epoch 14, CIFAR-10 Batch 1:  Loss: 1.17928 Validation Accuracy: 0.61152\n",
      "Epoch 14, CIFAR-10 Batch 2:  Loss: 1.15367 Validation Accuracy: 0.609069\n",
      "Epoch 14, CIFAR-10 Batch 3:  Loss: 1.1825 Validation Accuracy: 0.593137\n",
      "Epoch 14, CIFAR-10 Batch 4:  Loss: 1.14958 Validation Accuracy: 0.612745\n",
      "Epoch 14, CIFAR-10 Batch 5:  Loss: 1.08204 Validation Accuracy: 0.666667\n",
      "Epoch 15, CIFAR-10 Batch 1:  Loss: 1.15495 Validation Accuracy: 0.623775\n",
      "Epoch 15, CIFAR-10 Batch 2:  Loss: 1.11723 Validation Accuracy: 0.621324\n",
      "Epoch 15, CIFAR-10 Batch 3:  Loss: 1.141 Validation Accuracy: 0.622549\n",
      "Epoch 15, CIFAR-10 Batch 4:  Loss: 1.12392 Validation Accuracy: 0.632353\n",
      "Epoch 15, CIFAR-10 Batch 5:  Loss: 1.05841 Validation Accuracy: 0.681373\n",
      "Epoch 16, CIFAR-10 Batch 1:  Loss: 1.11863 Validation Accuracy: 0.642157\n",
      "Epoch 16, CIFAR-10 Batch 2:  Loss: 1.08012 Validation Accuracy: 0.636029\n",
      "Epoch 16, CIFAR-10 Batch 3:  Loss: 1.12185 Validation Accuracy: 0.61152\n",
      "Epoch 16, CIFAR-10 Batch 4:  Loss: 1.08591 Validation Accuracy: 0.639706\n",
      "Epoch 16, CIFAR-10 Batch 5:  Loss: 1.03217 Validation Accuracy: 0.686275\n",
      "Epoch 17, CIFAR-10 Batch 1:  Loss: 1.10409 Validation Accuracy: 0.63848\n",
      "Epoch 17, CIFAR-10 Batch 2:  Loss: 1.056 Validation Accuracy: 0.650735\n",
      "Epoch 17, CIFAR-10 Batch 3:  Loss: 1.10209 Validation Accuracy: 0.620098\n",
      "Epoch 17, CIFAR-10 Batch 4:  Loss: 1.06543 Validation Accuracy: 0.650735\n",
      "Epoch 17, CIFAR-10 Batch 5:  Loss: 0.996809 Validation Accuracy: 0.696078\n",
      "Epoch 18, CIFAR-10 Batch 1:  Loss: 1.07604 Validation Accuracy: 0.665441\n",
      "Epoch 18, CIFAR-10 Batch 2:  Loss: 1.01941 Validation Accuracy: 0.666667\n",
      "Epoch 18, CIFAR-10 Batch 3:  Loss: 1.08995 Validation Accuracy: 0.618873\n",
      "Epoch 18, CIFAR-10 Batch 4:  Loss: 1.02752 Validation Accuracy: 0.667892\n",
      "Epoch 18, CIFAR-10 Batch 5:  Loss: 0.973953 Validation Accuracy: 0.705882\n",
      "Epoch 19, CIFAR-10 Batch 1:  Loss: 1.04393 Validation Accuracy: 0.670343\n",
      "Epoch 19, CIFAR-10 Batch 2:  Loss: 1.01096 Validation Accuracy: 0.670343\n",
      "Epoch 19, CIFAR-10 Batch 3:  Loss: 1.05648 Validation Accuracy: 0.636029\n",
      "Epoch 19, CIFAR-10 Batch 4:  Loss: 1.01604 Validation Accuracy: 0.669118\n",
      "Epoch 19, CIFAR-10 Batch 5:  Loss: 0.948618 Validation Accuracy: 0.715686\n",
      "Epoch 20, CIFAR-10 Batch 1:  Loss: 1.01504 Validation Accuracy: 0.677696\n",
      "Epoch 20, CIFAR-10 Batch 2:  Loss: 0.980931 Validation Accuracy: 0.667892\n",
      "Epoch 20, CIFAR-10 Batch 3:  Loss: 1.03232 Validation Accuracy: 0.650735\n",
      "Epoch 20, CIFAR-10 Batch 4:  Loss: 0.996961 Validation Accuracy: 0.685049\n",
      "Epoch 20, CIFAR-10 Batch 5:  Loss: 0.929601 Validation Accuracy: 0.720588\n",
      "Epoch 21, CIFAR-10 Batch 1:  Loss: 0.994954 Validation Accuracy: 0.678922\n",
      "Epoch 21, CIFAR-10 Batch 2:  Loss: 0.977094 Validation Accuracy: 0.661765\n",
      "Epoch 21, CIFAR-10 Batch 3:  Loss: 0.993621 Validation Accuracy: 0.666667\n",
      "Epoch 21, CIFAR-10 Batch 4:  Loss: 0.966955 Validation Accuracy: 0.691177\n",
      "Epoch 21, CIFAR-10 Batch 5:  Loss: 0.896962 Validation Accuracy: 0.720588\n",
      "Epoch 22, CIFAR-10 Batch 1:  Loss: 0.973265 Validation Accuracy: 0.681373\n",
      "Epoch 22, CIFAR-10 Batch 2:  Loss: 0.933091 Validation Accuracy: 0.685049\n",
      "Epoch 22, CIFAR-10 Batch 3:  Loss: 0.984442 Validation Accuracy: 0.669118\n",
      "Epoch 22, CIFAR-10 Batch 4:  Loss: 0.956444 Validation Accuracy: 0.689951\n",
      "Epoch 22, CIFAR-10 Batch 5:  Loss: 0.88068 Validation Accuracy: 0.731618\n",
      "Epoch 23, CIFAR-10 Batch 1:  Loss: 0.965425 Validation Accuracy: 0.681373\n",
      "Epoch 23, CIFAR-10 Batch 2:  Loss: 0.909578 Validation Accuracy: 0.691177\n",
      "Epoch 23, CIFAR-10 Batch 3:  Loss: 0.941726 Validation Accuracy: 0.683824\n",
      "Epoch 23, CIFAR-10 Batch 4:  Loss: 0.916472 Validation Accuracy: 0.707108\n",
      "Epoch 23, CIFAR-10 Batch 5:  Loss: 0.850514 Validation Accuracy: 0.738971\n",
      "Epoch 24, CIFAR-10 Batch 1:  Loss: 0.932063 Validation Accuracy: 0.697304\n",
      "Epoch 24, CIFAR-10 Batch 2:  Loss: 0.887143 Validation Accuracy: 0.698529\n",
      "Epoch 24, CIFAR-10 Batch 3:  Loss: 0.923725 Validation Accuracy: 0.689951\n",
      "Epoch 24, CIFAR-10 Batch 4:  Loss: 0.904055 Validation Accuracy: 0.715686\n",
      "Epoch 24, CIFAR-10 Batch 5:  Loss: 0.835466 Validation Accuracy: 0.741422\n",
      "Epoch 25, CIFAR-10 Batch 1:  Loss: 0.909615 Validation Accuracy: 0.705882\n",
      "Epoch 25, CIFAR-10 Batch 2:  Loss: 0.88303 Validation Accuracy: 0.698529\n",
      "Epoch 25, CIFAR-10 Batch 3:  Loss: 0.913646 Validation Accuracy: 0.696079\n",
      "Epoch 25, CIFAR-10 Batch 4:  Loss: 0.879855 Validation Accuracy: 0.718137\n",
      "Epoch 25, CIFAR-10 Batch 5:  Loss: 0.812507 Validation Accuracy: 0.756128\n",
      "Epoch 26, CIFAR-10 Batch 1:  Loss: 0.901693 Validation Accuracy: 0.710784\n",
      "Epoch 26, CIFAR-10 Batch 2:  Loss: 0.846979 Validation Accuracy: 0.723039\n",
      "Epoch 26, CIFAR-10 Batch 3:  Loss: 0.882717 Validation Accuracy: 0.709559\n",
      "Epoch 26, CIFAR-10 Batch 4:  Loss: 0.86629 Validation Accuracy: 0.719363\n",
      "Epoch 26, CIFAR-10 Batch 5:  Loss: 0.786668 Validation Accuracy: 0.761029\n",
      "Epoch 27, CIFAR-10 Batch 1:  Loss: 0.873383 Validation Accuracy: 0.718137\n",
      "Epoch 27, CIFAR-10 Batch 2:  Loss: 0.812978 Validation Accuracy: 0.734069\n",
      "Epoch 27, CIFAR-10 Batch 3:  Loss: 0.868144 Validation Accuracy: 0.714461\n",
      "Epoch 27, CIFAR-10 Batch 4:  Loss: 0.846443 Validation Accuracy: 0.723039\n",
      "Epoch 27, CIFAR-10 Batch 5:  Loss: 0.764926 Validation Accuracy: 0.762255\n",
      "Epoch 28, CIFAR-10 Batch 1:  Loss: 0.853865 Validation Accuracy: 0.730392\n",
      "Epoch 28, CIFAR-10 Batch 2:  Loss: 0.802794 Validation Accuracy: 0.731618\n",
      "Epoch 28, CIFAR-10 Batch 3:  Loss: 0.849438 Validation Accuracy: 0.727941\n",
      "Epoch 28, CIFAR-10 Batch 4:  Loss: 0.826334 Validation Accuracy: 0.741422\n",
      "Epoch 28, CIFAR-10 Batch 5:  Loss: 0.747793 Validation Accuracy: 0.770833\n",
      "Epoch 29, CIFAR-10 Batch 1:  Loss: 0.838932 Validation Accuracy: 0.732843\n",
      "Epoch 29, CIFAR-10 Batch 2:  Loss: 0.783458 Validation Accuracy: 0.746324\n",
      "Epoch 29, CIFAR-10 Batch 3:  Loss: 0.835449 Validation Accuracy: 0.721814\n",
      "Epoch 29, CIFAR-10 Batch 4:  Loss: 0.81377 Validation Accuracy: 0.73652\n",
      "Epoch 29, CIFAR-10 Batch 5:  Loss: 0.725389 Validation Accuracy: 0.779412\n",
      "Epoch 30, CIFAR-10 Batch 1:  Loss: 0.813766 Validation Accuracy: 0.735294\n",
      "Epoch 30, CIFAR-10 Batch 2:  Loss: 0.763787 Validation Accuracy: 0.747549\n",
      "Epoch 30, CIFAR-10 Batch 3:  Loss: 0.818083 Validation Accuracy: 0.729167\n",
      "Epoch 30, CIFAR-10 Batch 4:  Loss: 0.798474 Validation Accuracy: 0.743873\n",
      "Epoch 30, CIFAR-10 Batch 5:  Loss: 0.708928 Validation Accuracy: 0.791667\n",
      "Epoch 31, CIFAR-10 Batch 1:  Loss: 0.790762 Validation Accuracy: 0.743873\n",
      "Epoch 31, CIFAR-10 Batch 2:  Loss: 0.743074 Validation Accuracy: 0.759804\n",
      "Epoch 31, CIFAR-10 Batch 3:  Loss: 0.810991 Validation Accuracy: 0.740196\n",
      "Epoch 31, CIFAR-10 Batch 4:  Loss: 0.789984 Validation Accuracy: 0.753677\n",
      "Epoch 31, CIFAR-10 Batch 5:  Loss: 0.700303 Validation Accuracy: 0.792892\n",
      "Epoch 32, CIFAR-10 Batch 1:  Loss: 0.781893 Validation Accuracy: 0.748775\n",
      "Epoch 32, CIFAR-10 Batch 2:  Loss: 0.734818 Validation Accuracy: 0.748775\n",
      "Epoch 32, CIFAR-10 Batch 3:  Loss: 0.805243 Validation Accuracy: 0.737745\n",
      "Epoch 32, CIFAR-10 Batch 4:  Loss: 0.760999 Validation Accuracy: 0.756128\n",
      "Epoch 32, CIFAR-10 Batch 5:  Loss: 0.691 Validation Accuracy: 0.785539\n",
      "Epoch 33, CIFAR-10 Batch 1:  Loss: 0.766834 Validation Accuracy: 0.758579\n",
      "Epoch 33, CIFAR-10 Batch 2:  Loss: 0.731284 Validation Accuracy: 0.756128\n",
      "Epoch 33, CIFAR-10 Batch 3:  Loss: 0.775285 Validation Accuracy: 0.737745\n",
      "Epoch 33, CIFAR-10 Batch 4:  Loss: 0.735268 Validation Accuracy: 0.770833\n",
      "Epoch 33, CIFAR-10 Batch 5:  Loss: 0.676012 Validation Accuracy: 0.797794\n",
      "Epoch 34, CIFAR-10 Batch 1:  Loss: 0.756879 Validation Accuracy: 0.761029\n",
      "Epoch 34, CIFAR-10 Batch 2:  Loss: 0.704642 Validation Accuracy: 0.776961\n",
      "Epoch 34, CIFAR-10 Batch 3:  Loss: 0.781798 Validation Accuracy: 0.743873\n",
      "Epoch 34, CIFAR-10 Batch 4:  Loss: 0.740745 Validation Accuracy: 0.762255\n",
      "Epoch 34, CIFAR-10 Batch 5:  Loss: 0.672472 Validation Accuracy: 0.792892\n",
      "Epoch 35, CIFAR-10 Batch 1:  Loss: 0.74543 Validation Accuracy: 0.757353\n",
      "Epoch 35, CIFAR-10 Batch 2:  Loss: 0.695591 Validation Accuracy: 0.778186\n",
      "Epoch 35, CIFAR-10 Batch 3:  Loss: 0.759227 Validation Accuracy: 0.75\n",
      "Epoch 35, CIFAR-10 Batch 4:  Loss: 0.725263 Validation Accuracy: 0.764706\n",
      "Epoch 35, CIFAR-10 Batch 5:  Loss: 0.671467 Validation Accuracy: 0.79902\n",
      "Epoch 36, CIFAR-10 Batch 1:  Loss: 0.733867 Validation Accuracy: 0.761029\n",
      "Epoch 36, CIFAR-10 Batch 2:  Loss: 0.67827 Validation Accuracy: 0.779412\n",
      "Epoch 36, CIFAR-10 Batch 3:  Loss: 0.759095 Validation Accuracy: 0.746324\n",
      "Epoch 36, CIFAR-10 Batch 4:  Loss: 0.711911 Validation Accuracy: 0.773284\n",
      "Epoch 36, CIFAR-10 Batch 5:  Loss: 0.642349 Validation Accuracy: 0.8125\n",
      "Epoch 37, CIFAR-10 Batch 1:  Loss: 0.731096 Validation Accuracy: 0.762255\n",
      "Epoch 37, CIFAR-10 Batch 2:  Loss: 0.66426 Validation Accuracy: 0.791667\n",
      "Epoch 37, CIFAR-10 Batch 3:  Loss: 0.75138 Validation Accuracy: 0.748775\n",
      "Epoch 37, CIFAR-10 Batch 4:  Loss: 0.696008 Validation Accuracy: 0.779412\n",
      "Epoch 37, CIFAR-10 Batch 5:  Loss: 0.636148 Validation Accuracy: 0.803922\n",
      "Epoch 38, CIFAR-10 Batch 1:  Loss: 0.705658 Validation Accuracy: 0.772059\n",
      "Epoch 38, CIFAR-10 Batch 2:  Loss: 0.658887 Validation Accuracy: 0.794118\n",
      "Epoch 38, CIFAR-10 Batch 3:  Loss: 0.729173 Validation Accuracy: 0.76348\n",
      "Epoch 38, CIFAR-10 Batch 4:  Loss: 0.685666 Validation Accuracy: 0.784314\n",
      "Epoch 38, CIFAR-10 Batch 5:  Loss: 0.620757 Validation Accuracy: 0.817402\n",
      "Epoch 39, CIFAR-10 Batch 1:  Loss: 0.708557 Validation Accuracy: 0.775735\n",
      "Epoch 39, CIFAR-10 Batch 2:  Loss: 0.642154 Validation Accuracy: 0.78799\n",
      "Epoch 39, CIFAR-10 Batch 3:  Loss: 0.717926 Validation Accuracy: 0.767157\n",
      "Epoch 39, CIFAR-10 Batch 4:  Loss: 0.685246 Validation Accuracy: 0.791667\n",
      "Epoch 39, CIFAR-10 Batch 5:  Loss: 0.602262 Validation Accuracy: 0.824755\n",
      "Epoch 40, CIFAR-10 Batch 1:  Loss: 0.679106 Validation Accuracy: 0.776961\n",
      "Epoch 40, CIFAR-10 Batch 2:  Loss: 0.650585 Validation Accuracy: 0.786765\n",
      "Epoch 40, CIFAR-10 Batch 3:  Loss: 0.725081 Validation Accuracy: 0.757353\n",
      "Epoch 40, CIFAR-10 Batch 4:  Loss: 0.656636 Validation Accuracy: 0.797794\n",
      "Epoch 40, CIFAR-10 Batch 5:  Loss: 0.584657 Validation Accuracy: 0.827206\n"
     ]
    }
   ],
   "source": [
    "\"\"\"\n",
    "DON'T MODIFY ANYTHING IN THIS CELL\n",
    "\"\"\"\n",
    "save_model_path = './image_classification'\n",
    "\n",
    "print('Training...')\n",
    "with tf.Session() as sess:\n",
    "    # Initializing the variables\n",
    "    sess.run(tf.global_variables_initializer())\n",
    "    \n",
    "    # Training cycle\n",
    "    for epoch in range(epochs):\n",
    "        # Loop over all batches\n",
    "        n_batches = 5\n",
    "        for batch_i in range(1, n_batches + 1):\n",
    "            for batch_features, batch_labels in helper.load_preprocess_training_batch(batch_i, batch_size):\n",
    "                train_neural_network(sess, optimizer, keep_probability, batch_features, batch_labels)\n",
    "            print('Epoch {:>2}, CIFAR-10 Batch {}:  '.format(epoch + 1, batch_i), end='')\n",
    "            print_stats(sess, batch_features, batch_labels, cost, accuracy)\n",
    "            \n",
    "    # Save Model\n",
    "    saver = tf.train.Saver()\n",
    "    save_path = saver.save(sess, save_model_path)"
   ]
  },
  {
   "cell_type": "markdown",
   "metadata": {
    "deletable": true,
    "editable": true
   },
   "source": [
    "# Checkpoint\n",
    "The model has been saved to disk.\n",
    "## Test Model\n",
    "Test your model against the test dataset.  This will be your final accuracy. You should have an accuracy greater than 50%. If you don't, keep tweaking the model architecture and parameters."
   ]
  },
  {
   "cell_type": "code",
   "execution_count": 74,
   "metadata": {
    "collapsed": false,
    "deletable": true,
    "editable": true
   },
   "outputs": [
    {
     "name": "stdout",
     "output_type": "stream",
     "text": [
      "Testing Accuracy: 0.6256445050239563\n",
      "\n"
     ]
    },
    {
     "data": {
      "image/png": "[encoded data removed]",
      "text/plain": [
       "<matplotlib.figure.Figure at 0x7f8c402bf588>"
      ]
     },
     "metadata": {
      "image/png": {
       "height": 319,
       "width": 355
      }
     },
     "output_type": "display_data"
    }
   ],
   "source": [
    "\"\"\"\n",
    "DON'T MODIFY ANYTHING IN THIS CELL\n",
    "\"\"\"\n",
    "%matplotlib inline\n",
    "%config InlineBackend.figure_format = 'retina'\n",
    "\n",
    "import tensorflow as tf\n",
    "import pickle\n",
    "import helper\n",
    "import random\n",
    "\n",
    "# Set batch size if not already set\n",
    "try:\n",
    "    if batch_size:\n",
    "        pass\n",
    "except NameError:\n",
    "    batch_size = 64\n",
    "\n",
    "save_model_path = './image_classification'\n",
    "n_samples = 4\n",
    "top_n_predictions = 3\n",
    "\n",
    "def test_model():\n",
    "    \"\"\"\n",
    "    Test the saved model against the test dataset\n",
    "    \"\"\"\n",
    "\n",
    "    test_features, test_labels = pickle.load(open('preprocess_test.p', mode='rb'))\n",
    "    loaded_graph = tf.Graph()\n",
    "\n",
    "    with tf.Session(graph=loaded_graph) as sess:\n",
    "        # Load model\n",
    "        loader = tf.train.import_meta_graph(save_model_path + '.meta')\n",
    "        loader.restore(sess, save_model_path)\n",
    "\n",
    "        # Get Tensors from loaded model\n",
    "        loaded_x = loaded_graph.get_tensor_by_name('x:0')\n",
    "        loaded_y = loaded_graph.get_tensor_by_name('y:0')\n",
    "        loaded_keep_prob = loaded_graph.get_tensor_by_name('keep_prob:0')\n",
    "        loaded_logits = loaded_graph.get_tensor_by_name('logits:0')\n",
    "        loaded_acc = loaded_graph.get_tensor_by_name('accuracy:0')\n",
    "        \n",
    "        # Get accuracy in batches for memory limitations\n",
    "        test_batch_acc_total = 0\n",
    "        test_batch_count = 0\n",
    "        \n",
    "        for test_feature_batch, test_label_batch in helper.batch_features_labels(test_features, test_labels, batch_size):\n",
    "            test_batch_acc_total += sess.run(\n",
    "                loaded_acc,\n",
    "                feed_dict={loaded_x: test_feature_batch, loaded_y: test_label_batch, loaded_keep_prob: 1.0})\n",
    "            test_batch_count += 1\n",
    "\n",
    "        print('Testing Accuracy: {}\\n'.format(test_batch_acc_total/test_batch_count))\n",
    "\n",
    "        # Print Random Samples\n",
    "        random_test_features, random_test_labels = tuple(zip(*random.sample(list(zip(test_features, test_labels)), n_samples)))\n",
    "        random_test_predictions = sess.run(\n",
    "            tf.nn.top_k(tf.nn.softmax(loaded_logits), top_n_predictions),\n",
    "            feed_dict={loaded_x: random_test_features, loaded_y: random_test_labels, loaded_keep_prob: 1.0})\n",
    "        helper.display_image_predictions(random_test_features, random_test_labels, random_test_predictions)\n",
    "\n",
    "\n",
    "test_model()"
   ]
  },
  {
   "cell_type": "markdown",
   "metadata": {
    "deletable": true,
    "editable": true
   },
   "source": [
    "## Why 50-80% Accuracy?\n",
    "You might be wondering why you can't get an accuracy any higher. First things first, 50% isn't bad for a simple CNN.  Pure guessing would get you 10% accuracy. However, you might notice people are getting scores [well above 80%](http://rodrigob.github.io/are_we_there_yet/build/classification_datasets_results.html#43494641522d3130).  That's because we haven't taught you all there is to know about neural networks. We still need to cover a few more techniques.\n",
    "## Submitting This Project\n",
    "When submitting this project, make sure to run all the cells before saving the notebook.  Save the notebook file as \"dlnd_image_classification.ipynb\" and save it as a HTML file under \"File\" -> \"Download as\".  Include the \"helper.py\" and \"problem_unittests.py\" files in your submission."
   ]
  }
 ],
 "metadata": {
  "kernelspec": {
   "display_name": "Python 3",
   "language": "python",
   "name": "python3"
  },
  "language_info": {
   "codemirror_mode": {
    "name": "ipython",
    "version": 3
   },
   "file_extension": ".py",
   "mimetype": "text/x-python",
   "name": "python",
   "nbconvert_exporter": "python",
   "pygments_lexer": "ipython3",
   "version": "3.5.2"
  },
  "widgets": {
   "state": {},
   "version": "1.1.2"
  }
 },
 "nbformat": 4,
 "nbformat_minor": 0
}
