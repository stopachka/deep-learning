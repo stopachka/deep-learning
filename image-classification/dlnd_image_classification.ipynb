{
 "cells": [
  {
   "cell_type": "markdown",
   "metadata": {
    "collapsed": true,
    "deletable": true,
    "editable": true
   },
   "source": [
    "# Image Classification\n",
    "In this project, you'll classify images from the [CIFAR-10 dataset](https://www.cs.toronto.edu/~kriz/cifar.html).  The dataset consists of airplanes, dogs, cats, and other objects. You'll preprocess the images, then train a convolutional neural network on all the samples. The images need to be normalized and the labels need to be one-hot encoded.  You'll get to apply what you learned and build a convolutional, max pooling, dropout, and fully connected layers.  At the end, you'll get to see your neural network's predictions on the sample images.\n",
    "## Get the Data\n",
    "Run the following cell to download the [CIFAR-10 dataset for python](https://www.cs.toronto.edu/~kriz/cifar-10-python.tar.gz)."
   ]
  },
  {
   "cell_type": "code",
   "execution_count": 1,
   "metadata": {
    "collapsed": false,
    "deletable": true,
    "editable": true
   },
   "outputs": [
    {
     "name": "stdout",
     "output_type": "stream",
     "text": [
      "All files found!\n"
     ]
    }
   ],
   "source": [
    "\"\"\"\n",
    "DON'T MODIFY ANYTHING IN THIS CELL THAT IS BELOW THIS LINE\n",
    "\"\"\"\n",
    "from urllib.request import urlretrieve\n",
    "from os.path import isfile, isdir\n",
    "from tqdm import tqdm\n",
    "import problem_unittests as tests\n",
    "import tarfile\n",
    "\n",
    "cifar10_dataset_folder_path = 'cifar-10-batches-py'\n",
    "\n",
    "# Use Floyd's cifar-10 dataset if present\n",
    "floyd_cifar10_location = '/input/cifar-10/python.tar.gz'\n",
    "if isfile(floyd_cifar10_location):\n",
    "    tar_gz_path = floyd_cifar10_location\n",
    "else:\n",
    "    tar_gz_path = 'cifar-10-python.tar.gz'\n",
    "\n",
    "class DLProgress(tqdm):\n",
    "    last_block = 0\n",
    "\n",
    "    def hook(self, block_num=1, block_size=1, total_size=None):\n",
    "        self.total = total_size\n",
    "        self.update((block_num - self.last_block) * block_size)\n",
    "        self.last_block = block_num\n",
    "\n",
    "if not isfile(tar_gz_path):\n",
    "    with DLProgress(unit='B', unit_scale=True, miniters=1, desc='CIFAR-10 Dataset') as pbar:\n",
    "        urlretrieve(\n",
    "            'https://www.cs.toronto.edu/~kriz/cifar-10-python.tar.gz',\n",
    "            tar_gz_path,\n",
    "            pbar.hook)\n",
    "\n",
    "if not isdir(cifar10_dataset_folder_path):\n",
    "    with tarfile.open(tar_gz_path) as tar:\n",
    "        tar.extractall()\n",
    "        tar.close()\n",
    "\n",
    "\n",
    "tests.test_folder_path(cifar10_dataset_folder_path)"
   ]
  },
  {
   "cell_type": "markdown",
   "metadata": {
    "deletable": true,
    "editable": true
   },
   "source": [
    "## Explore the Data\n",
    "The dataset is broken into batches to prevent your machine from running out of memory.  The CIFAR-10 dataset consists of 5 batches, named `data_batch_1`, `data_batch_2`, etc.. Each batch contains the labels and images that are one of the following:\n",
    "* airplane\n",
    "* automobile\n",
    "* bird\n",
    "* cat\n",
    "* deer\n",
    "* dog\n",
    "* frog\n",
    "* horse\n",
    "* ship\n",
    "* truck\n",
    "\n",
    "Understanding a dataset is part of making predictions on the data.  Play around with the code cell below by changing the `batch_id` and `sample_id`. The `batch_id` is the id for a batch (1-5). The `sample_id` is the id for a image and label pair in the batch.\n",
    "\n",
    "Ask yourself \"What are all possible labels?\", \"What is the range of values for the image data?\", \"Are the labels in order or random?\".  Answers to questions like these will help you preprocess the data and end up with better predictions."
   ]
  },
  {
   "cell_type": "code",
   "execution_count": 6,
   "metadata": {
    "collapsed": false,
    "deletable": true,
    "editable": true
   },
   "outputs": [
    {
     "name": "stdout",
     "output_type": "stream",
     "text": [
      "\n",
      "Stats of batch 2:\n",
      "Samples: 10000\n",
      "Label Counts: {0: 984, 1: 1007, 2: 1010, 3: 995, 4: 1010, 5: 988, 6: 1008, 7: 1026, 8: 987, 9: 985}\n",
      "First 20 Labels: [1, 6, 6, 8, 8, 3, 4, 6, 0, 6, 0, 3, 6, 6, 5, 4, 8, 3, 2, 6]\n",
      "\n",
      "Example of Image 22:\n",
      "Image - Min Value: 26 Max Value: 255\n",
      "Image - Shape: (32, 32, 3)\n",
      "Label - Label Id: 1 Name: automobile\n"
     ]
    },
    {
     "data": {
      "image/png": "[encoded data removed]",
      "text/plain": [
       "<matplotlib.figure.Figure at 0x7fdde320e978>"
      ]
     },
     "metadata": {
      "image/png": {
       "height": 250,
       "width": 253
      }
     },
     "output_type": "display_data"
    }
   ],
   "source": [
    "%matplotlib inline\n",
    "%config InlineBackend.figure_format = 'retina'\n",
    "\n",
    "import helper\n",
    "import numpy as np\n",
    "\n",
    "# Explore the dataset\n",
    "batch_id = 2\n",
    "sample_id = 22\n",
    "helper.display_stats(cifar10_dataset_folder_path, batch_id, sample_id)"
   ]
  },
  {
   "cell_type": "markdown",
   "metadata": {
    "deletable": true,
    "editable": true
   },
   "source": [
    "## Implement Preprocess Functions\n",
    "### Normalize\n",
    "In the cell below, implement the `normalize` function to take in image data, `x`, and return it as a normalized Numpy array. The values should be in the range of 0 to 1, inclusive.  The return object should be the same shape as `x`."
   ]
  },
  {
   "cell_type": "code",
   "execution_count": 10,
   "metadata": {
    "collapsed": false,
    "deletable": true,
    "editable": true
   },
   "outputs": [
    {
     "name": "stdout",
     "output_type": "stream",
     "text": [
      "Tests Passed\n"
     ]
    }
   ],
   "source": [
    "def normalize(x):\n",
    "    \"\"\"\n",
    "    Normalize a list of sample image data in the range of 0 to 1\n",
    "    : x: List of image data.  The image shape is (32, 32, 3)\n",
    "    : return: Numpy array of normalize data\n",
    "    \"\"\"\n",
    "    # DONE: Implement Function\n",
    "    maxv = np.max(x)\n",
    "    minv = np.min(x)\n",
    "    return  (x - minv) / maxv - minv\n",
    "\n",
    "\n",
    "\"\"\"\n",
    "DON'T MODIFY ANYTHING IN THIS CELL THAT IS BELOW THIS LINE\n",
    "\"\"\"\n",
    "tests.test_normalize(normalize)"
   ]
  },
  {
   "cell_type": "markdown",
   "metadata": {
    "deletable": true,
    "editable": true
   },
   "source": [
    "### One-hot encode\n",
    "Just like the previous code cell, you'll be implementing a function for preprocessing.  This time, you'll implement the `one_hot_encode` function. The input, `x`, are a list of labels.  Implement the function to return the list of labels as One-Hot encoded Numpy array.  The possible values for labels are 0 to 9. The one-hot encoding function should return the same encoding for each value between each call to `one_hot_encode`.  Make sure to save the map of encodings outside the function.\n",
    "\n",
    "Hint: Don't reinvent the wheel."
   ]
  },
  {
   "cell_type": "code",
   "execution_count": 14,
   "metadata": {
    "collapsed": false,
    "deletable": true,
    "editable": true
   },
   "outputs": [
    {
     "name": "stdout",
     "output_type": "stream",
     "text": [
      "Tests Passed\n"
     ]
    }
   ],
   "source": [
    "def one_hot_encode(x):\n",
    "    \"\"\"\n",
    "    One hot encode a list of sample labels. Return a one-hot encoded vector for each label.\n",
    "    : x: List of sample Labels\n",
    "    : return: Numpy array of one-hot encoded labels\n",
    "    \"\"\"\n",
    "    # TODO: Implement Function\n",
    "    return np.eye(10)[x]\n",
    "\n",
    "\n",
    "\"\"\"\n",
    "DON'T MODIFY ANYTHING IN THIS CELL THAT IS BELOW THIS LINE\n",
    "\"\"\"\n",
    "tests.test_one_hot_encode(one_hot_encode)"
   ]
  },
  {
   "cell_type": "markdown",
   "metadata": {
    "deletable": true,
    "editable": true
   },
   "source": [
    "### Randomize Data\n",
    "As you saw from exploring the data above, the order of the samples are randomized.  It doesn't hurt to randomize it again, but you don't need to for this dataset."
   ]
  },
  {
   "cell_type": "markdown",
   "metadata": {
    "deletable": true,
    "editable": true
   },
   "source": [
    "## Preprocess all the data and save it\n",
    "Running the code cell below will preprocess all the CIFAR-10 data and save it to file. The code below also uses 10% of the training data for validation."
   ]
  },
  {
   "cell_type": "code",
   "execution_count": 15,
   "metadata": {
    "collapsed": false,
    "deletable": true,
    "editable": true
   },
   "outputs": [],
   "source": [
    "\"\"\"\n",
    "DON'T MODIFY ANYTHING IN THIS CELL\n",
    "\"\"\"\n",
    "# Preprocess Training, Validation, and Testing Data\n",
    "helper.preprocess_and_save_data(cifar10_dataset_folder_path, normalize, one_hot_encode)"
   ]
  },
  {
   "cell_type": "markdown",
   "metadata": {
    "deletable": true,
    "editable": true
   },
   "source": [
    "# Check Point\n",
    "This is your first checkpoint.  If you ever decide to come back to this notebook or have to restart the notebook, you can start from here.  The preprocessed data has been saved to disk."
   ]
  },
  {
   "cell_type": "code",
   "execution_count": 2,
   "metadata": {
    "collapsed": false,
    "deletable": true,
    "editable": true
   },
   "outputs": [],
   "source": [
    "\"\"\"\n",
    "DON'T MODIFY ANYTHING IN THIS CELL\n",
    "\"\"\"\n",
    "import pickle\n",
    "import problem_unittests as tests\n",
    "import helper\n",
    "\n",
    "# Load the Preprocessed Validation data\n",
    "valid_features, valid_labels = pickle.load(open('preprocess_validation.p', mode='rb'))"
   ]
  },
  {
   "cell_type": "markdown",
   "metadata": {
    "deletable": true,
    "editable": true
   },
   "source": [
    "## Build the network\n",
    "For the neural network, you'll build each layer into a function.  Most of the code you've seen has been outside of functions. To test your code more thoroughly, we require that you put each layer in a function.  This allows us to give you better feedback and test for simple mistakes using our unittests before you submit your project.\n",
    "\n",
    ">**Note:** If you're finding it hard to dedicate enough time for this course each week, we've provided a small shortcut to this part of the project. In the next couple of problems, you'll have the option to use classes from the [TensorFlow Layers](https://www.tensorflow.org/api_docs/python/tf/layers) or [TensorFlow Layers (contrib)](https://www.tensorflow.org/api_guides/python/contrib.layers) packages to build each layer, except the layers you build in the \"Convolutional and Max Pooling Layer\" section.  TF Layers is similar to Keras's and TFLearn's abstraction to layers, so it's easy to pickup.\n",
    "\n",
    ">However, if you would like to get the most out of this course, try to solve all the problems _without_ using anything from the TF Layers packages. You **can** still use classes from other packages that happen to have the same name as ones you find in TF Layers! For example, instead of using the TF Layers version of the `conv2d` class, [tf.layers.conv2d](https://www.tensorflow.org/api_docs/python/tf/layers/conv2d), you would want to use the TF Neural Network version of `conv2d`, [tf.nn.conv2d](https://www.tensorflow.org/api_docs/python/tf/nn/conv2d). \n",
    "\n",
    "Let's begin!\n",
    "\n",
    "### Input\n",
    "The neural network needs to read the image data, one-hot encoded labels, and dropout keep probability. Implement the following functions\n",
    "* Implement `neural_net_image_input`\n",
    " * Return a [TF Placeholder](https://www.tensorflow.org/api_docs/python/tf/placeholder)\n",
    " * Set the shape using `image_shape` with batch size set to `None`.\n",
    " * Name the TensorFlow placeholder \"x\" using the TensorFlow `name` parameter in the [TF Placeholder](https://www.tensorflow.org/api_docs/python/tf/placeholder).\n",
    "* Implement `neural_net_label_input`\n",
    " * Return a [TF Placeholder](https://www.tensorflow.org/api_docs/python/tf/placeholder)\n",
    " * Set the shape using `n_classes` with batch size set to `None`.\n",
    " * Name the TensorFlow placeholder \"y\" using the TensorFlow `name` parameter in the [TF Placeholder](https://www.tensorflow.org/api_docs/python/tf/placeholder).\n",
    "* Implement `neural_net_keep_prob_input`\n",
    " * Return a [TF Placeholder](https://www.tensorflow.org/api_docs/python/tf/placeholder) for dropout keep probability.\n",
    " * Name the TensorFlow placeholder \"keep_prob\" using the TensorFlow `name` parameter in the [TF Placeholder](https://www.tensorflow.org/api_docs/python/tf/placeholder).\n",
    "\n",
    "These names will be used at the end of the project to load your saved model.\n",
    "\n",
    "Note: `None` for shapes in TensorFlow allow for a dynamic size."
   ]
  },
  {
   "cell_type": "code",
   "execution_count": 3,
   "metadata": {
    "collapsed": false,
    "deletable": true,
    "editable": true
   },
   "outputs": [
    {
     "name": "stdout",
     "output_type": "stream",
     "text": [
      "Image Input Tests Passed.\n",
      "Label Input Tests Passed.\n",
      "Keep Prob Tests Passed.\n"
     ]
    }
   ],
   "source": [
    "import tensorflow as tf\n",
    "\n",
    "def neural_net_image_input(image_shape):\n",
    "    \"\"\"\n",
    "    Return a Tensor for a batch of image input\n",
    "    : image_shape: Shape of the images\n",
    "    : return: Tensor for image input.\n",
    "    \"\"\"\n",
    "    # DONE: Implement Function\n",
    "    return tf.placeholder(tf.float32,  [None, *image_shape], name='x')\n",
    "\n",
    "\n",
    "def neural_net_label_input(n_classes):\n",
    "    \"\"\"\n",
    "    Return a Tensor for a batch of label input\n",
    "    : n_classes: Number of classes\n",
    "    : return: Tensor for label input.\n",
    "    \"\"\"\n",
    "    # DONE: Implement Function\n",
    "    return tf.placeholder(tf.float32, [None, n_classes], name='y')\n",
    "\n",
    "\n",
    "def neural_net_keep_prob_input():\n",
    "    \"\"\"\n",
    "    Return a Tensor for keep probability\n",
    "    : return: Tensor for keep probability.\n",
    "    \"\"\"\n",
    "    # TODO: Implement Function\n",
    "    return tf.placeholder(tf.float32, name='keep_prob')\n",
    "\n",
    "\n",
    "\"\"\"\n",
    "DON'T MODIFY ANYTHING IN THIS CELL THAT IS BELOW THIS LINE\n",
    "\"\"\"\n",
    "tf.reset_default_graph()\n",
    "tests.test_nn_image_inputs(neural_net_image_input)\n",
    "tests.test_nn_label_inputs(neural_net_label_input)\n",
    "tests.test_nn_keep_prob_inputs(neural_net_keep_prob_input)"
   ]
  },
  {
   "cell_type": "markdown",
   "metadata": {
    "deletable": true,
    "editable": true
   },
   "source": [
    "### Convolution and Max Pooling Layer\n",
    "Convolution layers have a lot of success with images. For this code cell, you should implement the function `conv2d_maxpool` to apply convolution then max pooling:\n",
    "* Create the weight and bias using `conv_ksize`, `conv_num_outputs` and the shape of `x_tensor`.\n",
    "* Apply a convolution to `x_tensor` using weight and `conv_strides`.\n",
    " * We recommend you use same padding, but you're welcome to use any padding.\n",
    "* Add bias\n",
    "* Add a nonlinear activation to the convolution.\n",
    "* Apply Max Pooling using `pool_ksize` and `pool_strides`.\n",
    " * We recommend you use same padding, but you're welcome to use any padding.\n",
    "\n",
    "**Note:** You **can't** use [TensorFlow Layers](https://www.tensorflow.org/api_docs/python/tf/layers) or [TensorFlow Layers (contrib)](https://www.tensorflow.org/api_guides/python/contrib.layers) for **this** layer, but you can still use TensorFlow's [Neural Network](https://www.tensorflow.org/api_docs/python/tf/nn) package. You may still use the shortcut option for all the **other** layers."
   ]
  },
  {
   "cell_type": "code",
   "execution_count": 4,
   "metadata": {
    "collapsed": false,
    "deletable": true,
    "editable": true
   },
   "outputs": [
    {
     "name": "stdout",
     "output_type": "stream",
     "text": [
      "Tests Passed\n"
     ]
    }
   ],
   "source": [
    "def conv_layer(x_tensor, conv_num_outputs, conv_ksize, conv_strides):\n",
    "    w = tf.Variable(\n",
    "        tf.truncated_normal(\n",
    "            [conv_ksize[0], conv_ksize[1], x_tensor.shape.as_list()[-1], conv_num_outputs],\n",
    "            stddev=0.01\n",
    "        ),\n",
    "    )\n",
    "    b = tf.Variable(tf.zeros([conv_num_outputs]))\n",
    "    return tf.nn.bias_add(\n",
    "        tf.nn.conv2d(x_tensor, w, [1, *conv_strides, 1], padding='SAME'),\n",
    "        b\n",
    "    )\n",
    "    \n",
    "def max_pool(inp, pool_ksize, pool_strides): \n",
    "    return tf.nn.max_pool(\n",
    "        inp, \n",
    "        [1, *pool_ksize, 1], \n",
    "        [1, *pool_strides, 1],\n",
    "        padding='SAME'\n",
    "    )\n",
    "    \n",
    "def conv2d_maxpool(x_tensor, conv_num_outputs, conv_ksize, conv_strides, pool_ksize, pool_strides):\n",
    "    \"\"\"\n",
    "    Apply convolution then max pooling to x_tensor\n",
    "    :param x_tensor: TensorFlow Tensor\n",
    "    :param conv_num_outputs: Number of outputs for the convolutional layer\n",
    "    :param conv_ksize: kernal size 2-D Tuple for the convolutional layer\n",
    "    :param conv_strides: Stride 2-D Tuple for convolution\n",
    "    :param pool_ksize: kernal size 2-D Tuple for pool\n",
    "    :param pool_strides: Stride 2-D Tuple for pool\n",
    "    : return: A tensor that represents convolution and max pooling of x_tensor\n",
    "    \"\"\"\n",
    "\n",
    "    # DONE: Implement Function\n",
    "    return max_pool(\n",
    "        tf.nn.relu(\n",
    "            conv_layer(x_tensor, conv_num_outputs, conv_ksize, conv_strides)\n",
    "        ),\n",
    "        pool_ksize, \n",
    "        pool_strides,\n",
    "    )\n",
    "\n",
    "\n",
    "# personal test\n",
    "def personal_test():\n",
    "    test_x = tf.placeholder(tf.float32, [None, 32, 32, 5])\n",
    "    test_num_outputs = 10\n",
    "    test_con_k = (2, 2)\n",
    "    test_con_s = (4, 4)\n",
    "    test_pool_k = (2, 2)\n",
    "    test_pool_s = (2, 2)\n",
    "\n",
    "    conv2d_maxpool_out = conv2d_maxpool(test_x, test_num_outputs, test_con_k, test_con_s, test_pool_k, test_pool_s)\n",
    "\n",
    "\n",
    "# personal_test()\n",
    "\n",
    "\"\"\"\n",
    "DON'T MODIFY ANYTHING IN THIS CELL THAT IS BELOW THIS LINE\n",
    "\"\"\"\n",
    "tests.test_con_pool(conv2d_maxpool)"
   ]
  },
  {
   "cell_type": "markdown",
   "metadata": {
    "deletable": true,
    "editable": true
   },
   "source": [
    "### Flatten Layer\n",
    "Implement the `flatten` function to change the dimension of `x_tensor` from a 4-D tensor to a 2-D tensor.  The output should be the shape (*Batch Size*, *Flattened Image Size*). Shortcut option: you can use classes from the [TensorFlow Layers](https://www.tensorflow.org/api_docs/python/tf/layers) or [TensorFlow Layers (contrib)](https://www.tensorflow.org/api_guides/python/contrib.layers) packages for this layer. For more of a challenge, only use other TensorFlow packages."
   ]
  },
  {
   "cell_type": "code",
   "execution_count": 5,
   "metadata": {
    "collapsed": false,
    "deletable": true,
    "editable": true
   },
   "outputs": [
    {
     "name": "stdout",
     "output_type": "stream",
     "text": [
      "Tests Passed\n"
     ]
    }
   ],
   "source": [
    "import tensorflow as tf\n",
    "\n",
    "def flatten(x_tensor):\n",
    "    \"\"\"\n",
    "    Flatten x_tensor to (Batch Size, Flattened Image Size)\n",
    "    : x_tensor: A tensor of size (Batch Size, ...), where ... are the image dimensions.\n",
    "    : return: A tensor of size (Batch Size, Flattened Image Size).\n",
    "    \"\"\"\n",
    "    # DONE: Implement Function\n",
    "    return tf.contrib.layers.flatten(x_tensor)\n",
    "\n",
    "\n",
    "\"\"\"\n",
    "DON'T MODIFY ANYTHING IN THIS CELL THAT IS BELOW THIS LINE\n",
    "\"\"\"\n",
    "tests.test_flatten(flatten)"
   ]
  },
  {
   "cell_type": "markdown",
   "metadata": {
    "deletable": true,
    "editable": true
   },
   "source": [
    "### Fully-Connected Layer\n",
    "Implement the `fully_conn` function to apply a fully connected layer to `x_tensor` with the shape (*Batch Size*, *num_outputs*). Shortcut option: you can use classes from the [TensorFlow Layers](https://www.tensorflow.org/api_docs/python/tf/layers) or [TensorFlow Layers (contrib)](https://www.tensorflow.org/api_guides/python/contrib.layers) packages for this layer. For more of a challenge, only use other TensorFlow packages."
   ]
  },
  {
   "cell_type": "code",
   "execution_count": 6,
   "metadata": {
    "collapsed": false,
    "deletable": true,
    "editable": true
   },
   "outputs": [
    {
     "name": "stdout",
     "output_type": "stream",
     "text": [
      "Tests Passed\n"
     ]
    }
   ],
   "source": [
    "def fully_conn(x_tensor, num_outputs):\n",
    "    \"\"\"\n",
    "    Apply a fully connected layer to x_tensor using weight and bias\n",
    "    : x_tensor: A 2-D tensor where the first dimension is batch size.\n",
    "    : num_outputs: The number of output that the new tensor should be.\n",
    "    : return: A 2-D tensor where the second dimension is num_outputs.\n",
    "    \"\"\"\n",
    "    # DONE: Implement Function\n",
    "    return tf.contrib.layers.fully_connected(\n",
    "        x_tensor,\n",
    "        num_outputs\n",
    "    )\n",
    "\n",
    "\n",
    "\"\"\"\n",
    "DON'T MODIFY ANYTHING IN THIS CELL THAT IS BELOW THIS LINE\n",
    "\"\"\"\n",
    "tests.test_fully_conn(fully_conn)"
   ]
  },
  {
   "cell_type": "markdown",
   "metadata": {
    "deletable": true,
    "editable": true
   },
   "source": [
    "### Output Layer\n",
    "Implement the `output` function to apply a fully connected layer to `x_tensor` with the shape (*Batch Size*, *num_outputs*). Shortcut option: you can use classes from the [TensorFlow Layers](https://www.tensorflow.org/api_docs/python/tf/layers) or [TensorFlow Layers (contrib)](https://www.tensorflow.org/api_guides/python/contrib.layers) packages for this layer. For more of a challenge, only use other TensorFlow packages.\n",
    "\n",
    "**Note:** Activation, softmax, or cross entropy should **not** be applied to this."
   ]
  },
  {
   "cell_type": "code",
   "execution_count": 7,
   "metadata": {
    "collapsed": false,
    "deletable": true,
    "editable": true
   },
   "outputs": [
    {
     "name": "stdout",
     "output_type": "stream",
     "text": [
      "Tests Passed\n"
     ]
    }
   ],
   "source": [
    "def output(x_tensor, num_outputs):\n",
    "    \"\"\"\n",
    "    Apply a output layer to x_tensor using weight and bias\n",
    "    : x_tensor: A 2-D tensor where the first dimension is batch size.\n",
    "    : num_outputs: The number of output that the new tensor should be.\n",
    "    : return: A 2-D tensor where the second dimension is num_outputs.\n",
    "    \"\"\"\n",
    "    # DONE: Implement Function\n",
    "    return tf.contrib.layers.fully_connected(\n",
    "        x_tensor,\n",
    "        num_outputs,\n",
    "        activation_fn=None,\n",
    "    )\n",
    "\n",
    "\n",
    "\"\"\"\n",
    "DON'T MODIFY ANYTHING IN THIS CELL THAT IS BELOW THIS LINE\n",
    "\"\"\"\n",
    "tests.test_output(output)"
   ]
  },
  {
   "cell_type": "markdown",
   "metadata": {
    "deletable": true,
    "editable": true
   },
   "source": [
    "### Create Convolutional Model\n",
    "Implement the function `conv_net` to create a convolutional neural network model. The function takes in a batch of images, `x`, and outputs logits.  Use the layers you created above to create this model:\n",
    "\n",
    "* Apply 1, 2, or 3 Convolution and Max Pool layers\n",
    "* Apply a Flatten Layer\n",
    "* Apply 1, 2, or 3 Fully Connected Layers\n",
    "* Apply an Output Layer\n",
    "* Return the output\n",
    "* Apply [TensorFlow's Dropout](https://www.tensorflow.org/api_docs/python/tf/nn/dropout) to one or more layers in the model using `keep_prob`. "
   ]
  },
  {
   "cell_type": "code",
   "execution_count": 8,
   "metadata": {
    "collapsed": false,
    "deletable": true,
    "editable": true
   },
   "outputs": [
    {
     "name": "stdout",
     "output_type": "stream",
     "text": [
      "Neural Network Built!\n"
     ]
    }
   ],
   "source": [
    "def conv_net(x, keep_prob):\n",
    "    \"\"\"\n",
    "    Create a convolutional neural network model\n",
    "    : x: Placeholder tensor that holds image data.\n",
    "    : keep_prob: Placeholder tensor that hold dropout keep probability.\n",
    "    : return: Tensor that represents logits\n",
    "    \"\"\"\n",
    "    # DONE: Apply 1, 2, or 3 Convolution and Max Pool layers\n",
    "    #    Play around with different number of outputs, kernel size and stride\n",
    "    # Function Definition from Above:\n",
    "    #    conv2d_maxpool(x_tensor, conv_num_outputs, conv_ksize, conv_strides, pool_ksize, pool_strides)\n",
    "    res = x\n",
    "    \n",
    "    res = conv2d_maxpool(\n",
    "        res, \n",
    "        conv_num_outputs=32, \n",
    "        conv_ksize=(4, 4), \n",
    "        conv_strides=(1, 1), \n",
    "        pool_ksize=(2,2), \n",
    "        pool_strides=(2,2)\n",
    "    )\n",
    "    \n",
    "    res = conv2d_maxpool(\n",
    "        res, \n",
    "        conv_num_outputs=64, \n",
    "        conv_ksize=(8, 8), \n",
    "        conv_strides=(1, 1), \n",
    "        pool_ksize=(2,2),\n",
    "        pool_strides=(2,2)\n",
    "    )\n",
    "        \n",
    "    # DONE: Apply a Flatten Layer\n",
    "    # Function Definition from Above:\n",
    "    #   flatten(x_tensor)\n",
    "    res = flatten(res)\n",
    "    \n",
    "    res = tf.nn.dropout(res, keep_prob)\n",
    "\n",
    "    # DONE: Apply 1, 2, or 3 Fully Connected Layers\n",
    "    #    Play around with different number of outputs\n",
    "    # Function Definition from Above:\n",
    "    #   fully_conn(x_tensor, num_outputs)\n",
    "    res = fully_conn(res, 128)\n",
    "    \n",
    "    # DONE: Apply an Output Layer\n",
    "    #    Set this to the number of classes\n",
    "    # Function Definition from Above:\n",
    "    #   output(x_tensor, num_outputs)\n",
    "    \n",
    "    res = output(res, 10)\n",
    "    \n",
    "    # TODO: return output\n",
    "    return res\n",
    "\n",
    "\"\"\"\n",
    "DON'T MODIFY ANYTHING IN THIS CELL THAT IS BELOW THIS LINE\n",
    "\"\"\"\n",
    "\n",
    "##############################\n",
    "## Build the Neural Network ##\n",
    "##############################\n",
    "\n",
    "# Remove previous weights, bias, inputs, etc..\n",
    "tf.reset_default_graph()\n",
    "\n",
    "# Inputs\n",
    "x = neural_net_image_input((32, 32, 3))\n",
    "y = neural_net_label_input(10)\n",
    "keep_prob = neural_net_keep_prob_input()\n",
    "\n",
    "# Model\n",
    "logits = conv_net(x, keep_prob)\n",
    "\n",
    "# Name logits Tensor, so that is can be loaded from disk after training\n",
    "logits = tf.identity(logits, name='logits')\n",
    "\n",
    "# Loss and Optimizer\n",
    "cost = tf.reduce_mean(tf.nn.softmax_cross_entropy_with_logits(logits=logits, labels=y))\n",
    "optimizer = tf.train.AdamOptimizer().minimize(cost)\n",
    "\n",
    "# Accuracy\n",
    "correct_pred = tf.equal(tf.argmax(logits, 1), tf.argmax(y, 1))\n",
    "accuracy = tf.reduce_mean(tf.cast(correct_pred, tf.float32), name='accuracy')\n",
    "\n",
    "tests.test_conv_net(conv_net)"
   ]
  },
  {
   "cell_type": "markdown",
   "metadata": {
    "deletable": true,
    "editable": true
   },
   "source": [
    "## Train the Neural Network\n",
    "### Single Optimization\n",
    "Implement the function `train_neural_network` to do a single optimization.  The optimization should use `optimizer` to optimize in `session` with a `feed_dict` of the following:\n",
    "* `x` for image input\n",
    "* `y` for labels\n",
    "* `keep_prob` for keep probability for dropout\n",
    "\n",
    "This function will be called for each batch, so `tf.global_variables_initializer()` has already been called.\n",
    "\n",
    "Note: Nothing needs to be returned. This function is only optimizing the neural network."
   ]
  },
  {
   "cell_type": "code",
   "execution_count": 9,
   "metadata": {
    "collapsed": false,
    "deletable": true,
    "editable": true
   },
   "outputs": [
    {
     "name": "stdout",
     "output_type": "stream",
     "text": [
      "Tests Passed\n"
     ]
    }
   ],
   "source": [
    "def train_neural_network(session, optimizer, keep_probability, feature_batch, label_batch):\n",
    "    \"\"\"\n",
    "    Optimize the session on a batch of images and labels\n",
    "    : session: Current TensorFlow session\n",
    "    : optimizer: TensorFlow optimizer function\n",
    "    : keep_probability: keep probability\n",
    "    : feature_batch: Batch of Numpy image data\n",
    "    : label_batch: Batch of Numpy label data\n",
    "    \"\"\"\n",
    "    # DONE: Implement Function\n",
    "    session.run(optimizer, feed_dict={x: feature_batch, y: label_batch, keep_prob: keep_probability})\n",
    "\n",
    "\n",
    "\"\"\"\n",
    "DON'T MODIFY ANYTHING IN THIS CELL THAT IS BELOW THIS LINE\n",
    "\"\"\"\n",
    "tests.test_train_nn(train_neural_network)"
   ]
  },
  {
   "cell_type": "markdown",
   "metadata": {
    "deletable": true,
    "editable": true
   },
   "source": [
    "### Show Stats\n",
    "Implement the function `print_stats` to print loss and validation accuracy.  Use the global variables `valid_features` and `valid_labels` to calculate validation accuracy.  Use a keep probability of `1.0` to calculate the loss and validation accuracy."
   ]
  },
  {
   "cell_type": "code",
   "execution_count": 10,
   "metadata": {
    "collapsed": false,
    "deletable": true,
    "editable": true
   },
   "outputs": [],
   "source": [
    "def print_stats(session, feature_batch, label_batch, cost, accuracy):\n",
    "    \"\"\"\n",
    "    Print information about loss and validation accuracy\n",
    "    : session: Current TensorFlow session\n",
    "    : feature_batch: Batch of Numpy image data\n",
    "    : label_batch: Batch of Numpy label data\n",
    "    : cost: TensorFlow cost function\n",
    "    : accuracy: TensorFlow accuracy function\n",
    "    \"\"\"\n",
    "    # DONE: Implement Function\n",
    "    print(\n",
    "        'Loss:',\n",
    "        session.run(\n",
    "            cost, \n",
    "            feed_dict={\n",
    "                x: feature_batch,\n",
    "                y: label_batch,\n",
    "                keep_prob: 1.\n",
    "            },\n",
    "        ),\n",
    "        'Validation Accuracy:',\n",
    "        session.run(\n",
    "            accuracy, \n",
    "            feed_dict={\n",
    "                x: valid_features, \n",
    "                y: valid_labels,\n",
    "                keep_prob: 1.\n",
    "            },\n",
    "        ),\n",
    "    )"
   ]
  },
  {
   "cell_type": "markdown",
   "metadata": {
    "deletable": true,
    "editable": true
   },
   "source": [
    "### Hyperparameters\n",
    "Tune the following parameters:\n",
    "* Set `epochs` to the number of iterations until the network stops learning or start overfitting\n",
    "* Set `batch_size` to the highest number that your machine has memory for.  Most people set them to common sizes of memory:\n",
    " * 64\n",
    " * 128\n",
    " * 256\n",
    " * ...\n",
    "* Set `keep_probability` to the probability of keeping a node using dropout"
   ]
  },
  {
   "cell_type": "code",
   "execution_count": 11,
   "metadata": {
    "collapsed": true,
    "deletable": true,
    "editable": true
   },
   "outputs": [],
   "source": [
    "# TODO: Tune Parameters\n",
    "epochs = 40\n",
    "batch_size = 2046\n",
    "keep_probability = 0.7"
   ]
  },
  {
   "cell_type": "markdown",
   "metadata": {
    "deletable": true,
    "editable": true
   },
   "source": [
    "### Train on a Single CIFAR-10 Batch\n",
    "Instead of training the neural network on all the CIFAR-10 batches of data, let's use a single batch. This should save time while you iterate on the model to get a better accuracy.  Once the final validation accuracy is 50% or greater, run the model on all the data in the next section."
   ]
  },
  {
   "cell_type": "code",
   "execution_count": 12,
   "metadata": {
    "collapsed": false,
    "deletable": true,
    "editable": true
   },
   "outputs": [
    {
     "name": "stdout",
     "output_type": "stream",
     "text": [
      "Checking the Training on a Single Batch...\n",
      "Epoch  1, CIFAR-10 Batch 1:  Loss: 2.23891 Validation Accuracy: 0.2016\n",
      "Epoch  2, CIFAR-10 Batch 1:  Loss: 2.1492 Validation Accuracy: 0.2358\n",
      "Epoch  3, CIFAR-10 Batch 1:  Loss: 2.01178 Validation Accuracy: 0.291\n",
      "Epoch  4, CIFAR-10 Batch 1:  Loss: 2.07484 Validation Accuracy: 0.2452\n",
      "Epoch  5, CIFAR-10 Batch 1:  Loss: 1.94783 Validation Accuracy: 0.2956\n",
      "Epoch  6, CIFAR-10 Batch 1:  Loss: 1.86536 Validation Accuracy: 0.3408\n",
      "Epoch  7, CIFAR-10 Batch 1:  Loss: 1.83033 Validation Accuracy: 0.3598\n",
      "Epoch  8, CIFAR-10 Batch 1:  Loss: 1.78921 Validation Accuracy: 0.3746\n",
      "Epoch  9, CIFAR-10 Batch 1:  Loss: 1.70598 Validation Accuracy: 0.3912\n",
      "Epoch 10, CIFAR-10 Batch 1:  Loss: 1.65855 Validation Accuracy: 0.4\n",
      "Epoch 11, CIFAR-10 Batch 1:  Loss: 1.62986 Validation Accuracy: 0.408\n",
      "Epoch 12, CIFAR-10 Batch 1:  Loss: 1.58874 Validation Accuracy: 0.4172\n",
      "Epoch 13, CIFAR-10 Batch 1:  Loss: 1.54009 Validation Accuracy: 0.4406\n",
      "Epoch 14, CIFAR-10 Batch 1:  Loss: 1.49961 Validation Accuracy: 0.4474\n",
      "Epoch 15, CIFAR-10 Batch 1:  Loss: 1.45764 Validation Accuracy: 0.4456\n",
      "Epoch 16, CIFAR-10 Batch 1:  Loss: 1.42917 Validation Accuracy: 0.4604\n",
      "Epoch 17, CIFAR-10 Batch 1:  Loss: 1.3916 Validation Accuracy: 0.465\n",
      "Epoch 18, CIFAR-10 Batch 1:  Loss: 1.35629 Validation Accuracy: 0.47\n",
      "Epoch 19, CIFAR-10 Batch 1:  Loss: 1.33654 Validation Accuracy: 0.4736\n",
      "Epoch 20, CIFAR-10 Batch 1:  Loss: 1.30762 Validation Accuracy: 0.481\n",
      "Epoch 21, CIFAR-10 Batch 1:  Loss: 1.27782 Validation Accuracy: 0.4866\n",
      "Epoch 22, CIFAR-10 Batch 1:  Loss: 1.25921 Validation Accuracy: 0.491\n",
      "Epoch 23, CIFAR-10 Batch 1:  Loss: 1.23631 Validation Accuracy: 0.494\n",
      "Epoch 24, CIFAR-10 Batch 1:  Loss: 1.21726 Validation Accuracy: 0.4954\n",
      "Epoch 25, CIFAR-10 Batch 1:  Loss: 1.29502 Validation Accuracy: 0.4684\n",
      "Epoch 26, CIFAR-10 Batch 1:  Loss: 1.25408 Validation Accuracy: 0.4856\n",
      "Epoch 27, CIFAR-10 Batch 1:  Loss: 1.18194 Validation Accuracy: 0.501\n",
      "Epoch 28, CIFAR-10 Batch 1:  Loss: 1.14546 Validation Accuracy: 0.517\n",
      "Epoch 29, CIFAR-10 Batch 1:  Loss: 1.13367 Validation Accuracy: 0.517\n",
      "Epoch 30, CIFAR-10 Batch 1:  Loss: 1.09764 Validation Accuracy: 0.5212\n",
      "Epoch 31, CIFAR-10 Batch 1:  Loss: 1.09952 Validation Accuracy: 0.5192\n",
      "Epoch 32, CIFAR-10 Batch 1:  Loss: 1.0589 Validation Accuracy: 0.5246\n",
      "Epoch 33, CIFAR-10 Batch 1:  Loss: 1.06597 Validation Accuracy: 0.5248\n",
      "Epoch 34, CIFAR-10 Batch 1:  Loss: 1.03973 Validation Accuracy: 0.525\n",
      "Epoch 35, CIFAR-10 Batch 1:  Loss: 1.0054 Validation Accuracy: 0.5346\n",
      "Epoch 36, CIFAR-10 Batch 1:  Loss: 0.993772 Validation Accuracy: 0.5404\n",
      "Epoch 37, CIFAR-10 Batch 1:  Loss: 0.964979 Validation Accuracy: 0.5386\n",
      "Epoch 38, CIFAR-10 Batch 1:  Loss: 0.950511 Validation Accuracy: 0.5422\n",
      "Epoch 39, CIFAR-10 Batch 1:  Loss: 0.928931 Validation Accuracy: 0.545\n",
      "Epoch 40, CIFAR-10 Batch 1:  Loss: 0.918265 Validation Accuracy: 0.5466\n"
     ]
    }
   ],
   "source": [
    "import helper\n",
    "\n",
    "\"\"\"\n",
    "DON'T MODIFY ANYTHING IN THIS CELL\n",
    "\"\"\"\n",
    "print('Checking the Training on a Single Batch...')\n",
    "with tf.Session() as sess:\n",
    "    # Initializing the variables\n",
    "    sess.run(tf.global_variables_initializer())\n",
    "    \n",
    "    # Training cycle\n",
    "    for epoch in range(epochs):\n",
    "        batch_i = 1\n",
    "        for batch_features, batch_labels in helper.load_preprocess_training_batch(batch_i, batch_size):\n",
    "            train_neural_network(sess, optimizer, keep_probability, batch_features, batch_labels)\n",
    "        print('Epoch {:>2}, CIFAR-10 Batch {}:  '.format(epoch + 1, batch_i), end='')\n",
    "        print_stats(sess, batch_features, batch_labels, cost, accuracy)"
   ]
  },
  {
   "cell_type": "markdown",
   "metadata": {
    "deletable": true,
    "editable": true
   },
   "source": [
    "### Fully Train the Model\n",
    "Now that you got a good accuracy with a single CIFAR-10 batch, try it with all five batches."
   ]
  },
  {
   "cell_type": "code",
   "execution_count": 13,
   "metadata": {
    "collapsed": false,
    "deletable": true,
    "editable": true
   },
   "outputs": [
    {
     "name": "stdout",
     "output_type": "stream",
     "text": [
      "Training...\n",
      "Epoch  1, CIFAR-10 Batch 1:  Loss: 2.23135 Validation Accuracy: 0.1588\n",
      "Epoch  1, CIFAR-10 Batch 2:  Loss: 2.1404 Validation Accuracy: 0.202\n",
      "Epoch  1, CIFAR-10 Batch 3:  Loss: 2.05688 Validation Accuracy: 0.251\n",
      "Epoch  1, CIFAR-10 Batch 4:  Loss: 1.9911 Validation Accuracy: 0.2396\n",
      "Epoch  1, CIFAR-10 Batch 5:  Loss: 1.95541 Validation Accuracy: 0.281\n",
      "Epoch  2, CIFAR-10 Batch 1:  Loss: 1.94014 Validation Accuracy: 0.3128\n",
      "Epoch  2, CIFAR-10 Batch 2:  Loss: 1.86082 Validation Accuracy: 0.3356\n",
      "Epoch  2, CIFAR-10 Batch 3:  Loss: 1.7501 Validation Accuracy: 0.3564\n",
      "Epoch  2, CIFAR-10 Batch 4:  Loss: 1.72018 Validation Accuracy: 0.3798\n",
      "Epoch  2, CIFAR-10 Batch 5:  Loss: 1.69294 Validation Accuracy: 0.4\n",
      "Epoch  3, CIFAR-10 Batch 1:  Loss: 1.65283 Validation Accuracy: 0.4028\n",
      "Epoch  3, CIFAR-10 Batch 2:  Loss: 1.64622 Validation Accuracy: 0.4014\n",
      "Epoch  3, CIFAR-10 Batch 3:  Loss: 1.59082 Validation Accuracy: 0.4106\n",
      "Epoch  3, CIFAR-10 Batch 4:  Loss: 1.56021 Validation Accuracy: 0.4274\n",
      "Epoch  3, CIFAR-10 Batch 5:  Loss: 1.54865 Validation Accuracy: 0.4496\n",
      "Epoch  4, CIFAR-10 Batch 1:  Loss: 1.5087 Validation Accuracy: 0.4466\n",
      "Epoch  4, CIFAR-10 Batch 2:  Loss: 1.48525 Validation Accuracy: 0.4612\n",
      "Epoch  4, CIFAR-10 Batch 3:  Loss: 1.46228 Validation Accuracy: 0.4496\n",
      "Epoch  4, CIFAR-10 Batch 4:  Loss: 1.44941 Validation Accuracy: 0.4656\n",
      "Epoch  4, CIFAR-10 Batch 5:  Loss: 1.45698 Validation Accuracy: 0.469\n",
      "Epoch  5, CIFAR-10 Batch 1:  Loss: 1.43217 Validation Accuracy: 0.4764\n",
      "Epoch  5, CIFAR-10 Batch 2:  Loss: 1.40602 Validation Accuracy: 0.4832\n",
      "Epoch  5, CIFAR-10 Batch 3:  Loss: 1.35505 Validation Accuracy: 0.4898\n",
      "Epoch  5, CIFAR-10 Batch 4:  Loss: 1.33765 Validation Accuracy: 0.496\n",
      "Epoch  5, CIFAR-10 Batch 5:  Loss: 1.36218 Validation Accuracy: 0.4994\n",
      "Epoch  6, CIFAR-10 Batch 1:  Loss: 1.33795 Validation Accuracy: 0.5116\n",
      "Epoch  6, CIFAR-10 Batch 2:  Loss: 1.33066 Validation Accuracy: 0.517\n",
      "Epoch  6, CIFAR-10 Batch 3:  Loss: 1.29255 Validation Accuracy: 0.5146\n",
      "Epoch  6, CIFAR-10 Batch 4:  Loss: 1.27935 Validation Accuracy: 0.5146\n",
      "Epoch  6, CIFAR-10 Batch 5:  Loss: 1.29633 Validation Accuracy: 0.524\n",
      "Epoch  7, CIFAR-10 Batch 1:  Loss: 1.28237 Validation Accuracy: 0.5288\n",
      "Epoch  7, CIFAR-10 Batch 2:  Loss: 1.28433 Validation Accuracy: 0.5274\n",
      "Epoch  7, CIFAR-10 Batch 3:  Loss: 1.24971 Validation Accuracy: 0.5268\n",
      "Epoch  7, CIFAR-10 Batch 4:  Loss: 1.24268 Validation Accuracy: 0.5298\n",
      "Epoch  7, CIFAR-10 Batch 5:  Loss: 1.26115 Validation Accuracy: 0.5346\n",
      "Epoch  8, CIFAR-10 Batch 1:  Loss: 1.22866 Validation Accuracy: 0.5456\n",
      "Epoch  8, CIFAR-10 Batch 2:  Loss: 1.24315 Validation Accuracy: 0.5346\n",
      "Epoch  8, CIFAR-10 Batch 3:  Loss: 1.21235 Validation Accuracy: 0.542\n",
      "Epoch  8, CIFAR-10 Batch 4:  Loss: 1.16002 Validation Accuracy: 0.5566\n",
      "Epoch  8, CIFAR-10 Batch 5:  Loss: 1.19118 Validation Accuracy: 0.56\n",
      "Epoch  9, CIFAR-10 Batch 1:  Loss: 1.19046 Validation Accuracy: 0.5506\n",
      "Epoch  9, CIFAR-10 Batch 2:  Loss: 1.21717 Validation Accuracy: 0.543\n",
      "Epoch  9, CIFAR-10 Batch 3:  Loss: 1.16104 Validation Accuracy: 0.561\n",
      "Epoch  9, CIFAR-10 Batch 4:  Loss: 1.15269 Validation Accuracy: 0.546\n",
      "Epoch  9, CIFAR-10 Batch 5:  Loss: 1.17124 Validation Accuracy: 0.561\n",
      "Epoch 10, CIFAR-10 Batch 1:  Loss: 1.13019 Validation Accuracy: 0.5746\n",
      "Epoch 10, CIFAR-10 Batch 2:  Loss: 1.17867 Validation Accuracy: 0.5558\n",
      "Epoch 10, CIFAR-10 Batch 3:  Loss: 1.11411 Validation Accuracy: 0.577\n",
      "Epoch 10, CIFAR-10 Batch 4:  Loss: 1.07677 Validation Accuracy: 0.5744\n",
      "Epoch 10, CIFAR-10 Batch 5:  Loss: 1.10514 Validation Accuracy: 0.5812\n",
      "Epoch 11, CIFAR-10 Batch 1:  Loss: 1.09344 Validation Accuracy: 0.5808\n",
      "Epoch 11, CIFAR-10 Batch 2:  Loss: 1.10445 Validation Accuracy: 0.5858\n",
      "Epoch 11, CIFAR-10 Batch 3:  Loss: 1.06474 Validation Accuracy: 0.5882\n",
      "Epoch 11, CIFAR-10 Batch 4:  Loss: 1.03853 Validation Accuracy: 0.5912\n",
      "Epoch 11, CIFAR-10 Batch 5:  Loss: 1.06604 Validation Accuracy: 0.591\n",
      "Epoch 12, CIFAR-10 Batch 1:  Loss: 1.05904 Validation Accuracy: 0.59\n",
      "Epoch 12, CIFAR-10 Batch 2:  Loss: 1.07371 Validation Accuracy: 0.5924\n",
      "Epoch 12, CIFAR-10 Batch 3:  Loss: 1.04123 Validation Accuracy: 0.5932\n",
      "Epoch 12, CIFAR-10 Batch 4:  Loss: 1.01888 Validation Accuracy: 0.5956\n",
      "Epoch 12, CIFAR-10 Batch 5:  Loss: 1.02794 Validation Accuracy: 0.5988\n",
      "Epoch 13, CIFAR-10 Batch 1:  Loss: 1.01575 Validation Accuracy: 0.603\n",
      "Epoch 13, CIFAR-10 Batch 2:  Loss: 1.05094 Validation Accuracy: 0.5904\n",
      "Epoch 13, CIFAR-10 Batch 3:  Loss: 0.994661 Validation Accuracy: 0.612\n",
      "Epoch 13, CIFAR-10 Batch 4:  Loss: 0.979367 Validation Accuracy: 0.6026\n",
      "Epoch 13, CIFAR-10 Batch 5:  Loss: 0.999088 Validation Accuracy: 0.604\n",
      "Epoch 14, CIFAR-10 Batch 1:  Loss: 0.989186 Validation Accuracy: 0.6124\n",
      "Epoch 14, CIFAR-10 Batch 2:  Loss: 1.01456 Validation Accuracy: 0.6012\n",
      "Epoch 14, CIFAR-10 Batch 3:  Loss: 0.961497 Validation Accuracy: 0.6122\n",
      "Epoch 14, CIFAR-10 Batch 4:  Loss: 0.93627 Validation Accuracy: 0.616\n",
      "Epoch 14, CIFAR-10 Batch 5:  Loss: 0.954694 Validation Accuracy: 0.6166\n",
      "Epoch 15, CIFAR-10 Batch 1:  Loss: 0.949873 Validation Accuracy: 0.6174\n",
      "Epoch 15, CIFAR-10 Batch 2:  Loss: 0.967719 Validation Accuracy: 0.6144\n",
      "Epoch 15, CIFAR-10 Batch 3:  Loss: 0.92345 Validation Accuracy: 0.627\n",
      "Epoch 15, CIFAR-10 Batch 4:  Loss: 0.909244 Validation Accuracy: 0.623\n",
      "Epoch 15, CIFAR-10 Batch 5:  Loss: 0.92017 Validation Accuracy: 0.619\n",
      "Epoch 16, CIFAR-10 Batch 1:  Loss: 0.926016 Validation Accuracy: 0.6262\n",
      "Epoch 16, CIFAR-10 Batch 2:  Loss: 0.948821 Validation Accuracy: 0.618\n",
      "Epoch 16, CIFAR-10 Batch 3:  Loss: 0.896261 Validation Accuracy: 0.63\n",
      "Epoch 16, CIFAR-10 Batch 4:  Loss: 0.884235 Validation Accuracy: 0.6302\n",
      "Epoch 16, CIFAR-10 Batch 5:  Loss: 0.890513 Validation Accuracy: 0.6304\n",
      "Epoch 17, CIFAR-10 Batch 1:  Loss: 0.900555 Validation Accuracy: 0.6294\n",
      "Epoch 17, CIFAR-10 Batch 2:  Loss: 0.912125 Validation Accuracy: 0.6316\n",
      "Epoch 17, CIFAR-10 Batch 3:  Loss: 0.867248 Validation Accuracy: 0.6344\n",
      "Epoch 17, CIFAR-10 Batch 4:  Loss: 0.863476 Validation Accuracy: 0.6344\n",
      "Epoch 17, CIFAR-10 Batch 5:  Loss: 0.861254 Validation Accuracy: 0.6322\n",
      "Epoch 18, CIFAR-10 Batch 1:  Loss: 0.879872 Validation Accuracy: 0.6366\n",
      "Epoch 18, CIFAR-10 Batch 2:  Loss: 0.907921 Validation Accuracy: 0.6252\n",
      "Epoch 18, CIFAR-10 Batch 3:  Loss: 0.854285 Validation Accuracy: 0.6268\n",
      "Epoch 18, CIFAR-10 Batch 4:  Loss: 0.836138 Validation Accuracy: 0.6432\n",
      "Epoch 18, CIFAR-10 Batch 5:  Loss: 0.841322 Validation Accuracy: 0.6364\n",
      "Epoch 19, CIFAR-10 Batch 1:  Loss: 0.843493 Validation Accuracy: 0.6494\n",
      "Epoch 19, CIFAR-10 Batch 2:  Loss: 0.854275 Validation Accuracy: 0.641\n",
      "Epoch 19, CIFAR-10 Batch 3:  Loss: 0.828351 Validation Accuracy: 0.6298\n",
      "Epoch 19, CIFAR-10 Batch 4:  Loss: 0.801826 Validation Accuracy: 0.647\n",
      "Epoch 19, CIFAR-10 Batch 5:  Loss: 0.802856 Validation Accuracy: 0.6462\n",
      "Epoch 20, CIFAR-10 Batch 1:  Loss: 0.810415 Validation Accuracy: 0.6502\n",
      "Epoch 20, CIFAR-10 Batch 2:  Loss: 0.82265 Validation Accuracy: 0.6516\n",
      "Epoch 20, CIFAR-10 Batch 3:  Loss: 0.810512 Validation Accuracy: 0.629\n",
      "Epoch 20, CIFAR-10 Batch 4:  Loss: 0.781112 Validation Accuracy: 0.6532\n",
      "Epoch 20, CIFAR-10 Batch 5:  Loss: 0.775398 Validation Accuracy: 0.6506\n",
      "Epoch 21, CIFAR-10 Batch 1:  Loss: 0.788599 Validation Accuracy: 0.6526\n",
      "Epoch 21, CIFAR-10 Batch 2:  Loss: 0.792469 Validation Accuracy: 0.6586\n",
      "Epoch 21, CIFAR-10 Batch 3:  Loss: 0.7737 Validation Accuracy: 0.6452\n",
      "Epoch 21, CIFAR-10 Batch 4:  Loss: 0.757891 Validation Accuracy: 0.6618\n",
      "Epoch 21, CIFAR-10 Batch 5:  Loss: 0.742513 Validation Accuracy: 0.655\n",
      "Epoch 22, CIFAR-10 Batch 1:  Loss: 0.755688 Validation Accuracy: 0.6652\n",
      "Epoch 22, CIFAR-10 Batch 2:  Loss: 0.76355 Validation Accuracy: 0.6668\n",
      "Epoch 22, CIFAR-10 Batch 3:  Loss: 0.755054 Validation Accuracy: 0.6442\n",
      "Epoch 22, CIFAR-10 Batch 4:  Loss: 0.733717 Validation Accuracy: 0.6652\n",
      "Epoch 22, CIFAR-10 Batch 5:  Loss: 0.719652 Validation Accuracy: 0.662\n",
      "Epoch 23, CIFAR-10 Batch 1:  Loss: 0.733872 Validation Accuracy: 0.6644\n",
      "Epoch 23, CIFAR-10 Batch 2:  Loss: 0.7397 Validation Accuracy: 0.6698\n",
      "Epoch 23, CIFAR-10 Batch 3:  Loss: 0.712083 Validation Accuracy: 0.6582\n",
      "Epoch 23, CIFAR-10 Batch 4:  Loss: 0.710841 Validation Accuracy: 0.6694\n",
      "Epoch 23, CIFAR-10 Batch 5:  Loss: 0.691485 Validation Accuracy: 0.6652\n",
      "Epoch 24, CIFAR-10 Batch 1:  Loss: 0.708593 Validation Accuracy: 0.676\n",
      "Epoch 24, CIFAR-10 Batch 2:  Loss: 0.715461 Validation Accuracy: 0.6698\n",
      "Epoch 24, CIFAR-10 Batch 3:  Loss: 0.696323 Validation Accuracy: 0.6622\n",
      "Epoch 24, CIFAR-10 Batch 4:  Loss: 0.683401 Validation Accuracy: 0.671\n",
      "Epoch 24, CIFAR-10 Batch 5:  Loss: 0.66884 Validation Accuracy: 0.6696\n",
      "Epoch 25, CIFAR-10 Batch 1:  Loss: 0.679502 Validation Accuracy: 0.6756\n",
      "Epoch 25, CIFAR-10 Batch 2:  Loss: 0.724058 Validation Accuracy: 0.6606\n",
      "Epoch 25, CIFAR-10 Batch 3:  Loss: 0.688907 Validation Accuracy: 0.6622\n",
      "Epoch 25, CIFAR-10 Batch 4:  Loss: 0.668504 Validation Accuracy: 0.6768\n",
      "Epoch 25, CIFAR-10 Batch 5:  Loss: 0.652908 Validation Accuracy: 0.673\n",
      "Epoch 26, CIFAR-10 Batch 1:  Loss: 0.667653 Validation Accuracy: 0.6806\n",
      "Epoch 26, CIFAR-10 Batch 2:  Loss: 0.668374 Validation Accuracy: 0.68\n",
      "Epoch 26, CIFAR-10 Batch 3:  Loss: 0.671414 Validation Accuracy: 0.6608\n",
      "Epoch 26, CIFAR-10 Batch 4:  Loss: 0.644393 Validation Accuracy: 0.6736\n",
      "Epoch 26, CIFAR-10 Batch 5:  Loss: 0.634703 Validation Accuracy: 0.6724\n",
      "Epoch 27, CIFAR-10 Batch 1:  Loss: 0.64078 Validation Accuracy: 0.6874\n",
      "Epoch 27, CIFAR-10 Batch 2:  Loss: 0.649377 Validation Accuracy: 0.6804\n",
      "Epoch 27, CIFAR-10 Batch 3:  Loss: 0.652096 Validation Accuracy: 0.663\n",
      "Epoch 27, CIFAR-10 Batch 4:  Loss: 0.626917 Validation Accuracy: 0.675\n",
      "Epoch 27, CIFAR-10 Batch 5:  Loss: 0.618181 Validation Accuracy: 0.677\n",
      "Epoch 28, CIFAR-10 Batch 1:  Loss: 0.637063 Validation Accuracy: 0.6788\n",
      "Epoch 28, CIFAR-10 Batch 2:  Loss: 0.669761 Validation Accuracy: 0.6622\n",
      "Epoch 28, CIFAR-10 Batch 3:  Loss: 0.640026 Validation Accuracy: 0.6646\n",
      "Epoch 28, CIFAR-10 Batch 4:  Loss: 0.619689 Validation Accuracy: 0.6748\n",
      "Epoch 28, CIFAR-10 Batch 5:  Loss: 0.589576 Validation Accuracy: 0.6824\n",
      "Epoch 29, CIFAR-10 Batch 1:  Loss: 0.616269 Validation Accuracy: 0.6866\n",
      "Epoch 29, CIFAR-10 Batch 2:  Loss: 0.615678 Validation Accuracy: 0.6852\n",
      "Epoch 29, CIFAR-10 Batch 3:  Loss: 0.602053 Validation Accuracy: 0.678\n",
      "Epoch 29, CIFAR-10 Batch 4:  Loss: 0.568709 Validation Accuracy: 0.6924\n",
      "Epoch 29, CIFAR-10 Batch 5:  Loss: 0.568331 Validation Accuracy: 0.6762\n",
      "Epoch 30, CIFAR-10 Batch 1:  Loss: 0.5799 Validation Accuracy: 0.6904\n",
      "Epoch 30, CIFAR-10 Batch 2:  Loss: 0.575299 Validation Accuracy: 0.6898\n",
      "Epoch 30, CIFAR-10 Batch 3:  Loss: 0.572478 Validation Accuracy: 0.6814\n",
      "Epoch 30, CIFAR-10 Batch 4:  Loss: 0.550934 Validation Accuracy: 0.6896\n",
      "Epoch 30, CIFAR-10 Batch 5:  Loss: 0.541652 Validation Accuracy: 0.6912\n",
      "Epoch 31, CIFAR-10 Batch 1:  Loss: 0.562157 Validation Accuracy: 0.6918\n",
      "Epoch 31, CIFAR-10 Batch 2:  Loss: 0.561557 Validation Accuracy: 0.6892\n",
      "Epoch 31, CIFAR-10 Batch 3:  Loss: 0.543626 Validation Accuracy: 0.6882\n",
      "Epoch 31, CIFAR-10 Batch 4:  Loss: 0.538848 Validation Accuracy: 0.6898\n",
      "Epoch 31, CIFAR-10 Batch 5:  Loss: 0.525173 Validation Accuracy: 0.685\n",
      "Epoch 32, CIFAR-10 Batch 1:  Loss: 0.548201 Validation Accuracy: 0.6892\n",
      "Epoch 32, CIFAR-10 Batch 2:  Loss: 0.544876 Validation Accuracy: 0.6876\n",
      "Epoch 32, CIFAR-10 Batch 3:  Loss: 0.528677 Validation Accuracy: 0.688\n",
      "Epoch 32, CIFAR-10 Batch 4:  Loss: 0.506792 Validation Accuracy: 0.6978\n",
      "Epoch 32, CIFAR-10 Batch 5:  Loss: 0.502215 Validation Accuracy: 0.6794\n",
      "Epoch 33, CIFAR-10 Batch 1:  Loss: 0.528735 Validation Accuracy: 0.6948\n",
      "Epoch 33, CIFAR-10 Batch 2:  Loss: 0.527846 Validation Accuracy: 0.691\n",
      "Epoch 33, CIFAR-10 Batch 3:  Loss: 0.506868 Validation Accuracy: 0.693\n",
      "Epoch 33, CIFAR-10 Batch 4:  Loss: 0.489951 Validation Accuracy: 0.6984\n",
      "Epoch 33, CIFAR-10 Batch 5:  Loss: 0.493815 Validation Accuracy: 0.6828\n",
      "Epoch 34, CIFAR-10 Batch 1:  Loss: 0.527284 Validation Accuracy: 0.6794\n",
      "Epoch 34, CIFAR-10 Batch 2:  Loss: 0.51255 Validation Accuracy: 0.6946\n",
      "Epoch 34, CIFAR-10 Batch 3:  Loss: 0.501949 Validation Accuracy: 0.6914\n",
      "Epoch 34, CIFAR-10 Batch 4:  Loss: 0.491 Validation Accuracy: 0.6924\n",
      "Epoch 34, CIFAR-10 Batch 5:  Loss: 0.485503 Validation Accuracy: 0.6836\n",
      "Epoch 35, CIFAR-10 Batch 1:  Loss: 0.508063 Validation Accuracy: 0.6856\n",
      "Epoch 35, CIFAR-10 Batch 2:  Loss: 0.49427 Validation Accuracy: 0.6958\n",
      "Epoch 35, CIFAR-10 Batch 3:  Loss: 0.486627 Validation Accuracy: 0.6966\n",
      "Epoch 35, CIFAR-10 Batch 4:  Loss: 0.471557 Validation Accuracy: 0.6912\n",
      "Epoch 35, CIFAR-10 Batch 5:  Loss: 0.454852 Validation Accuracy: 0.6834\n",
      "Epoch 36, CIFAR-10 Batch 1:  Loss: 0.476679 Validation Accuracy: 0.7016\n",
      "Epoch 36, CIFAR-10 Batch 2:  Loss: 0.475406 Validation Accuracy: 0.7016\n",
      "Epoch 36, CIFAR-10 Batch 3:  Loss: 0.469006 Validation Accuracy: 0.6958\n",
      "Epoch 36, CIFAR-10 Batch 4:  Loss: 0.451298 Validation Accuracy: 0.6984\n",
      "Epoch 36, CIFAR-10 Batch 5:  Loss: 0.432584 Validation Accuracy: 0.6854\n",
      "Epoch 37, CIFAR-10 Batch 1:  Loss: 0.458239 Validation Accuracy: 0.701\n",
      "Epoch 37, CIFAR-10 Batch 2:  Loss: 0.455746 Validation Accuracy: 0.6924\n",
      "Epoch 37, CIFAR-10 Batch 3:  Loss: 0.44753 Validation Accuracy: 0.6986\n",
      "Epoch 37, CIFAR-10 Batch 4:  Loss: 0.425518 Validation Accuracy: 0.703\n",
      "Epoch 37, CIFAR-10 Batch 5:  Loss: 0.411344 Validation Accuracy: 0.6914\n",
      "Epoch 38, CIFAR-10 Batch 1:  Loss: 0.434112 Validation Accuracy: 0.7024\n",
      "Epoch 38, CIFAR-10 Batch 2:  Loss: 0.433637 Validation Accuracy: 0.7046\n",
      "Epoch 38, CIFAR-10 Batch 3:  Loss: 0.440294 Validation Accuracy: 0.699\n",
      "Epoch 38, CIFAR-10 Batch 4:  Loss: 0.41201 Validation Accuracy: 0.7056\n",
      "Epoch 38, CIFAR-10 Batch 5:  Loss: 0.38716 Validation Accuracy: 0.6966\n",
      "Epoch 39, CIFAR-10 Batch 1:  Loss: 0.417134 Validation Accuracy: 0.7008\n",
      "Epoch 39, CIFAR-10 Batch 2:  Loss: 0.423735 Validation Accuracy: 0.7024\n",
      "Epoch 39, CIFAR-10 Batch 3:  Loss: 0.428797 Validation Accuracy: 0.698\n",
      "Epoch 39, CIFAR-10 Batch 4:  Loss: 0.399006 Validation Accuracy: 0.7034\n",
      "Epoch 39, CIFAR-10 Batch 5:  Loss: 0.385851 Validation Accuracy: 0.6986\n",
      "Epoch 40, CIFAR-10 Batch 1:  Loss: 0.418833 Validation Accuracy: 0.7012\n",
      "Epoch 40, CIFAR-10 Batch 2:  Loss: 0.425219 Validation Accuracy: 0.6984\n",
      "Epoch 40, CIFAR-10 Batch 3:  Loss: 0.432749 Validation Accuracy: 0.694\n",
      "Epoch 40, CIFAR-10 Batch 4:  Loss: 0.392169 Validation Accuracy: 0.7032\n",
      "Epoch 40, CIFAR-10 Batch 5:  Loss: 0.377996 Validation Accuracy: 0.693\n"
     ]
    }
   ],
   "source": [
    "\"\"\"\n",
    "DON'T MODIFY ANYTHING IN THIS CELL\n",
    "\"\"\"\n",
    "save_model_path = './image_classification'\n",
    "\n",
    "print('Training...')\n",
    "with tf.Session() as sess:\n",
    "    # Initializing the variables\n",
    "    sess.run(tf.global_variables_initializer())\n",
    "    \n",
    "    # Training cycle\n",
    "    for epoch in range(epochs):\n",
    "        # Loop over all batches\n",
    "        n_batches = 5\n",
    "        for batch_i in range(1, n_batches + 1):\n",
    "            for batch_features, batch_labels in helper.load_preprocess_training_batch(batch_i, batch_size):\n",
    "                train_neural_network(sess, optimizer, keep_probability, batch_features, batch_labels)\n",
    "            print('Epoch {:>2}, CIFAR-10 Batch {}:  '.format(epoch + 1, batch_i), end='')\n",
    "            print_stats(sess, batch_features, batch_labels, cost, accuracy)\n",
    "            \n",
    "    # Save Model\n",
    "    saver = tf.train.Saver()\n",
    "    save_path = saver.save(sess, save_model_path)"
   ]
  },
  {
   "cell_type": "markdown",
   "metadata": {
    "deletable": true,
    "editable": true
   },
   "source": [
    "# Checkpoint\n",
    "The model has been saved to disk.\n",
    "## Test Model\n",
    "Test your model against the test dataset.  This will be your final accuracy. You should have an accuracy greater than 50%. If you don't, keep tweaking the model architecture and parameters."
   ]
  },
  {
   "cell_type": "code",
   "execution_count": 14,
   "metadata": {
    "collapsed": false,
    "deletable": true,
    "editable": true
   },
   "outputs": [
    {
     "name": "stdout",
     "output_type": "stream",
     "text": [
      "Testing Accuracy: 0.6975002765655518\n",
      "\n"
     ]
    },
    {
     "data": {
      "image/png": "[encoded data removed]",
      "text/plain": [
       "<matplotlib.figure.Figure at 0x7fb55c40f6a0>"
      ]
     },
     "metadata": {
      "image/png": {
       "height": 319,
       "width": 355
      }
     },
     "output_type": "display_data"
    }
   ],
   "source": [
    "\"\"\"\n",
    "DON'T MODIFY ANYTHING IN THIS CELL\n",
    "\"\"\"\n",
    "%matplotlib inline\n",
    "%config InlineBackend.figure_format = 'retina'\n",
    "\n",
    "import tensorflow as tf\n",
    "import pickle\n",
    "import helper\n",
    "import random\n",
    "\n",
    "# Set batch size if not already set\n",
    "try:\n",
    "    if batch_size:\n",
    "        pass\n",
    "except NameError:\n",
    "    batch_size = 64\n",
    "\n",
    "save_model_path = './image_classification'\n",
    "n_samples = 4\n",
    "top_n_predictions = 3\n",
    "\n",
    "def test_model():\n",
    "    \"\"\"\n",
    "    Test the saved model against the test dataset\n",
    "    \"\"\"\n",
    "\n",
    "    test_features, test_labels = pickle.load(open('preprocess_test.p', mode='rb'))\n",
    "    loaded_graph = tf.Graph()\n",
    "\n",
    "    with tf.Session(graph=loaded_graph) as sess:\n",
    "        # Load model\n",
    "        loader = tf.train.import_meta_graph(save_model_path + '.meta')\n",
    "        loader.restore(sess, save_model_path)\n",
    "\n",
    "        # Get Tensors from loaded model\n",
    "        loaded_x = loaded_graph.get_tensor_by_name('x:0')\n",
    "        loaded_y = loaded_graph.get_tensor_by_name('y:0')\n",
    "        loaded_keep_prob = loaded_graph.get_tensor_by_name('keep_prob:0')\n",
    "        loaded_logits = loaded_graph.get_tensor_by_name('logits:0')\n",
    "        loaded_acc = loaded_graph.get_tensor_by_name('accuracy:0')\n",
    "        \n",
    "        # Get accuracy in batches for memory limitations\n",
    "        test_batch_acc_total = 0\n",
    "        test_batch_count = 0\n",
    "        \n",
    "        for test_feature_batch, test_label_batch in helper.batch_features_labels(test_features, test_labels, batch_size):\n",
    "            test_batch_acc_total += sess.run(\n",
    "                loaded_acc,\n",
    "                feed_dict={loaded_x: test_feature_batch, loaded_y: test_label_batch, loaded_keep_prob: 1.0})\n",
    "            test_batch_count += 1\n",
    "\n",
    "        print('Testing Accuracy: {}\\n'.format(test_batch_acc_total/test_batch_count))\n",
    "\n",
    "        # Print Random Samples\n",
    "        random_test_features, random_test_labels = tuple(zip(*random.sample(list(zip(test_features, test_labels)), n_samples)))\n",
    "        random_test_predictions = sess.run(\n",
    "            tf.nn.top_k(tf.nn.softmax(loaded_logits), top_n_predictions),\n",
    "            feed_dict={loaded_x: random_test_features, loaded_y: random_test_labels, loaded_keep_prob: 1.0})\n",
    "        helper.display_image_predictions(random_test_features, random_test_labels, random_test_predictions)\n",
    "\n",
    "\n",
    "test_model()"
   ]
  },
  {
   "cell_type": "markdown",
   "metadata": {
    "deletable": true,
    "editable": true
   },
   "source": [
    "## Why 50-80% Accuracy?\n",
    "You might be wondering why you can't get an accuracy any higher. First things first, 50% isn't bad for a simple CNN.  Pure guessing would get you 10% accuracy. However, you might notice people are getting scores [well above 80%](http://rodrigob.github.io/are_we_there_yet/build/classification_datasets_results.html#43494641522d3130).  That's because we haven't taught you all there is to know about neural networks. We still need to cover a few more techniques.\n",
    "## Submitting This Project\n",
    "When submitting this project, make sure to run all the cells before saving the notebook.  Save the notebook file as \"dlnd_image_classification.ipynb\" and save it as a HTML file under \"File\" -> \"Download as\".  Include the \"helper.py\" and \"problem_unittests.py\" files in your submission."
   ]
  }
 ],
 "metadata": {
  "kernelspec": {
   "display_name": "Python 3",
   "language": "python",
   "name": "python3"
  },
  "language_info": {
   "codemirror_mode": {
    "name": "ipython",
    "version": 3
   },
   "file_extension": ".py",
   "mimetype": "text/x-python",
   "name": "python",
   "nbconvert_exporter": "python",
   "pygments_lexer": "ipython3",
   "version": "3.5.2"
  },
  "widgets": {
   "state": {},
   "version": "1.1.2"
  }
 },
 "nbformat": 4,
 "nbformat_minor": 0
}
