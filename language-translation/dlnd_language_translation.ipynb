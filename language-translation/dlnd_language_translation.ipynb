{
 "cells": [
  {
   "cell_type": "markdown",
   "metadata": {
    "collapsed": true,
    "deletable": true,
    "editable": true
   },
   "source": [
    "# Language Translation\n",
    "In this project, you’re going to take a peek into the realm of neural network machine translation.  You’ll be training a sequence to sequence model on a dataset of English and French sentences that can translate new sentences from English to French.\n",
    "## Get the Data\n",
    "Since translating the whole language of English to French will take lots of time to train, we have provided you with a small portion of the English corpus."
   ]
  },
  {
   "cell_type": "code",
   "execution_count": 2,
   "metadata": {
    "collapsed": false,
    "deletable": true,
    "editable": true
   },
   "outputs": [],
   "source": [
    "\"\"\"\n",
    "DON'T MODIFY ANYTHING IN THIS CELL\n",
    "\"\"\"\n",
    "import helper\n",
    "import problem_unittests as tests\n",
    "\n",
    "source_path = 'data/small_vocab_en'\n",
    "target_path = 'data/small_vocab_fr'\n",
    "source_text = helper.load_data(source_path)\n",
    "target_text = helper.load_data(target_path)"
   ]
  },
  {
   "cell_type": "markdown",
   "metadata": {
    "deletable": true,
    "editable": true
   },
   "source": [
    "## Explore the Data\n",
    "Play around with view_sentence_range to view different parts of the data."
   ]
  },
  {
   "cell_type": "code",
   "execution_count": 4,
   "metadata": {
    "collapsed": false,
    "deletable": true,
    "editable": true
   },
   "outputs": [
    {
     "name": "stdout",
     "output_type": "stream",
     "text": [
      "Dataset Stats\n",
      "Roughly the number of unique words: 227\n",
      "Number of sentences: 137861\n",
      "Average number of words in a sentence: 13.225277634719028\n",
      "\n",
      "English sentences 0 to 10:\n",
      "new jersey is sometimes quiet during autumn , and it is snowy in april .\n",
      "the united states is usually chilly during july , and it is usually freezing in november .\n",
      "california is usually quiet during march , and it is usually hot in june .\n",
      "the united states is sometimes mild during june , and it is cold in september .\n",
      "your least liked fruit is the grape , but my least liked is the apple .\n",
      "his favorite fruit is the orange , but my favorite is the grape .\n",
      "paris is relaxing during december , but it is usually chilly in july .\n",
      "new jersey is busy during spring , and it is never hot in march .\n",
      "our least liked fruit is the lemon , but my least liked is the grape .\n",
      "the united states is sometimes busy during january , and it is sometimes warm in november .\n",
      "\n",
      "French sentences 0 to 10:\n",
      "new jersey est parfois calme pendant l' automne , et il est neigeux en avril .\n",
      "les états-unis est généralement froid en juillet , et il gèle habituellement en novembre .\n",
      "california est généralement calme en mars , et il est généralement chaud en juin .\n",
      "les états-unis est parfois légère en juin , et il fait froid en septembre .\n",
      "votre moins aimé fruit est le raisin , mais mon moins aimé est la pomme .\n",
      "son fruit préféré est l'orange , mais mon préféré est le raisin .\n",
      "paris est relaxant en décembre , mais il est généralement froid en juillet .\n",
      "new jersey est occupé au printemps , et il est jamais chaude en mars .\n",
      "notre fruit est moins aimé le citron , mais mon moins aimé est le raisin .\n",
      "les états-unis est parfois occupé en janvier , et il est parfois chaud en novembre .\n"
     ]
    }
   ],
   "source": [
    "view_sentence_range = (0, 10)\n",
    "\n",
    "\"\"\"\n",
    "DON'T MODIFY ANYTHING IN THIS CELL\n",
    "\"\"\"\n",
    "import numpy as np\n",
    "\n",
    "print('Dataset Stats')\n",
    "print('Roughly the number of unique words: {}'.format(len({word: None for word in source_text.split()})))\n",
    "\n",
    "sentences = source_text.split('\\n')\n",
    "word_counts = [len(sentence.split()) for sentence in sentences]\n",
    "print('Number of sentences: {}'.format(len(sentences)))\n",
    "print('Average number of words in a sentence: {}'.format(np.average(word_counts)))\n",
    "\n",
    "print()\n",
    "print('English sentences {} to {}:'.format(*view_sentence_range))\n",
    "print('\\n'.join(source_text.split('\\n')[view_sentence_range[0]:view_sentence_range[1]]))\n",
    "print()\n",
    "print('French sentences {} to {}:'.format(*view_sentence_range))\n",
    "print('\\n'.join(target_text.split('\\n')[view_sentence_range[0]:view_sentence_range[1]]))"
   ]
  },
  {
   "cell_type": "markdown",
   "metadata": {
    "deletable": true,
    "editable": true
   },
   "source": [
    "## Implement Preprocessing Function\n",
    "### Text to Word Ids\n",
    "As you did with other RNNs, you must turn the text into a number so the computer can understand it. In the function `text_to_ids()`, you'll turn `source_text` and `target_text` from words to ids.  However, you need to add the `<EOS>` word id at the end of `target_text`.  This will help the neural network predict when the sentence should end.\n",
    "\n",
    "You can get the `<EOS>` word id by doing:\n",
    "```python\n",
    "target_vocab_to_int['<EOS>']\n",
    "```\n",
    "You can get other word ids using `source_vocab_to_int` and `target_vocab_to_int`."
   ]
  },
  {
   "cell_type": "code",
   "execution_count": 3,
   "metadata": {
    "collapsed": false,
    "deletable": true,
    "editable": true
   },
   "outputs": [
    {
     "name": "stdout",
     "output_type": "stream",
     "text": [
      "Tests Passed\n"
     ]
    }
   ],
   "source": [
    "def text_to_ids(source_text, target_text, source_vocab_to_int, target_vocab_to_int):\n",
    "    \"\"\"\n",
    "    Convert source and target text to proper word ids\n",
    "    :param source_text: String that contains all the source text.\n",
    "    :param target_text: String that contains all the target text.\n",
    "    :param source_vocab_to_int: Dictionary to go from the source words to an id\n",
    "    :param target_vocab_to_int: Dictionary to go from the target words to an id\n",
    "    :return: A tuple of lists (source_id_text, target_id_text)\n",
    "    \"\"\"\n",
    "    # TODO: Implement Function\n",
    "    def words(text):\n",
    "        return [[word for word in sentence.split(' ')] for sentence in text.split('\\n')]\n",
    "\n",
    "    def to_ints(words, dic):\n",
    "        return list(map(lambda x: dic[x], filter(lambda w: w, words)))\n",
    "\n",
    "    source_text_id = map(\n",
    "        lambda s: to_ints(s, source_vocab_to_int),\n",
    "        words(source_text)\n",
    "    )\n",
    "    target_text_id = map(\n",
    "        lambda s: to_ints(s + ['<EOS>'], target_vocab_to_int),\n",
    "        words(target_text)\n",
    "    )\n",
    "    return (  \n",
    "        list(source_text_id),\n",
    "        list(target_text_id)\n",
    "    )\n",
    "\n",
    "\"\"\"\n",
    "DON'T MODIFY ANYTHING IN THIS CELL THAT IS BELOW THIS LINE\n",
    "\"\"\"\n",
    "tests.test_text_to_ids(text_to_ids)"
   ]
  },
  {
   "cell_type": "markdown",
   "metadata": {
    "deletable": true,
    "editable": true
   },
   "source": [
    "### Preprocess all the data and save it\n",
    "Running the code cell below will preprocess all the data and save it to file."
   ]
  },
  {
   "cell_type": "code",
   "execution_count": 4,
   "metadata": {
    "collapsed": false,
    "deletable": true,
    "editable": true
   },
   "outputs": [],
   "source": [
    "\"\"\"\n",
    "DON'T MODIFY ANYTHING IN THIS CELL\n",
    "\"\"\"\n",
    "helper.preprocess_and_save_data(source_path, target_path, text_to_ids)"
   ]
  },
  {
   "cell_type": "markdown",
   "metadata": {
    "deletable": true,
    "editable": true
   },
   "source": [
    "# Check Point\n",
    "This is your first checkpoint. If you ever decide to come back to this notebook or have to restart the notebook, you can start from here. The preprocessed data has been saved to disk."
   ]
  },
  {
   "cell_type": "code",
   "execution_count": 5,
   "metadata": {
    "collapsed": false,
    "deletable": true,
    "editable": true
   },
   "outputs": [],
   "source": [
    "\"\"\"\n",
    "DON'T MODIFY ANYTHING IN THIS CELL\n",
    "\"\"\"\n",
    "import numpy as np\n",
    "import helper\n",
    "import problem_unittests as tests\n",
    "\n",
    "(source_int_text, target_int_text), (source_vocab_to_int, target_vocab_to_int), _ = helper.load_preprocess()"
   ]
  },
  {
   "cell_type": "markdown",
   "metadata": {
    "deletable": true,
    "editable": true
   },
   "source": [
    "### Check the Version of TensorFlow and Access to GPU\n",
    "This will check to make sure you have the correct version of TensorFlow and access to a GPU"
   ]
  },
  {
   "cell_type": "code",
   "execution_count": 6,
   "metadata": {
    "collapsed": false,
    "deletable": true,
    "editable": true
   },
   "outputs": [
    {
     "name": "stdout",
     "output_type": "stream",
     "text": [
      "TensorFlow Version: 1.2.1\n",
      "Default GPU Device: /gpu:0\n"
     ]
    }
   ],
   "source": [
    "\"\"\"\n",
    "DON'T MODIFY ANYTHING IN THIS CELL\n",
    "\"\"\"\n",
    "from distutils.version import LooseVersion\n",
    "import warnings\n",
    "import tensorflow as tf\n",
    "from tensorflow.python.layers.core import Dense\n",
    "\n",
    "# Check TensorFlow Version\n",
    "assert LooseVersion(tf.__version__) >= LooseVersion('1.1'), 'Please use TensorFlow version 1.1 or newer'\n",
    "print('TensorFlow Version: {}'.format(tf.__version__))\n",
    "\n",
    "# Check for a GPU\n",
    "if not tf.test.gpu_device_name():\n",
    "    warnings.warn('No GPU found. Please use a GPU to train your neural network.')\n",
    "else:\n",
    "    print('Default GPU Device: {}'.format(tf.test.gpu_device_name()))"
   ]
  },
  {
   "cell_type": "markdown",
   "metadata": {
    "deletable": true,
    "editable": true
   },
   "source": [
    "## Build the Neural Network\n",
    "You'll build the components necessary to build a Sequence-to-Sequence model by implementing the following functions below:\n",
    "- `model_inputs`\n",
    "- `process_decoder_input`\n",
    "- `encoding_layer`\n",
    "- `decoding_layer_train`\n",
    "- `decoding_layer_infer`\n",
    "- `decoding_layer`\n",
    "- `seq2seq_model`\n",
    "\n",
    "### Input\n",
    "Implement the `model_inputs()` function to create TF Placeholders for the Neural Network. It should create the following placeholders:\n",
    "\n",
    "- Input text placeholder named \"input\" using the TF Placeholder name parameter with rank 2.\n",
    "- Targets placeholder with rank 2.\n",
    "- Learning rate placeholder with rank 0.\n",
    "- Keep probability placeholder named \"keep_prob\" using the TF Placeholder name parameter with rank 0.\n",
    "- Target sequence length placeholder named \"target_sequence_length\" with rank 1\n",
    "- Max target sequence length tensor named \"max_target_len\" getting its value from applying tf.reduce_max on the target_sequence_length placeholder. Rank 0.\n",
    "- Source sequence length placeholder named \"source_sequence_length\" with rank 1\n",
    "\n",
    "Return the placeholders in the following the tuple (input, targets, learning rate, keep probability, target sequence length, max target sequence length, source sequence length)"
   ]
  },
  {
   "cell_type": "code",
   "execution_count": 7,
   "metadata": {
    "collapsed": false,
    "deletable": true,
    "editable": true
   },
   "outputs": [
    {
     "name": "stdout",
     "output_type": "stream",
     "text": [
      "ERROR:tensorflow:==================================\n",
      "Object was never used (type <class 'tensorflow.python.framework.ops.Operation'>):\n",
      "<tf.Operation 'assert_rank_2/Assert/Assert' type=Assert>\n",
      "If you want to mark it as used call its \"mark_used()\" method.\n",
      "It was originally created here:\n",
      "['File \"/home/carnd/anaconda3/envs/dl/lib/python3.5/runpy.py\", line 184, in _run_module_as_main\\n    \"__main__\", mod_spec)', 'File \"/home/carnd/anaconda3/envs/dl/lib/python3.5/runpy.py\", line 85, in _run_code\\n    exec(code, run_globals)', 'File \"/home/carnd/anaconda3/envs/dl/lib/python3.5/site-packages/ipykernel/__main__.py\", line 3, in <module>\\n    app.launch_new_instance()', 'File \"/home/carnd/anaconda3/envs/dl/lib/python3.5/site-packages/traitlets/config/application.py\", line 658, in launch_instance\\n    app.start()', 'File \"/home/carnd/anaconda3/envs/dl/lib/python3.5/site-packages/ipykernel/kernelapp.py\", line 474, in start\\n    ioloop.IOLoop.instance().start()', 'File \"/home/carnd/anaconda3/envs/dl/lib/python3.5/site-packages/zmq/eventloop/ioloop.py\", line 177, in start\\n    super(ZMQIOLoop, self).start()', 'File \"/home/carnd/anaconda3/envs/dl/lib/python3.5/site-packages/tornado/ioloop.py\", line 887, in start\\n    handler_func(fd_obj, events)', 'File \"/home/carnd/anaconda3/envs/dl/lib/python3.5/site-packages/tornado/stack_context.py\", line 275, in null_wrapper\\n    return fn(*args, **kwargs)', 'File \"/home/carnd/anaconda3/envs/dl/lib/python3.5/site-packages/zmq/eventloop/zmqstream.py\", line 440, in _handle_events\\n    self._handle_recv()', 'File \"/home/carnd/anaconda3/envs/dl/lib/python3.5/site-packages/zmq/eventloop/zmqstream.py\", line 472, in _handle_recv\\n    self._run_callback(callback, msg)', 'File \"/home/carnd/anaconda3/envs/dl/lib/python3.5/site-packages/zmq/eventloop/zmqstream.py\", line 414, in _run_callback\\n    callback(*args, **kwargs)', 'File \"/home/carnd/anaconda3/envs/dl/lib/python3.5/site-packages/tornado/stack_context.py\", line 275, in null_wrapper\\n    return fn(*args, **kwargs)', 'File \"/home/carnd/anaconda3/envs/dl/lib/python3.5/site-packages/ipykernel/kernelbase.py\", line 276, in dispatcher\\n    return self.dispatch_shell(stream, msg)', 'File \"/home/carnd/anaconda3/envs/dl/lib/python3.5/site-packages/ipykernel/kernelbase.py\", line 228, in dispatch_shell\\n    handler(stream, idents, msg)', 'File \"/home/carnd/anaconda3/envs/dl/lib/python3.5/site-packages/ipykernel/kernelbase.py\", line 390, in execute_request\\n    user_expressions, allow_stdin)', 'File \"/home/carnd/anaconda3/envs/dl/lib/python3.5/site-packages/ipykernel/ipkernel.py\", line 196, in do_execute\\n    res = shell.run_cell(code, store_history=store_history, silent=silent)', 'File \"/home/carnd/anaconda3/envs/dl/lib/python3.5/site-packages/ipykernel/zmqshell.py\", line 501, in run_cell\\n    return super(ZMQInteractiveShell, self).run_cell(*args, **kwargs)', 'File \"/home/carnd/anaconda3/envs/dl/lib/python3.5/site-packages/IPython/core/interactiveshell.py\", line 2717, in run_cell\\n    interactivity=interactivity, compiler=compiler, result=result)', 'File \"/home/carnd/anaconda3/envs/dl/lib/python3.5/site-packages/IPython/core/interactiveshell.py\", line 2827, in run_ast_nodes\\n    if self.run_code(code, result):', 'File \"/home/carnd/anaconda3/envs/dl/lib/python3.5/site-packages/IPython/core/interactiveshell.py\", line 2881, in run_code\\n    exec(code_obj, self.user_global_ns, self.user_ns)', 'File \"<ipython-input-7-ccfad3143051>\", line 27, in <module>\\n    tests.test_model_inputs(model_inputs)', 'File \"/home/carnd/deep-learning/language-translation/problem_unittests.py\", line 106, in test_model_inputs\\n    assert tf.assert_rank(lr, 0, message=\\'Learning Rate has wrong rank\\')', 'File \"/home/carnd/anaconda3/envs/dl/lib/python3.5/site-packages/tensorflow/python/ops/check_ops.py\", line 617, in assert_rank\\n    dynamic_condition, data, summarize)', 'File \"/home/carnd/anaconda3/envs/dl/lib/python3.5/site-packages/tensorflow/python/ops/check_ops.py\", line 571, in _assert_rank_condition\\n    return control_flow_ops.Assert(condition, data, summarize=summarize)', 'File \"/home/carnd/anaconda3/envs/dl/lib/python3.5/site-packages/tensorflow/python/util/tf_should_use.py\", line 170, in wrapped\\n    return _add_should_use_warning(fn(*args, **kwargs))', 'File \"/home/carnd/anaconda3/envs/dl/lib/python3.5/site-packages/tensorflow/python/util/tf_should_use.py\", line 139, in _add_should_use_warning\\n    wrapped = TFShouldUseWarningWrapper(x)', 'File \"/home/carnd/anaconda3/envs/dl/lib/python3.5/site-packages/tensorflow/python/util/tf_should_use.py\", line 96, in __init__\\n    stack = [s.strip() for s in traceback.format_stack()]']\n",
      "==================================\n",
      "ERROR:tensorflow:==================================\n",
      "Object was never used (type <class 'tensorflow.python.framework.ops.Operation'>):\n",
      "<tf.Operation 'assert_rank_3/Assert/Assert' type=Assert>\n",
      "If you want to mark it as used call its \"mark_used()\" method.\n",
      "It was originally created here:\n",
      "['File \"/home/carnd/anaconda3/envs/dl/lib/python3.5/runpy.py\", line 184, in _run_module_as_main\\n    \"__main__\", mod_spec)', 'File \"/home/carnd/anaconda3/envs/dl/lib/python3.5/runpy.py\", line 85, in _run_code\\n    exec(code, run_globals)', 'File \"/home/carnd/anaconda3/envs/dl/lib/python3.5/site-packages/ipykernel/__main__.py\", line 3, in <module>\\n    app.launch_new_instance()', 'File \"/home/carnd/anaconda3/envs/dl/lib/python3.5/site-packages/traitlets/config/application.py\", line 658, in launch_instance\\n    app.start()', 'File \"/home/carnd/anaconda3/envs/dl/lib/python3.5/site-packages/ipykernel/kernelapp.py\", line 474, in start\\n    ioloop.IOLoop.instance().start()', 'File \"/home/carnd/anaconda3/envs/dl/lib/python3.5/site-packages/zmq/eventloop/ioloop.py\", line 177, in start\\n    super(ZMQIOLoop, self).start()', 'File \"/home/carnd/anaconda3/envs/dl/lib/python3.5/site-packages/tornado/ioloop.py\", line 887, in start\\n    handler_func(fd_obj, events)', 'File \"/home/carnd/anaconda3/envs/dl/lib/python3.5/site-packages/tornado/stack_context.py\", line 275, in null_wrapper\\n    return fn(*args, **kwargs)', 'File \"/home/carnd/anaconda3/envs/dl/lib/python3.5/site-packages/zmq/eventloop/zmqstream.py\", line 440, in _handle_events\\n    self._handle_recv()', 'File \"/home/carnd/anaconda3/envs/dl/lib/python3.5/site-packages/zmq/eventloop/zmqstream.py\", line 472, in _handle_recv\\n    self._run_callback(callback, msg)', 'File \"/home/carnd/anaconda3/envs/dl/lib/python3.5/site-packages/zmq/eventloop/zmqstream.py\", line 414, in _run_callback\\n    callback(*args, **kwargs)', 'File \"/home/carnd/anaconda3/envs/dl/lib/python3.5/site-packages/tornado/stack_context.py\", line 275, in null_wrapper\\n    return fn(*args, **kwargs)', 'File \"/home/carnd/anaconda3/envs/dl/lib/python3.5/site-packages/ipykernel/kernelbase.py\", line 276, in dispatcher\\n    return self.dispatch_shell(stream, msg)', 'File \"/home/carnd/anaconda3/envs/dl/lib/python3.5/site-packages/ipykernel/kernelbase.py\", line 228, in dispatch_shell\\n    handler(stream, idents, msg)', 'File \"/home/carnd/anaconda3/envs/dl/lib/python3.5/site-packages/ipykernel/kernelbase.py\", line 390, in execute_request\\n    user_expressions, allow_stdin)', 'File \"/home/carnd/anaconda3/envs/dl/lib/python3.5/site-packages/ipykernel/ipkernel.py\", line 196, in do_execute\\n    res = shell.run_cell(code, store_history=store_history, silent=silent)', 'File \"/home/carnd/anaconda3/envs/dl/lib/python3.5/site-packages/ipykernel/zmqshell.py\", line 501, in run_cell\\n    return super(ZMQInteractiveShell, self).run_cell(*args, **kwargs)', 'File \"/home/carnd/anaconda3/envs/dl/lib/python3.5/site-packages/IPython/core/interactiveshell.py\", line 2717, in run_cell\\n    interactivity=interactivity, compiler=compiler, result=result)', 'File \"/home/carnd/anaconda3/envs/dl/lib/python3.5/site-packages/IPython/core/interactiveshell.py\", line 2827, in run_ast_nodes\\n    if self.run_code(code, result):', 'File \"/home/carnd/anaconda3/envs/dl/lib/python3.5/site-packages/IPython/core/interactiveshell.py\", line 2881, in run_code\\n    exec(code_obj, self.user_global_ns, self.user_ns)', 'File \"<ipython-input-7-ccfad3143051>\", line 27, in <module>\\n    tests.test_model_inputs(model_inputs)', 'File \"/home/carnd/deep-learning/language-translation/problem_unittests.py\", line 107, in test_model_inputs\\n    assert tf.assert_rank(keep_prob, 0, message=\\'Keep Probability has wrong rank\\')', 'File \"/home/carnd/anaconda3/envs/dl/lib/python3.5/site-packages/tensorflow/python/ops/check_ops.py\", line 617, in assert_rank\\n    dynamic_condition, data, summarize)', 'File \"/home/carnd/anaconda3/envs/dl/lib/python3.5/site-packages/tensorflow/python/ops/check_ops.py\", line 571, in _assert_rank_condition\\n    return control_flow_ops.Assert(condition, data, summarize=summarize)', 'File \"/home/carnd/anaconda3/envs/dl/lib/python3.5/site-packages/tensorflow/python/util/tf_should_use.py\", line 170, in wrapped\\n    return _add_should_use_warning(fn(*args, **kwargs))', 'File \"/home/carnd/anaconda3/envs/dl/lib/python3.5/site-packages/tensorflow/python/util/tf_should_use.py\", line 139, in _add_should_use_warning\\n    wrapped = TFShouldUseWarningWrapper(x)', 'File \"/home/carnd/anaconda3/envs/dl/lib/python3.5/site-packages/tensorflow/python/util/tf_should_use.py\", line 96, in __init__\\n    stack = [s.strip() for s in traceback.format_stack()]']\n",
      "==================================\n",
      "Tests Passed\n"
     ]
    }
   ],
   "source": [
    "def model_inputs():\n",
    "    \"\"\"\n",
    "    Create TF Placeholders for input, targets, learning rate, and lengths of source and target sequences.\n",
    "    :return: Tuple (input, targets, learning rate, keep probability, target sequence length,\n",
    "    max target sequence length, source sequence length)\n",
    "    \"\"\"\n",
    "    # TODO: Implement Function\n",
    "    target_seq_len = tf.placeholder(tf.int32, [None], name='target_sequence_length')\n",
    "    return (\n",
    "        tf.placeholder(tf.int32, [None, None], name='input'),\n",
    "        tf.placeholder(tf.int32, [None, None], name='targets'),\n",
    "        tf.placeholder(tf.float32, name='learning_rate'),\n",
    "        tf.placeholder(tf.float32, name='keep_prob'),\n",
    "        target_seq_len,\n",
    "        tf.reduce_max(target_seq_len, name='max_target_len'),\n",
    "        tf.placeholder(tf.int32, [None], name='source_sequence_length'),\n",
    "    )\n",
    "\n",
    "\n",
    "# Note\n",
    "# error below seems to be related to how the tests are written, with tensorflow 1.2\n",
    "# https://github.com/tensorflow/tensorflow/issues/11315\n",
    "\n",
    "\"\"\"\n",
    "DON'T MODIFY ANYTHING IN THIS CELL THAT IS BELOW THIS LINE\n",
    "\"\"\"\n",
    "tests.test_model_inputs(model_inputs)"
   ]
  },
  {
   "cell_type": "markdown",
   "metadata": {
    "deletable": true,
    "editable": true
   },
   "source": [
    "### Process Decoder Input\n",
    "Implement `process_decoder_input` by removing the last word id from each batch in `target_data` and concat the GO ID to the begining of each batch."
   ]
  },
  {
   "cell_type": "code",
   "execution_count": 8,
   "metadata": {
    "collapsed": false,
    "deletable": true,
    "editable": true
   },
   "outputs": [
    {
     "name": "stdout",
     "output_type": "stream",
     "text": [
      "Tests Passed\n"
     ]
    }
   ],
   "source": [
    "def process_decoder_input(target_data, target_vocab_to_int, batch_size):\n",
    "    \"\"\"\n",
    "    Preprocess target data for encoding\n",
    "    :param target_data: Target Placehoder\n",
    "    :param target_vocab_to_int: Dictionary to go from the target words to an id\n",
    "    :param batch_size: Batch Size\n",
    "    :return: Preprocessed target data\n",
    "    \"\"\"\n",
    "    # DONE: Implement Function\n",
    "    without_last = tf.strided_slice(\n",
    "        target_data,\n",
    "        [0, 0],\n",
    "        [batch_size, -1],\n",
    "        [1, 1]\n",
    "    )\n",
    "    go = tf.fill([batch_size, 1], target_vocab_to_int['<GO>'])\n",
    "    return tf.concat([go, without_last], 1)\n",
    "\n",
    "\"\"\"\n",
    "DON'T MODIFY ANYTHING IN THIS CELL THAT IS BELOW THIS LINE\n",
    "\"\"\"\n",
    "tests.test_process_encoding_input(process_decoder_input)"
   ]
  },
  {
   "cell_type": "markdown",
   "metadata": {
    "deletable": true,
    "editable": true
   },
   "source": [
    "### Encoding\n",
    "Implement `encoding_layer()` to create a Encoder RNN layer:\n",
    " * Embed the encoder input using [`tf.contrib.layers.embed_sequence`](https://www.tensorflow.org/api_docs/python/tf/contrib/layers/embed_sequence)\n",
    " * Construct a [stacked](https://github.com/tensorflow/tensorflow/blob/6947f65a374ebf29e74bb71e36fd82760056d82c/tensorflow/docs_src/tutorials/recurrent.md#stacking-multiple-lstms) [`tf.contrib.rnn.LSTMCell`](https://www.tensorflow.org/api_docs/python/tf/contrib/rnn/LSTMCell) wrapped in a [`tf.contrib.rnn.DropoutWrapper`](https://www.tensorflow.org/api_docs/python/tf/contrib/rnn/DropoutWrapper)\n",
    " * Pass cell and embedded input to [`tf.nn.dynamic_rnn()`](https://www.tensorflow.org/api_docs/python/tf/nn/dynamic_rnn)"
   ]
  },
  {
   "cell_type": "code",
   "execution_count": 10,
   "metadata": {
    "collapsed": false,
    "deletable": true,
    "editable": true,
    "scrolled": false
   },
   "outputs": [
    {
     "name": "stdout",
     "output_type": "stream",
     "text": [
      "Tests Passed\n"
     ]
    }
   ],
   "source": [
    "import tensorflow.contrib as c\n",
    "from imp import reload\n",
    "reload(tests)\n",
    "\n",
    "def encoding_layer(rnn_inputs, rnn_size, num_layers, keep_prob, \n",
    "                   source_sequence_length, source_vocab_size, \n",
    "                   encoding_embedding_size):\n",
    "    \"\"\"\n",
    "    Create encoding layer\n",
    "    :param rnn_inputs: Inputs for the RNN\n",
    "    :param rnn_size: RNN Size\n",
    "    :param num_layers: Number of layers\n",
    "    :param keep_prob: Dropout keep probability\n",
    "    :param source_sequence_length: a list of the lengths of each sequence in the batch\n",
    "    :param source_vocab_size: vocabulary size of source data\n",
    "    :param encoding_embedding_size: embedding size of source data\n",
    "    :return: tuple (RNN output, RNN state)\n",
    "    \"\"\"\n",
    "    embed = c.layers.embed_sequence(rnn_inputs, source_vocab_size, encoding_embedding_size)\n",
    "    def make_lstm():\n",
    "        return c.rnn.DropoutWrapper(\n",
    "            c.rnn.BasicLSTMCell(rnn_size),\n",
    "            output_keep_prob=keep_prob,\n",
    "        )\n",
    "    multi = c.rnn.MultiRNNCell([make_lstm() for _i in range(num_layers)])\n",
    "    return tf.nn.dynamic_rnn(multi, embed, dtype=tf.float32)\n",
    "\n",
    "\"\"\"\n",
    "DON'T MODIFY ANYTHING IN THIS CELL THAT IS BELOW THIS LINE\n",
    "\"\"\"\n",
    "tests.test_encoding_layer(encoding_layer)"
   ]
  },
  {
   "cell_type": "markdown",
   "metadata": {
    "deletable": true,
    "editable": true
   },
   "source": [
    "### Decoding - Training\n",
    "Create a training decoding layer:\n",
    "* Create a [`tf.contrib.seq2seq.TrainingHelper`](https://www.tensorflow.org/api_docs/python/tf/contrib/seq2seq/TrainingHelper) \n",
    "* Create a [`tf.contrib.seq2seq.BasicDecoder`](https://www.tensorflow.org/api_docs/python/tf/contrib/seq2seq/BasicDecoder)\n",
    "* Obtain the decoder outputs from [`tf.contrib.seq2seq.dynamic_decode`](https://www.tensorflow.org/api_docs/python/tf/contrib/seq2seq/dynamic_decode)"
   ]
  },
  {
   "cell_type": "code",
   "execution_count": 11,
   "metadata": {
    "collapsed": false,
    "deletable": true,
    "editable": true
   },
   "outputs": [
    {
     "name": "stdout",
     "output_type": "stream",
     "text": [
      "Tests Passed\n"
     ]
    }
   ],
   "source": [
    "import tensorflow.contrib as c\n",
    "\n",
    "def decoding_layer_train(encoder_state, dec_cell, dec_embed_input, \n",
    "                         target_sequence_length, max_summary_length, \n",
    "                         output_layer, keep_prob):\n",
    "    \"\"\"\n",
    "    Create a decoding layer for training\n",
    "    :param encoder_state: Encoder State\n",
    "    :param dec_cell: Decoder RNN Cell\n",
    "    :param dec_embed_input: Decoder embedded input\n",
    "    :param target_sequence_length: The lengths of each sequence in the target batch\n",
    "    :param max_summary_length: The length of the longest sequence in the batch\n",
    "    :param output_layer: Function to apply the output layer\n",
    "    :param keep_prob: Dropout keep probability\n",
    "    :return: BasicDecoderOutput containing training logits and sample_id\n",
    "    \"\"\"\n",
    "    helper = c.seq2seq.TrainingHelper(\n",
    "        dec_embed_input,\n",
    "        target_sequence_length,\n",
    "    )\n",
    "    decoder = c.seq2seq.BasicDecoder(\n",
    "        dec_cell,\n",
    "        helper,\n",
    "        encoder_state,\n",
    "        output_layer=output_layer,\n",
    "    )\n",
    "    (finished, first_inputs, initial_state) = c.seq2seq.dynamic_decode(\n",
    "        decoder,\n",
    "        maximum_iterations=max_summary_length,\n",
    "    )\n",
    "    return finished\n",
    "\n",
    "\"\"\"\n",
    "DON'T MODIFY ANYTHING IN THIS CELL THAT IS BELOW THIS LINE\n",
    "\"\"\"\n",
    "tests.test_decoding_layer_train(decoding_layer_train)"
   ]
  },
  {
   "cell_type": "markdown",
   "metadata": {
    "deletable": true,
    "editable": true
   },
   "source": [
    "### Decoding - Inference\n",
    "Create inference decoder:\n",
    "* Create a [`tf.contrib.seq2seq.GreedyEmbeddingHelper`](https://www.tensorflow.org/api_docs/python/tf/contrib/seq2seq/GreedyEmbeddingHelper)\n",
    "* Create a [`tf.contrib.seq2seq.BasicDecoder`](https://www.tensorflow.org/api_docs/python/tf/contrib/seq2seq/BasicDecoder)\n",
    "* Obtain the decoder outputs from [`tf.contrib.seq2seq.dynamic_decode`](https://www.tensorflow.org/api_docs/python/tf/contrib/seq2seq/dynamic_decode)"
   ]
  },
  {
   "cell_type": "code",
   "execution_count": 15,
   "metadata": {
    "collapsed": false,
    "deletable": true,
    "editable": true,
    "scrolled": true
   },
   "outputs": [
    {
     "name": "stdout",
     "output_type": "stream",
     "text": [
      "Tests Passed\n"
     ]
    }
   ],
   "source": [
    "import tensorflow.contrib as c\n",
    "\n",
    "def decoding_layer_infer(encoder_state, dec_cell, dec_embeddings, start_of_sequence_id,\n",
    "                         end_of_sequence_id, max_target_sequence_length,\n",
    "                         vocab_size, output_layer, batch_size, keep_prob):\n",
    "    \"\"\"\n",
    "    Create a decoding layer for inference\n",
    "    :param encoder_state: Encoder state\n",
    "    :param dec_cell: Decoder RNN Cell\n",
    "    :param dec_embeddings: Decoder embeddings\n",
    "    :param start_of_sequence_id: GO ID\n",
    "    :param end_of_sequence_id: EOS Id\n",
    "    :param max_target_sequence_length: Maximum length of target sequences\n",
    "    :param vocab_size: Size of decoder/target vocabulary\n",
    "    :param decoding_scope: TenorFlow Variable Scope for decoding\n",
    "    :param output_layer: Function to apply the output layer\n",
    "    :param batch_size: Batch size\n",
    "    :param keep_prob: Dropout keep probability\n",
    "    :return: BasicDecoderOutput containing inference logits and sample_id\n",
    "    \"\"\"\n",
    "    # TODO: Implement Function\n",
    "    start_tokens = tf.tile(\n",
    "        tf.constant([start_of_sequence_id], dtype=tf.int32),\n",
    "        [batch_size]\n",
    "    )\n",
    "    embedding_helper = c.seq2seq.GreedyEmbeddingHelper(\n",
    "        dec_embeddings,\n",
    "        start_tokens,\n",
    "        end_of_sequence_id,\n",
    "    )\n",
    "    decoder = c.seq2seq.BasicDecoder(\n",
    "        dec_cell,\n",
    "        embedding_helper,\n",
    "        encoder_state,\n",
    "        output_layer=output_layer,    \n",
    "    )\n",
    "\n",
    "    (finished, first_inputs, initial_state) = c.seq2seq.dynamic_decode(\n",
    "        decoder,\n",
    "        maximum_iterations=max_target_sequence_length,\n",
    "    )\n",
    "    \n",
    "    return finished\n",
    "    \n",
    "\n",
    "\"\"\"\n",
    "DON'T MODIFY ANYTHING IN THIS CELL THAT IS BELOW THIS LINE\n",
    "\"\"\"\n",
    "tests.test_decoding_layer_infer(decoding_layer_infer)"
   ]
  },
  {
   "cell_type": "markdown",
   "metadata": {
    "deletable": true,
    "editable": true
   },
   "source": [
    "### Build the Decoding Layer\n",
    "Implement `decoding_layer()` to create a Decoder RNN layer.\n",
    "\n",
    "* Embed the target sequences\n",
    "* Construct the decoder LSTM cell (just like you constructed the encoder cell above)\n",
    "* Create an output layer to map the outputs of the decoder to the elements of our vocabulary\n",
    "* Use the your `decoding_layer_train(encoder_state, dec_cell, dec_embed_input, target_sequence_length, max_target_sequence_length, output_layer, keep_prob)` function to get the training logits.\n",
    "* Use your `decoding_layer_infer(encoder_state, dec_cell, dec_embeddings, start_of_sequence_id, end_of_sequence_id, max_target_sequence_length, vocab_size, output_layer, batch_size, keep_prob)` function to get the inference logits.\n",
    "\n",
    "Note: You'll need to use [tf.variable_scope](https://www.tensorflow.org/api_docs/python/tf/variable_scope) to share variables between training and inference."
   ]
  },
  {
   "cell_type": "code",
   "execution_count": 30,
   "metadata": {
    "collapsed": false,
    "deletable": true,
    "editable": true
   },
   "outputs": [
    {
     "name": "stdout",
     "output_type": "stream",
     "text": [
      "Tests Passed\n"
     ]
    }
   ],
   "source": [
    "def dec_cell(keep_prob, rnn_size, num_layers):\n",
    "    def make_lstm():\n",
    "        return c.rnn.DropoutWrapper(\n",
    "            c.rnn.BasicLSTMCell(rnn_size),\n",
    "            output_keep_prob=keep_prob,\n",
    "        )\n",
    "    return c.rnn.MultiRNNCell([make_lstm() for _i in range(num_layers)])\n",
    "\n",
    "\n",
    "def decoding_layer(dec_input, encoder_state,\n",
    "                   target_sequence_length, max_target_sequence_length,\n",
    "                   rnn_size,\n",
    "                   num_layers, target_vocab_to_int, target_vocab_size,\n",
    "                   batch_size, keep_prob, decoding_embedding_size):\n",
    "    \"\"\"\n",
    "    Create decoding layer\n",
    "    :param dec_input: Decoder input\n",
    "    :param encoder_state: Encoder state\n",
    "    :param target_sequence_length: The lengths of each sequence in the target batch\n",
    "    :param max_target_sequence_length: Maximum length of target sequences\n",
    "    :param rnn_size: RNN Size\n",
    "    :param num_layers: Number of layers\n",
    "    :param target_vocab_to_int: Dictionary to go from the target words to an id\n",
    "    :param target_vocab_size: Size of target vocabulary\n",
    "    :param batch_size: The size of the batch\n",
    "    :param keep_prob: Dropout keep probability\n",
    "    :param decoding_embedding_size: Decoding embedding size\n",
    "    :return: Tuple of (Training BasicDecoderOutput, Inference BasicDecoderOutput)\n",
    "    \"\"\"\n",
    "    \n",
    "    dec_embeddings = tf.Variable(tf.random_uniform([target_vocab_size, decoding_embedding_size]))\n",
    "    dec_embed_input = tf.nn.embedding_lookup(dec_embeddings, dec_input)\n",
    "    \n",
    "    cell = dec_cell(keep_prob, rnn_size, num_layers)\n",
    "    output_layer = Dense(\n",
    "        target_vocab_size,\n",
    "        kernel_initializer = tf.truncated_normal_initializer(mean = 0.0, stddev=0.1)\n",
    "    )\n",
    "    with tf.variable_scope(\"decode\"):\n",
    "        training_logits = decoding_layer_train(\n",
    "            encoder_state, \n",
    "            cell, \n",
    "            dec_embed_input, \n",
    "            target_sequence_length, \n",
    "            max_target_sequence_length, \n",
    "            output_layer, \n",
    "            keep_prob\n",
    "        )\n",
    "    with tf.variable_scope(\"decode\", reuse=True):    \n",
    "        start_of_sequence_id = target_vocab_to_int['<GO>']\n",
    "        end_of_sequence_id = target_vocab_to_int['<EOS>']\n",
    "        \n",
    "        infer_logits = decoding_layer_infer(\n",
    "            encoder_state, \n",
    "            cell, \n",
    "            dec_embeddings, \n",
    "            start_of_sequence_id, \n",
    "            end_of_sequence_id, \n",
    "            max_target_sequence_length, \n",
    "            target_vocab_size, \n",
    "            output_layer, \n",
    "            batch_size, \n",
    "            keep_prob\n",
    "        )\n",
    "\n",
    "    return (training_logits, infer_logits)\n",
    "\n",
    "\n",
    "\n",
    "\"\"\"\n",
    "DON'T MODIFY ANYTHING IN THIS CELL THAT IS BELOW THIS LINE\n",
    "\"\"\"\n",
    "tests.test_decoding_layer(decoding_layer)"
   ]
  },
  {
   "cell_type": "markdown",
   "metadata": {
    "deletable": true,
    "editable": true
   },
   "source": [
    "### Build the Neural Network\n",
    "Apply the functions you implemented above to:\n",
    "\n",
    "- Encode the input using your `encoding_layer(rnn_inputs, rnn_size, num_layers, keep_prob,  source_sequence_length, source_vocab_size, encoding_embedding_size)`.\n",
    "- Process target data using your `process_decoder_input(target_data, target_vocab_to_int, batch_size)` function.\n",
    "- Decode the encoded input using your `decoding_layer(dec_input, enc_state, target_sequence_length, max_target_sentence_length, rnn_size, num_layers, target_vocab_to_int, target_vocab_size, batch_size, keep_prob, dec_embedding_size)` function."
   ]
  },
  {
   "cell_type": "code",
   "execution_count": 31,
   "metadata": {
    "collapsed": false,
    "deletable": true,
    "editable": true
   },
   "outputs": [
    {
     "name": "stdout",
     "output_type": "stream",
     "text": [
      "Tests Passed\n"
     ]
    }
   ],
   "source": [
    "def seq2seq_model(input_data, target_data, keep_prob, batch_size,\n",
    "                  source_sequence_length, target_sequence_length,\n",
    "                  max_target_sentence_length,\n",
    "                  source_vocab_size, target_vocab_size,\n",
    "                  enc_embedding_size, dec_embedding_size,\n",
    "                  rnn_size, num_layers, target_vocab_to_int):\n",
    "    \"\"\"\n",
    "    Build the Sequence-to-Sequence part of the neural network\n",
    "    :param input_data: Input placeholder\n",
    "    :param target_data: Target placeholder\n",
    "    :param keep_prob: Dropout keep probability placeholder\n",
    "    :param batch_size: Batch Size\n",
    "    :param source_sequence_length: Sequence Lengths of source sequences in the batch\n",
    "    :param target_sequence_length: Sequence Lengths of target sequences in the batch\n",
    "    :param source_vocab_size: Source vocabulary size\n",
    "    :param target_vocab_size: Target vocabulary size\n",
    "    :param enc_embedding_size: Decoder embedding size\n",
    "    :param dec_embedding_size: Encoder embedding size\n",
    "    :param rnn_size: RNN Size\n",
    "    :param num_layers: Number of layers\n",
    "    :param target_vocab_to_int: Dictionary to go from the target words to an id\n",
    "    :return: Tuple of (Training BasicDecoderOutput, Inference BasicDecoderOutput)\n",
    "    \"\"\"\n",
    "    \n",
    "    (_, encoder_state) = encoding_layer(\n",
    "        input_data, \n",
    "        rnn_size, \n",
    "        num_layers, \n",
    "        keep_prob, \n",
    "        source_sequence_length, \n",
    "        source_vocab_size, \n",
    "        enc_embedding_size\n",
    "    )\n",
    "    \n",
    "    decoder_input = process_decoder_input(target_data, target_vocab_to_int, batch_size)\n",
    "    \n",
    "    return decoding_layer(\n",
    "        decoder_input, \n",
    "        encoder_state,\n",
    "        target_sequence_length, \n",
    "        max_target_sentence_length,\n",
    "        rnn_size,\n",
    "        num_layers, \n",
    "        target_vocab_to_int, \n",
    "        target_vocab_size,\n",
    "        batch_size, \n",
    "        keep_prob, \n",
    "        dec_embedding_size\n",
    "    )\n",
    "\n",
    "\n",
    "\n",
    "\"\"\"\n",
    "DON'T MODIFY ANYTHING IN THIS CELL THAT IS BELOW THIS LINE\n",
    "\"\"\"\n",
    "tests.test_seq2seq_model(seq2seq_model)"
   ]
  },
  {
   "cell_type": "markdown",
   "metadata": {
    "deletable": true,
    "editable": true
   },
   "source": [
    "## Neural Network Training\n",
    "### Hyperparameters\n",
    "Tune the following parameters:\n",
    "\n",
    "- Set `epochs` to the number of epochs.\n",
    "- Set `batch_size` to the batch size.\n",
    "- Set `rnn_size` to the size of the RNNs.\n",
    "- Set `num_layers` to the number of layers.\n",
    "- Set `encoding_embedding_size` to the size of the embedding for the encoder.\n",
    "- Set `decoding_embedding_size` to the size of the embedding for the decoder.\n",
    "- Set `learning_rate` to the learning rate.\n",
    "- Set `keep_probability` to the Dropout keep probability\n",
    "- Set `display_step` to state how many steps between each debug output statement"
   ]
  },
  {
   "cell_type": "code",
   "execution_count": 32,
   "metadata": {
    "collapsed": true,
    "deletable": true,
    "editable": true
   },
   "outputs": [],
   "source": [
    "# Number of Epochs\n",
    "epochs = 40\n",
    "# Batch Size\n",
    "batch_size = 128\n",
    "# RNN Size\n",
    "rnn_size = 128\n",
    "# Number of Layers\n",
    "num_layers = 2\n",
    "# Embedding Size\n",
    "encoding_embedding_size = 512\n",
    "decoding_embedding_size = 512\n",
    "# Learning Rate\n",
    "learning_rate = 0.01\n",
    "# Dropout Keep Probability\n",
    "keep_probability = 0.8\n",
    "display_step = 10"
   ]
  },
  {
   "cell_type": "markdown",
   "metadata": {
    "deletable": true,
    "editable": true
   },
   "source": [
    "### Build the Graph\n",
    "Build the graph using the neural network you implemented."
   ]
  },
  {
   "cell_type": "code",
   "execution_count": 33,
   "metadata": {
    "collapsed": true,
    "deletable": true,
    "editable": true
   },
   "outputs": [],
   "source": [
    "\"\"\"\n",
    "DON'T MODIFY ANYTHING IN THIS CELL\n",
    "\"\"\"\n",
    "save_path = 'checkpoints/dev'\n",
    "(source_int_text, target_int_text), (source_vocab_to_int, target_vocab_to_int), _ = helper.load_preprocess()\n",
    "max_target_sentence_length = max([len(sentence) for sentence in source_int_text])\n",
    "\n",
    "train_graph = tf.Graph()\n",
    "with train_graph.as_default():\n",
    "    input_data, targets, lr, keep_prob, target_sequence_length, max_target_sequence_length, source_sequence_length = model_inputs()\n",
    "\n",
    "    #sequence_length = tf.placeholder_with_default(max_target_sentence_length, None, name='sequence_length')\n",
    "    input_shape = tf.shape(input_data)\n",
    "\n",
    "    train_logits, inference_logits = seq2seq_model(tf.reverse(input_data, [-1]),\n",
    "                                                   targets,\n",
    "                                                   keep_prob,\n",
    "                                                   batch_size,\n",
    "                                                   source_sequence_length,\n",
    "                                                   target_sequence_length,\n",
    "                                                   max_target_sequence_length,\n",
    "                                                   len(source_vocab_to_int),\n",
    "                                                   len(target_vocab_to_int),\n",
    "                                                   encoding_embedding_size,\n",
    "                                                   decoding_embedding_size,\n",
    "                                                   rnn_size,\n",
    "                                                   num_layers,\n",
    "                                                   target_vocab_to_int)\n",
    "\n",
    "\n",
    "    training_logits = tf.identity(train_logits.rnn_output, name='logits')\n",
    "    inference_logits = tf.identity(inference_logits.sample_id, name='predictions')\n",
    "\n",
    "    masks = tf.sequence_mask(target_sequence_length, max_target_sequence_length, dtype=tf.float32, name='masks')\n",
    "\n",
    "    with tf.name_scope(\"optimization\"):\n",
    "        # Loss function\n",
    "        cost = tf.contrib.seq2seq.sequence_loss(\n",
    "            training_logits,\n",
    "            targets,\n",
    "            masks)\n",
    "\n",
    "        # Optimizer\n",
    "        optimizer = tf.train.AdamOptimizer(lr)\n",
    "\n",
    "        # Gradient Clipping\n",
    "        gradients = optimizer.compute_gradients(cost)\n",
    "        capped_gradients = [(tf.clip_by_value(grad, -1., 1.), var) for grad, var in gradients if grad is not None]\n",
    "        train_op = optimizer.apply_gradients(capped_gradients)\n"
   ]
  },
  {
   "cell_type": "markdown",
   "metadata": {
    "deletable": true,
    "editable": true
   },
   "source": [
    "Batch and pad the source and target sequences"
   ]
  },
  {
   "cell_type": "code",
   "execution_count": 34,
   "metadata": {
    "collapsed": true,
    "deletable": true,
    "editable": true
   },
   "outputs": [],
   "source": [
    "\"\"\"\n",
    "DON'T MODIFY ANYTHING IN THIS CELL\n",
    "\"\"\"\n",
    "def pad_sentence_batch(sentence_batch, pad_int):\n",
    "    \"\"\"Pad sentences with <PAD> so that each sentence of a batch has the same length\"\"\"\n",
    "    max_sentence = max([len(sentence) for sentence in sentence_batch])\n",
    "    return [sentence + [pad_int] * (max_sentence - len(sentence)) for sentence in sentence_batch]\n",
    "\n",
    "\n",
    "def get_batches(sources, targets, batch_size, source_pad_int, target_pad_int):\n",
    "    \"\"\"Batch targets, sources, and the lengths of their sentences together\"\"\"\n",
    "    for batch_i in range(0, len(sources)//batch_size):\n",
    "        start_i = batch_i * batch_size\n",
    "\n",
    "        # Slice the right amount for the batch\n",
    "        sources_batch = sources[start_i:start_i + batch_size]\n",
    "        targets_batch = targets[start_i:start_i + batch_size]\n",
    "\n",
    "        # Pad\n",
    "        pad_sources_batch = np.array(pad_sentence_batch(sources_batch, source_pad_int))\n",
    "        pad_targets_batch = np.array(pad_sentence_batch(targets_batch, target_pad_int))\n",
    "\n",
    "        # Need the lengths for the _lengths parameters\n",
    "        pad_targets_lengths = []\n",
    "        for target in pad_targets_batch:\n",
    "            pad_targets_lengths.append(len(target))\n",
    "\n",
    "        pad_source_lengths = []\n",
    "        for source in pad_sources_batch:\n",
    "            pad_source_lengths.append(len(source))\n",
    "\n",
    "        yield pad_sources_batch, pad_targets_batch, pad_source_lengths, pad_targets_lengths\n"
   ]
  },
  {
   "cell_type": "markdown",
   "metadata": {
    "deletable": true,
    "editable": true
   },
   "source": [
    "### Train\n",
    "Train the neural network on the preprocessed data. If you have a hard time getting a good loss, check the forms to see if anyone is having the same problem."
   ]
  },
  {
   "cell_type": "code",
   "execution_count": null,
   "metadata": {
    "collapsed": false,
    "deletable": true,
    "editable": true,
    "scrolled": true
   },
   "outputs": [
    {
     "name": "stdout",
     "output_type": "stream",
     "text": [
      "Epoch   0 Batch   10/1077 - Train Accuracy: 0.2516, Validation Accuracy: 0.3523, Loss: 3.4132\n",
      "Epoch   0 Batch   20/1077 - Train Accuracy: 0.3613, Validation Accuracy: 0.4229, Loss: 2.6653\n",
      "Epoch   0 Batch   30/1077 - Train Accuracy: 0.4559, Validation Accuracy: 0.4879, Loss: 2.3397\n",
      "Epoch   0 Batch   40/1077 - Train Accuracy: 0.4727, Validation Accuracy: 0.5096, Loss: 2.1210\n",
      "Epoch   0 Batch   50/1077 - Train Accuracy: 0.4746, Validation Accuracy: 0.5391, Loss: 1.9420\n",
      "Epoch   0 Batch   60/1077 - Train Accuracy: 0.5387, Validation Accuracy: 0.5582, Loss: 1.6574\n",
      "Epoch   0 Batch   70/1077 - Train Accuracy: 0.5321, Validation Accuracy: 0.5788, Loss: 1.5649\n",
      "Epoch   0 Batch   80/1077 - Train Accuracy: 0.5152, Validation Accuracy: 0.5536, Loss: 1.3708\n",
      "Epoch   0 Batch   90/1077 - Train Accuracy: 0.4656, Validation Accuracy: 0.5149, Loss: 1.2831\n",
      "Epoch   0 Batch  100/1077 - Train Accuracy: 0.4359, Validation Accuracy: 0.4862, Loss: 1.1182\n",
      "Epoch   0 Batch  110/1077 - Train Accuracy: 0.5012, Validation Accuracy: 0.5114, Loss: 0.9889\n",
      "Epoch   0 Batch  120/1077 - Train Accuracy: 0.5316, Validation Accuracy: 0.5323, Loss: 0.9704\n",
      "Epoch   0 Batch  130/1077 - Train Accuracy: 0.5026, Validation Accuracy: 0.5046, Loss: 0.8308\n",
      "Epoch   0 Batch  140/1077 - Train Accuracy: 0.5641, Validation Accuracy: 0.5884, Loss: 0.8818\n",
      "Epoch   0 Batch  150/1077 - Train Accuracy: 0.6295, Validation Accuracy: 0.5984, Loss: 0.7933\n",
      "Epoch   0 Batch  160/1077 - Train Accuracy: 0.6184, Validation Accuracy: 0.5966, Loss: 0.7846\n",
      "Epoch   0 Batch  170/1077 - Train Accuracy: 0.6074, Validation Accuracy: 0.5913, Loss: 0.8009\n",
      "Epoch   0 Batch  180/1077 - Train Accuracy: 0.6188, Validation Accuracy: 0.5906, Loss: 0.7320\n",
      "Epoch   0 Batch  190/1077 - Train Accuracy: 0.6594, Validation Accuracy: 0.6030, Loss: 0.6962\n",
      "Epoch   0 Batch  200/1077 - Train Accuracy: 0.6422, Validation Accuracy: 0.6367, Loss: 0.7124\n",
      "Epoch   0 Batch  210/1077 - Train Accuracy: 0.6313, Validation Accuracy: 0.6158, Loss: 0.6677\n",
      "Epoch   0 Batch  220/1077 - Train Accuracy: 0.6579, Validation Accuracy: 0.6690, Loss: 0.6654\n",
      "Epoch   0 Batch  230/1077 - Train Accuracy: 0.6641, Validation Accuracy: 0.6218, Loss: 0.6300\n",
      "Epoch   0 Batch  240/1077 - Train Accuracy: 0.6875, Validation Accuracy: 0.6445, Loss: 0.6007\n",
      "Epoch   0 Batch  250/1077 - Train Accuracy: 0.6680, Validation Accuracy: 0.6594, Loss: 0.5491\n",
      "Epoch   0 Batch  260/1077 - Train Accuracy: 0.6838, Validation Accuracy: 0.6534, Loss: 0.5654\n",
      "Epoch   0 Batch  270/1077 - Train Accuracy: 0.6285, Validation Accuracy: 0.6474, Loss: 0.6163\n",
      "Epoch   0 Batch  280/1077 - Train Accuracy: 0.6785, Validation Accuracy: 0.6950, Loss: 0.5944\n",
      "Epoch   0 Batch  290/1077 - Train Accuracy: 0.6672, Validation Accuracy: 0.6467, Loss: 0.5818\n",
      "Epoch   0 Batch  300/1077 - Train Accuracy: 0.7085, Validation Accuracy: 0.6754, Loss: 0.5286\n",
      "Epoch   0 Batch  310/1077 - Train Accuracy: 0.6691, Validation Accuracy: 0.6811, Loss: 0.5548\n",
      "Epoch   0 Batch  320/1077 - Train Accuracy: 0.6980, Validation Accuracy: 0.6630, Loss: 0.5325\n",
      "Epoch   0 Batch  330/1077 - Train Accuracy: 0.7191, Validation Accuracy: 0.6676, Loss: 0.5135\n",
      "Epoch   0 Batch  340/1077 - Train Accuracy: 0.7270, Validation Accuracy: 0.6932, Loss: 0.4945\n",
      "Epoch   0 Batch  350/1077 - Train Accuracy: 0.7082, Validation Accuracy: 0.6989, Loss: 0.5006\n",
      "Epoch   0 Batch  360/1077 - Train Accuracy: 0.7094, Validation Accuracy: 0.7255, Loss: 0.4744\n",
      "Epoch   0 Batch  370/1077 - Train Accuracy: 0.7489, Validation Accuracy: 0.6928, Loss: 0.4380\n",
      "Epoch   0 Batch  380/1077 - Train Accuracy: 0.7473, Validation Accuracy: 0.7170, Loss: 0.4493\n",
      "Epoch   0 Batch  390/1077 - Train Accuracy: 0.7137, Validation Accuracy: 0.7337, Loss: 0.4521\n",
      "Epoch   0 Batch  400/1077 - Train Accuracy: 0.7383, Validation Accuracy: 0.7013, Loss: 0.4617\n",
      "Epoch   0 Batch  410/1077 - Train Accuracy: 0.7426, Validation Accuracy: 0.7475, Loss: 0.4415\n",
      "Epoch   0 Batch  420/1077 - Train Accuracy: 0.7668, Validation Accuracy: 0.7159, Loss: 0.3758\n",
      "Epoch   0 Batch  430/1077 - Train Accuracy: 0.7555, Validation Accuracy: 0.7422, Loss: 0.4104\n",
      "Epoch   0 Batch  440/1077 - Train Accuracy: 0.7555, Validation Accuracy: 0.7227, Loss: 0.4257\n",
      "Epoch   0 Batch  450/1077 - Train Accuracy: 0.7934, Validation Accuracy: 0.7276, Loss: 0.3863\n",
      "Epoch   0 Batch  460/1077 - Train Accuracy: 0.7523, Validation Accuracy: 0.7386, Loss: 0.4117\n",
      "Epoch   0 Batch  470/1077 - Train Accuracy: 0.7393, Validation Accuracy: 0.7475, Loss: 0.4042\n",
      "Epoch   0 Batch  480/1077 - Train Accuracy: 0.8055, Validation Accuracy: 0.7433, Loss: 0.3702\n",
      "Epoch   0 Batch  490/1077 - Train Accuracy: 0.7969, Validation Accuracy: 0.7322, Loss: 0.3764\n",
      "Epoch   0 Batch  500/1077 - Train Accuracy: 0.7906, Validation Accuracy: 0.7475, Loss: 0.3669\n",
      "Epoch   0 Batch  510/1077 - Train Accuracy: 0.7918, Validation Accuracy: 0.7376, Loss: 0.3462\n",
      "Epoch   0 Batch  520/1077 - Train Accuracy: 0.8114, Validation Accuracy: 0.7724, Loss: 0.3143\n",
      "Epoch   0 Batch  530/1077 - Train Accuracy: 0.7594, Validation Accuracy: 0.7454, Loss: 0.3401\n",
      "Epoch   0 Batch  540/1077 - Train Accuracy: 0.8027, Validation Accuracy: 0.7393, Loss: 0.3121\n",
      "Epoch   0 Batch  550/1077 - Train Accuracy: 0.7922, Validation Accuracy: 0.7571, Loss: 0.3314\n",
      "Epoch   0 Batch  560/1077 - Train Accuracy: 0.7801, Validation Accuracy: 0.7862, Loss: 0.3239\n",
      "Epoch   0 Batch  570/1077 - Train Accuracy: 0.8047, Validation Accuracy: 0.7855, Loss: 0.3268\n",
      "Epoch   0 Batch  580/1077 - Train Accuracy: 0.8166, Validation Accuracy: 0.7898, Loss: 0.2695\n",
      "Epoch   0 Batch  590/1077 - Train Accuracy: 0.7792, Validation Accuracy: 0.7901, Loss: 0.3222\n",
      "Epoch   0 Batch  600/1077 - Train Accuracy: 0.8315, Validation Accuracy: 0.7997, Loss: 0.2834\n",
      "Epoch   0 Batch  610/1077 - Train Accuracy: 0.8368, Validation Accuracy: 0.8235, Loss: 0.3038\n",
      "Epoch   0 Batch  620/1077 - Train Accuracy: 0.8063, Validation Accuracy: 0.7617, Loss: 0.2723\n",
      "Epoch   0 Batch  630/1077 - Train Accuracy: 0.7988, Validation Accuracy: 0.8125, Loss: 0.2841\n",
      "Epoch   0 Batch  640/1077 - Train Accuracy: 0.8129, Validation Accuracy: 0.8022, Loss: 0.2833\n",
      "Epoch   0 Batch  650/1077 - Train Accuracy: 0.8348, Validation Accuracy: 0.7781, Loss: 0.2918\n",
      "Epoch   0 Batch  660/1077 - Train Accuracy: 0.8418, Validation Accuracy: 0.7802, Loss: 0.2619\n",
      "Epoch   0 Batch  670/1077 - Train Accuracy: 0.8366, Validation Accuracy: 0.8153, Loss: 0.2550\n",
      "Epoch   0 Batch  680/1077 - Train Accuracy: 0.8025, Validation Accuracy: 0.8008, Loss: 0.2339\n",
      "Epoch   0 Batch  690/1077 - Train Accuracy: 0.8520, Validation Accuracy: 0.7951, Loss: 0.2397\n",
      "Epoch   0 Batch  700/1077 - Train Accuracy: 0.8574, Validation Accuracy: 0.8058, Loss: 0.2294\n",
      "Epoch   0 Batch  710/1077 - Train Accuracy: 0.8664, Validation Accuracy: 0.7969, Loss: 0.2389\n",
      "Epoch   0 Batch  720/1077 - Train Accuracy: 0.8701, Validation Accuracy: 0.8026, Loss: 0.2496\n",
      "Epoch   0 Batch  730/1077 - Train Accuracy: 0.8617, Validation Accuracy: 0.7912, Loss: 0.2236\n",
      "Epoch   0 Batch  740/1077 - Train Accuracy: 0.8445, Validation Accuracy: 0.8295, Loss: 0.2056\n",
      "Epoch   0 Batch  750/1077 - Train Accuracy: 0.8762, Validation Accuracy: 0.8210, Loss: 0.2014\n",
      "Epoch   0 Batch  760/1077 - Train Accuracy: 0.8570, Validation Accuracy: 0.8253, Loss: 0.2284\n",
      "Epoch   0 Batch  770/1077 - Train Accuracy: 0.8318, Validation Accuracy: 0.8441, Loss: 0.2167\n",
      "Epoch   0 Batch  780/1077 - Train Accuracy: 0.8211, Validation Accuracy: 0.8310, Loss: 0.2382\n",
      "Epoch   0 Batch  790/1077 - Train Accuracy: 0.7816, Validation Accuracy: 0.8189, Loss: 0.2315\n",
      "Epoch   0 Batch  800/1077 - Train Accuracy: 0.8266, Validation Accuracy: 0.8398, Loss: 0.1996\n",
      "Epoch   0 Batch  810/1077 - Train Accuracy: 0.8765, Validation Accuracy: 0.8295, Loss: 0.1920\n",
      "Epoch   0 Batch  820/1077 - Train Accuracy: 0.8508, Validation Accuracy: 0.8214, Loss: 0.2001\n",
      "Epoch   0 Batch  830/1077 - Train Accuracy: 0.8434, Validation Accuracy: 0.8523, Loss: 0.1989\n",
      "Epoch   0 Batch  840/1077 - Train Accuracy: 0.8363, Validation Accuracy: 0.8438, Loss: 0.1877\n",
      "Epoch   0 Batch  850/1077 - Train Accuracy: 0.8173, Validation Accuracy: 0.8501, Loss: 0.2242\n",
      "Epoch   0 Batch  860/1077 - Train Accuracy: 0.8650, Validation Accuracy: 0.8306, Loss: 0.1829\n",
      "Epoch   0 Batch  870/1077 - Train Accuracy: 0.8314, Validation Accuracy: 0.8406, Loss: 0.2205\n",
      "Epoch   0 Batch  880/1077 - Train Accuracy: 0.8891, Validation Accuracy: 0.8679, Loss: 0.1928\n",
      "Epoch   0 Batch  890/1077 - Train Accuracy: 0.8821, Validation Accuracy: 0.8718, Loss: 0.1817\n",
      "Epoch   0 Batch  900/1077 - Train Accuracy: 0.8609, Validation Accuracy: 0.8675, Loss: 0.2157\n",
      "Epoch   0 Batch  910/1077 - Train Accuracy: 0.8828, Validation Accuracy: 0.8569, Loss: 0.1894\n",
      "Epoch   0 Batch  920/1077 - Train Accuracy: 0.8449, Validation Accuracy: 0.8352, Loss: 0.1836\n",
      "Epoch   0 Batch  930/1077 - Train Accuracy: 0.8738, Validation Accuracy: 0.8640, Loss: 0.1499\n",
      "Epoch   0 Batch  940/1077 - Train Accuracy: 0.8469, Validation Accuracy: 0.8388, Loss: 0.1816\n",
      "Epoch   0 Batch  950/1077 - Train Accuracy: 0.8661, Validation Accuracy: 0.8572, Loss: 0.1864\n",
      "Epoch   0 Batch  960/1077 - Train Accuracy: 0.8400, Validation Accuracy: 0.8427, Loss: 0.1701\n",
      "Epoch   0 Batch  970/1077 - Train Accuracy: 0.8801, Validation Accuracy: 0.8697, Loss: 0.2007\n",
      "Epoch   0 Batch  980/1077 - Train Accuracy: 0.8434, Validation Accuracy: 0.8668, Loss: 0.1760\n",
      "Epoch   0 Batch  990/1077 - Train Accuracy: 0.8454, Validation Accuracy: 0.8633, Loss: 0.1893\n",
      "Epoch   0 Batch 1000/1077 - Train Accuracy: 0.9044, Validation Accuracy: 0.8739, Loss: 0.1606\n",
      "Epoch   0 Batch 1010/1077 - Train Accuracy: 0.8891, Validation Accuracy: 0.8711, Loss: 0.1702\n",
      "Epoch   0 Batch 1020/1077 - Train Accuracy: 0.8961, Validation Accuracy: 0.8761, Loss: 0.1510\n",
      "Epoch   0 Batch 1030/1077 - Train Accuracy: 0.8434, Validation Accuracy: 0.8892, Loss: 0.1882\n",
      "Epoch   0 Batch 1040/1077 - Train Accuracy: 0.8499, Validation Accuracy: 0.8661, Loss: 0.1847\n",
      "Epoch   0 Batch 1050/1077 - Train Accuracy: 0.8801, Validation Accuracy: 0.8342, Loss: 0.1429\n",
      "Epoch   0 Batch 1060/1077 - Train Accuracy: 0.8859, Validation Accuracy: 0.8388, Loss: 0.1384\n",
      "Epoch   0 Batch 1070/1077 - Train Accuracy: 0.8777, Validation Accuracy: 0.8569, Loss: 0.1627\n",
      "Epoch   1 Batch   10/1077 - Train Accuracy: 0.9054, Validation Accuracy: 0.8675, Loss: 0.1771\n",
      "Epoch   1 Batch   20/1077 - Train Accuracy: 0.8887, Validation Accuracy: 0.8881, Loss: 0.1543\n",
      "Epoch   1 Batch   30/1077 - Train Accuracy: 0.8938, Validation Accuracy: 0.8821, Loss: 0.1432\n",
      "Epoch   1 Batch   40/1077 - Train Accuracy: 0.8953, Validation Accuracy: 0.8675, Loss: 0.1375\n",
      "Epoch   1 Batch   50/1077 - Train Accuracy: 0.9141, Validation Accuracy: 0.8736, Loss: 0.1352\n",
      "Epoch   1 Batch   60/1077 - Train Accuracy: 0.9033, Validation Accuracy: 0.8736, Loss: 0.1420\n",
      "Epoch   1 Batch   70/1077 - Train Accuracy: 0.8528, Validation Accuracy: 0.8853, Loss: 0.1512\n",
      "Epoch   1 Batch   80/1077 - Train Accuracy: 0.8969, Validation Accuracy: 0.9052, Loss: 0.1458\n",
      "Epoch   1 Batch   90/1077 - Train Accuracy: 0.8926, Validation Accuracy: 0.8707, Loss: 0.1516\n",
      "Epoch   1 Batch  100/1077 - Train Accuracy: 0.8711, Validation Accuracy: 0.8999, Loss: 0.1471\n",
      "Epoch   1 Batch  110/1077 - Train Accuracy: 0.9184, Validation Accuracy: 0.8892, Loss: 0.1203\n",
      "Epoch   1 Batch  120/1077 - Train Accuracy: 0.8914, Validation Accuracy: 0.8828, Loss: 0.1599\n",
      "Epoch   1 Batch  130/1077 - Train Accuracy: 0.9211, Validation Accuracy: 0.8413, Loss: 0.1389\n",
      "Epoch   1 Batch  140/1077 - Train Accuracy: 0.8701, Validation Accuracy: 0.8697, Loss: 0.1274\n",
      "Epoch   1 Batch  150/1077 - Train Accuracy: 0.8962, Validation Accuracy: 0.8512, Loss: 0.1405\n",
      "Epoch   1 Batch  160/1077 - Train Accuracy: 0.8961, Validation Accuracy: 0.8952, Loss: 0.1297\n",
      "Epoch   1 Batch  170/1077 - Train Accuracy: 0.8777, Validation Accuracy: 0.8814, Loss: 0.1556\n",
      "Epoch   1 Batch  180/1077 - Train Accuracy: 0.8910, Validation Accuracy: 0.9034, Loss: 0.1238\n",
      "Epoch   1 Batch  190/1077 - Train Accuracy: 0.9273, Validation Accuracy: 0.8825, Loss: 0.1207\n",
      "Epoch   1 Batch  200/1077 - Train Accuracy: 0.8910, Validation Accuracy: 0.8800, Loss: 0.1440\n",
      "Epoch   1 Batch  210/1077 - Train Accuracy: 0.8932, Validation Accuracy: 0.8729, Loss: 0.1403\n",
      "Epoch   1 Batch  220/1077 - Train Accuracy: 0.9215, Validation Accuracy: 0.8952, Loss: 0.1220\n",
      "Epoch   1 Batch  230/1077 - Train Accuracy: 0.9003, Validation Accuracy: 0.8782, Loss: 0.1320\n",
      "Epoch   1 Batch  240/1077 - Train Accuracy: 0.9273, Validation Accuracy: 0.8949, Loss: 0.1196\n",
      "Epoch   1 Batch  250/1077 - Train Accuracy: 0.8903, Validation Accuracy: 0.8888, Loss: 0.1185\n",
      "Epoch   1 Batch  260/1077 - Train Accuracy: 0.8810, Validation Accuracy: 0.8942, Loss: 0.1037\n",
      "Epoch   1 Batch  270/1077 - Train Accuracy: 0.8957, Validation Accuracy: 0.9105, Loss: 0.1295\n",
      "Epoch   1 Batch  280/1077 - Train Accuracy: 0.8793, Validation Accuracy: 0.9126, Loss: 0.1462\n",
      "Epoch   1 Batch  290/1077 - Train Accuracy: 0.9031, Validation Accuracy: 0.9034, Loss: 0.1514\n",
      "Epoch   1 Batch  300/1077 - Train Accuracy: 0.9297, Validation Accuracy: 0.9087, Loss: 0.1108\n",
      "Epoch   1 Batch  310/1077 - Train Accuracy: 0.9172, Validation Accuracy: 0.8867, Loss: 0.1195\n",
      "Epoch   1 Batch  320/1077 - Train Accuracy: 0.9234, Validation Accuracy: 0.9229, Loss: 0.1236\n",
      "Epoch   1 Batch  330/1077 - Train Accuracy: 0.8969, Validation Accuracy: 0.8942, Loss: 0.1329\n",
      "Epoch   1 Batch  340/1077 - Train Accuracy: 0.9367, Validation Accuracy: 0.8949, Loss: 0.1121\n",
      "Epoch   1 Batch  350/1077 - Train Accuracy: 0.8848, Validation Accuracy: 0.8746, Loss: 0.1431\n",
      "Epoch   1 Batch  360/1077 - Train Accuracy: 0.9055, Validation Accuracy: 0.9031, Loss: 0.1072\n",
      "Epoch   1 Batch  370/1077 - Train Accuracy: 0.9312, Validation Accuracy: 0.9141, Loss: 0.1127\n",
      "Epoch   1 Batch  380/1077 - Train Accuracy: 0.9305, Validation Accuracy: 0.8991, Loss: 0.1145\n",
      "Epoch   1 Batch  390/1077 - Train Accuracy: 0.8453, Validation Accuracy: 0.9084, Loss: 0.1491\n",
      "Epoch   1 Batch  400/1077 - Train Accuracy: 0.9098, Validation Accuracy: 0.8974, Loss: 0.1395\n",
      "Epoch   1 Batch  410/1077 - Train Accuracy: 0.9017, Validation Accuracy: 0.9073, Loss: 0.1233\n",
      "Epoch   1 Batch  420/1077 - Train Accuracy: 0.9344, Validation Accuracy: 0.9009, Loss: 0.0917\n",
      "Epoch   1 Batch  430/1077 - Train Accuracy: 0.9047, Validation Accuracy: 0.8935, Loss: 0.1050\n",
      "Epoch   1 Batch  440/1077 - Train Accuracy: 0.8848, Validation Accuracy: 0.8991, Loss: 0.1404\n",
      "Epoch   1 Batch  450/1077 - Train Accuracy: 0.9266, Validation Accuracy: 0.9052, Loss: 0.1103\n",
      "Epoch   1 Batch  460/1077 - Train Accuracy: 0.8992, Validation Accuracy: 0.9336, Loss: 0.1303\n",
      "Epoch   1 Batch  470/1077 - Train Accuracy: 0.9001, Validation Accuracy: 0.9062, Loss: 0.1396\n",
      "Epoch   1 Batch  480/1077 - Train Accuracy: 0.9095, Validation Accuracy: 0.8981, Loss: 0.1136\n",
      "Epoch   1 Batch  490/1077 - Train Accuracy: 0.9156, Validation Accuracy: 0.9023, Loss: 0.1195\n",
      "Epoch   1 Batch  500/1077 - Train Accuracy: 0.9320, Validation Accuracy: 0.9073, Loss: 0.0902\n",
      "Epoch   1 Batch  510/1077 - Train Accuracy: 0.8926, Validation Accuracy: 0.9034, Loss: 0.1183\n",
      "Epoch   1 Batch  520/1077 - Train Accuracy: 0.9338, Validation Accuracy: 0.9038, Loss: 0.1057\n",
      "Epoch   1 Batch  530/1077 - Train Accuracy: 0.9008, Validation Accuracy: 0.9066, Loss: 0.1239\n",
      "Epoch   1 Batch  540/1077 - Train Accuracy: 0.9234, Validation Accuracy: 0.9045, Loss: 0.1046\n",
      "Epoch   1 Batch  550/1077 - Train Accuracy: 0.8898, Validation Accuracy: 0.9205, Loss: 0.1020\n",
      "Epoch   1 Batch  560/1077 - Train Accuracy: 0.9203, Validation Accuracy: 0.9002, Loss: 0.1042\n",
      "Epoch   1 Batch  570/1077 - Train Accuracy: 0.9313, Validation Accuracy: 0.8949, Loss: 0.1203\n",
      "Epoch   1 Batch  580/1077 - Train Accuracy: 0.9010, Validation Accuracy: 0.9031, Loss: 0.0895\n",
      "Epoch   1 Batch  590/1077 - Train Accuracy: 0.8647, Validation Accuracy: 0.8771, Loss: 0.1198\n",
      "Epoch   1 Batch  600/1077 - Train Accuracy: 0.9018, Validation Accuracy: 0.8938, Loss: 0.1142\n",
      "Epoch   1 Batch  610/1077 - Train Accuracy: 0.9075, Validation Accuracy: 0.8952, Loss: 0.1194\n",
      "Epoch   1 Batch  620/1077 - Train Accuracy: 0.9414, Validation Accuracy: 0.8999, Loss: 0.0957\n",
      "Epoch   1 Batch  630/1077 - Train Accuracy: 0.9395, Validation Accuracy: 0.9244, Loss: 0.1054\n",
      "Epoch   1 Batch  640/1077 - Train Accuracy: 0.9289, Validation Accuracy: 0.8871, Loss: 0.0998\n",
      "Epoch   1 Batch  650/1077 - Train Accuracy: 0.8977, Validation Accuracy: 0.9084, Loss: 0.1090\n",
      "Epoch   1 Batch  660/1077 - Train Accuracy: 0.9305, Validation Accuracy: 0.9194, Loss: 0.1055\n",
      "Epoch   1 Batch  670/1077 - Train Accuracy: 0.9055, Validation Accuracy: 0.9148, Loss: 0.1163\n",
      "Epoch   1 Batch  680/1077 - Train Accuracy: 0.8720, Validation Accuracy: 0.9276, Loss: 0.1071\n",
      "Epoch   1 Batch  690/1077 - Train Accuracy: 0.9051, Validation Accuracy: 0.8977, Loss: 0.1087\n",
      "Epoch   1 Batch  700/1077 - Train Accuracy: 0.9246, Validation Accuracy: 0.8938, Loss: 0.0940\n",
      "Epoch   1 Batch  710/1077 - Train Accuracy: 0.9160, Validation Accuracy: 0.9034, Loss: 0.0965\n",
      "Epoch   1 Batch  720/1077 - Train Accuracy: 0.9042, Validation Accuracy: 0.9222, Loss: 0.1169\n",
      "Epoch   1 Batch  730/1077 - Train Accuracy: 0.9195, Validation Accuracy: 0.8857, Loss: 0.1160\n",
      "Epoch   1 Batch  740/1077 - Train Accuracy: 0.9223, Validation Accuracy: 0.9240, Loss: 0.0832\n",
      "Epoch   1 Batch  750/1077 - Train Accuracy: 0.9234, Validation Accuracy: 0.9094, Loss: 0.0890\n",
      "Epoch   1 Batch  760/1077 - Train Accuracy: 0.9051, Validation Accuracy: 0.8988, Loss: 0.1238\n",
      "Epoch   1 Batch  770/1077 - Train Accuracy: 0.9077, Validation Accuracy: 0.9276, Loss: 0.1016\n",
      "Epoch   1 Batch  780/1077 - Train Accuracy: 0.8859, Validation Accuracy: 0.8888, Loss: 0.1253\n",
      "Epoch   1 Batch  790/1077 - Train Accuracy: 0.8453, Validation Accuracy: 0.9244, Loss: 0.1144\n",
      "Epoch   1 Batch  800/1077 - Train Accuracy: 0.8852, Validation Accuracy: 0.9279, Loss: 0.1093\n",
      "Epoch   1 Batch  810/1077 - Train Accuracy: 0.8999, Validation Accuracy: 0.8984, Loss: 0.0893\n",
      "Epoch   1 Batch  820/1077 - Train Accuracy: 0.9016, Validation Accuracy: 0.8995, Loss: 0.0956\n",
      "Epoch   1 Batch  830/1077 - Train Accuracy: 0.8922, Validation Accuracy: 0.8920, Loss: 0.1091\n",
      "Epoch   1 Batch  840/1077 - Train Accuracy: 0.9094, Validation Accuracy: 0.9041, Loss: 0.0932\n",
      "Epoch   1 Batch  850/1077 - Train Accuracy: 0.8884, Validation Accuracy: 0.8995, Loss: 0.1378\n",
      "Epoch   1 Batch  860/1077 - Train Accuracy: 0.9289, Validation Accuracy: 0.9031, Loss: 0.1022\n",
      "Epoch   1 Batch  870/1077 - Train Accuracy: 0.8713, Validation Accuracy: 0.8903, Loss: 0.1002\n",
      "Epoch   1 Batch  880/1077 - Train Accuracy: 0.9070, Validation Accuracy: 0.8991, Loss: 0.1077\n",
      "Epoch   1 Batch  890/1077 - Train Accuracy: 0.9185, Validation Accuracy: 0.8913, Loss: 0.1021\n",
      "Epoch   1 Batch  900/1077 - Train Accuracy: 0.9184, Validation Accuracy: 0.9187, Loss: 0.1270\n",
      "Epoch   1 Batch  910/1077 - Train Accuracy: 0.9185, Validation Accuracy: 0.9066, Loss: 0.1032\n",
      "Epoch   1 Batch  920/1077 - Train Accuracy: 0.9070, Validation Accuracy: 0.8960, Loss: 0.1001\n",
      "Epoch   1 Batch  930/1077 - Train Accuracy: 0.9117, Validation Accuracy: 0.9165, Loss: 0.0975\n",
      "Epoch   1 Batch  940/1077 - Train Accuracy: 0.9223, Validation Accuracy: 0.9254, Loss: 0.1020\n",
      "Epoch   1 Batch  950/1077 - Train Accuracy: 0.9185, Validation Accuracy: 0.8999, Loss: 0.0869\n",
      "Epoch   1 Batch  960/1077 - Train Accuracy: 0.9111, Validation Accuracy: 0.8942, Loss: 0.0991\n",
      "Epoch   1 Batch  970/1077 - Train Accuracy: 0.9164, Validation Accuracy: 0.9197, Loss: 0.1150\n",
      "Epoch   1 Batch  980/1077 - Train Accuracy: 0.8930, Validation Accuracy: 0.8981, Loss: 0.1034\n",
      "Epoch   1 Batch  990/1077 - Train Accuracy: 0.8997, Validation Accuracy: 0.8963, Loss: 0.1077\n",
      "Epoch   1 Batch 1000/1077 - Train Accuracy: 0.9152, Validation Accuracy: 0.8949, Loss: 0.0952\n",
      "Epoch   1 Batch 1010/1077 - Train Accuracy: 0.9359, Validation Accuracy: 0.9013, Loss: 0.0944\n",
      "Epoch   1 Batch 1020/1077 - Train Accuracy: 0.9508, Validation Accuracy: 0.9109, Loss: 0.0852\n",
      "Epoch   1 Batch 1030/1077 - Train Accuracy: 0.9059, Validation Accuracy: 0.8981, Loss: 0.1062\n",
      "Epoch   1 Batch 1040/1077 - Train Accuracy: 0.8869, Validation Accuracy: 0.9151, Loss: 0.1121\n",
      "Epoch   1 Batch 1050/1077 - Train Accuracy: 0.9281, Validation Accuracy: 0.9091, Loss: 0.0711\n",
      "Epoch   1 Batch 1060/1077 - Train Accuracy: 0.9258, Validation Accuracy: 0.9222, Loss: 0.0867\n",
      "Epoch   1 Batch 1070/1077 - Train Accuracy: 0.9062, Validation Accuracy: 0.9013, Loss: 0.1039\n",
      "Epoch   2 Batch   10/1077 - Train Accuracy: 0.9223, Validation Accuracy: 0.8981, Loss: 0.1119\n",
      "Epoch   2 Batch   20/1077 - Train Accuracy: 0.9168, Validation Accuracy: 0.8924, Loss: 0.0872\n",
      "Epoch   2 Batch   30/1077 - Train Accuracy: 0.9195, Validation Accuracy: 0.9134, Loss: 0.0793\n",
      "Epoch   2 Batch   40/1077 - Train Accuracy: 0.9285, Validation Accuracy: 0.8999, Loss: 0.1016\n",
      "Epoch   2 Batch   50/1077 - Train Accuracy: 0.9340, Validation Accuracy: 0.9130, Loss: 0.0932\n",
      "Epoch   2 Batch   60/1077 - Train Accuracy: 0.9263, Validation Accuracy: 0.8828, Loss: 0.0929\n",
      "Epoch   2 Batch   70/1077 - Train Accuracy: 0.9087, Validation Accuracy: 0.9066, Loss: 0.0901\n",
      "Epoch   2 Batch   80/1077 - Train Accuracy: 0.8949, Validation Accuracy: 0.9023, Loss: 0.1044\n",
      "Epoch   2 Batch   90/1077 - Train Accuracy: 0.9148, Validation Accuracy: 0.8931, Loss: 0.0969\n",
      "Epoch   2 Batch  100/1077 - Train Accuracy: 0.9180, Validation Accuracy: 0.9048, Loss: 0.1055\n",
      "Epoch   2 Batch  110/1077 - Train Accuracy: 0.9496, Validation Accuracy: 0.9041, Loss: 0.0901\n",
      "Epoch   2 Batch  120/1077 - Train Accuracy: 0.9289, Validation Accuracy: 0.9070, Loss: 0.1014\n",
      "Epoch   2 Batch  130/1077 - Train Accuracy: 0.9156, Validation Accuracy: 0.9023, Loss: 0.0773\n",
      "Epoch   2 Batch  140/1077 - Train Accuracy: 0.9211, Validation Accuracy: 0.8825, Loss: 0.0946\n",
      "Epoch   2 Batch  150/1077 - Train Accuracy: 0.9129, Validation Accuracy: 0.8846, Loss: 0.0953\n",
      "Epoch   2 Batch  160/1077 - Train Accuracy: 0.9215, Validation Accuracy: 0.8938, Loss: 0.0858\n",
      "Epoch   2 Batch  170/1077 - Train Accuracy: 0.9117, Validation Accuracy: 0.9038, Loss: 0.0966\n",
      "Epoch   2 Batch  180/1077 - Train Accuracy: 0.9105, Validation Accuracy: 0.9027, Loss: 0.0972\n",
      "Epoch   2 Batch  190/1077 - Train Accuracy: 0.9336, Validation Accuracy: 0.8871, Loss: 0.0898\n",
      "Epoch   2 Batch  200/1077 - Train Accuracy: 0.9105, Validation Accuracy: 0.8853, Loss: 0.0978\n",
      "Epoch   2 Batch  210/1077 - Train Accuracy: 0.9200, Validation Accuracy: 0.8761, Loss: 0.1062\n",
      "Epoch   2 Batch  220/1077 - Train Accuracy: 0.9252, Validation Accuracy: 0.8896, Loss: 0.0807\n",
      "Epoch   2 Batch  230/1077 - Train Accuracy: 0.9390, Validation Accuracy: 0.8917, Loss: 0.1147\n",
      "Epoch   2 Batch  240/1077 - Train Accuracy: 0.9348, Validation Accuracy: 0.9034, Loss: 0.0876\n",
      "Epoch   2 Batch  250/1077 - Train Accuracy: 0.9112, Validation Accuracy: 0.8999, Loss: 0.0875\n",
      "Epoch   2 Batch  260/1077 - Train Accuracy: 0.8958, Validation Accuracy: 0.8931, Loss: 0.0727\n",
      "Epoch   2 Batch  270/1077 - Train Accuracy: 0.9141, Validation Accuracy: 0.9162, Loss: 0.1034\n",
      "Epoch   2 Batch  280/1077 - Train Accuracy: 0.8953, Validation Accuracy: 0.9091, Loss: 0.1123\n",
      "Epoch   2 Batch  290/1077 - Train Accuracy: 0.8988, Validation Accuracy: 0.9034, Loss: 0.1177\n",
      "Epoch   2 Batch  300/1077 - Train Accuracy: 0.9420, Validation Accuracy: 0.9212, Loss: 0.0870\n",
      "Epoch   2 Batch  310/1077 - Train Accuracy: 0.9141, Validation Accuracy: 0.9268, Loss: 0.1125\n",
      "Epoch   2 Batch  320/1077 - Train Accuracy: 0.9230, Validation Accuracy: 0.9041, Loss: 0.1003\n",
      "Epoch   2 Batch  330/1077 - Train Accuracy: 0.8957, Validation Accuracy: 0.9045, Loss: 0.0915\n",
      "Epoch   2 Batch  340/1077 - Train Accuracy: 0.9387, Validation Accuracy: 0.8768, Loss: 0.0844\n",
      "Epoch   2 Batch  350/1077 - Train Accuracy: 0.8988, Validation Accuracy: 0.8825, Loss: 0.1101\n",
      "Epoch   2 Batch  360/1077 - Train Accuracy: 0.9098, Validation Accuracy: 0.9038, Loss: 0.0778\n",
      "Epoch   2 Batch  370/1077 - Train Accuracy: 0.9390, Validation Accuracy: 0.9158, Loss: 0.0730\n",
      "Epoch   2 Batch  380/1077 - Train Accuracy: 0.9418, Validation Accuracy: 0.9109, Loss: 0.0710\n",
      "Epoch   2 Batch  390/1077 - Train Accuracy: 0.8641, Validation Accuracy: 0.9009, Loss: 0.1037\n",
      "Epoch   2 Batch  400/1077 - Train Accuracy: 0.9172, Validation Accuracy: 0.8938, Loss: 0.1023\n",
      "Epoch   2 Batch  410/1077 - Train Accuracy: 0.8910, Validation Accuracy: 0.9055, Loss: 0.1010\n",
      "Epoch   2 Batch  420/1077 - Train Accuracy: 0.9344, Validation Accuracy: 0.9158, Loss: 0.0741\n",
      "Epoch   2 Batch  430/1077 - Train Accuracy: 0.9234, Validation Accuracy: 0.9187, Loss: 0.0780\n",
      "Epoch   2 Batch  440/1077 - Train Accuracy: 0.8895, Validation Accuracy: 0.8928, Loss: 0.1096\n",
      "Epoch   2 Batch  450/1077 - Train Accuracy: 0.9270, Validation Accuracy: 0.8956, Loss: 0.0823\n",
      "Epoch   2 Batch  460/1077 - Train Accuracy: 0.9273, Validation Accuracy: 0.8991, Loss: 0.0862\n",
      "Epoch   2 Batch  470/1077 - Train Accuracy: 0.9363, Validation Accuracy: 0.9023, Loss: 0.0850\n",
      "Epoch   2 Batch  480/1077 - Train Accuracy: 0.9239, Validation Accuracy: 0.9013, Loss: 0.0940\n",
      "Epoch   2 Batch  490/1077 - Train Accuracy: 0.8898, Validation Accuracy: 0.9134, Loss: 0.0881\n",
      "Epoch   2 Batch  500/1077 - Train Accuracy: 0.9297, Validation Accuracy: 0.9144, Loss: 0.0884\n",
      "Epoch   2 Batch  510/1077 - Train Accuracy: 0.9121, Validation Accuracy: 0.9119, Loss: 0.0951\n",
      "Epoch   2 Batch  520/1077 - Train Accuracy: 0.9472, Validation Accuracy: 0.8967, Loss: 0.1033\n",
      "Epoch   2 Batch  530/1077 - Train Accuracy: 0.9230, Validation Accuracy: 0.9102, Loss: 0.0897\n",
      "Epoch   2 Batch  540/1077 - Train Accuracy: 0.9156, Validation Accuracy: 0.9254, Loss: 0.0877\n",
      "Epoch   2 Batch  550/1077 - Train Accuracy: 0.8965, Validation Accuracy: 0.9229, Loss: 0.0831\n",
      "Epoch   2 Batch  560/1077 - Train Accuracy: 0.9387, Validation Accuracy: 0.9048, Loss: 0.0871\n",
      "Epoch   2 Batch  570/1077 - Train Accuracy: 0.9330, Validation Accuracy: 0.8906, Loss: 0.1007\n",
      "Epoch   2 Batch  580/1077 - Train Accuracy: 0.9420, Validation Accuracy: 0.9077, Loss: 0.0623\n",
      "Epoch   2 Batch  590/1077 - Train Accuracy: 0.9120, Validation Accuracy: 0.8967, Loss: 0.1036\n",
      "Epoch   2 Batch  600/1077 - Train Accuracy: 0.9226, Validation Accuracy: 0.9187, Loss: 0.0859\n",
      "Epoch   2 Batch  610/1077 - Train Accuracy: 0.9157, Validation Accuracy: 0.9112, Loss: 0.0950\n",
      "Epoch   2 Batch  620/1077 - Train Accuracy: 0.9613, Validation Accuracy: 0.9276, Loss: 0.0866\n",
      "Epoch   2 Batch  630/1077 - Train Accuracy: 0.9453, Validation Accuracy: 0.9141, Loss: 0.0979\n",
      "Epoch   2 Batch  640/1077 - Train Accuracy: 0.9241, Validation Accuracy: 0.9237, Loss: 0.0897\n",
      "Epoch   2 Batch  650/1077 - Train Accuracy: 0.9363, Validation Accuracy: 0.9300, Loss: 0.0826\n",
      "Epoch   2 Batch  660/1077 - Train Accuracy: 0.9406, Validation Accuracy: 0.9105, Loss: 0.0920\n",
      "Epoch   2 Batch  670/1077 - Train Accuracy: 0.9421, Validation Accuracy: 0.8835, Loss: 0.1082\n",
      "Epoch   2 Batch  680/1077 - Train Accuracy: 0.9107, Validation Accuracy: 0.8988, Loss: 0.0815\n",
      "Epoch   2 Batch  690/1077 - Train Accuracy: 0.9141, Validation Accuracy: 0.9151, Loss: 0.0861\n",
      "Epoch   2 Batch  700/1077 - Train Accuracy: 0.9457, Validation Accuracy: 0.9123, Loss: 0.0827\n",
      "Epoch   2 Batch  710/1077 - Train Accuracy: 0.9172, Validation Accuracy: 0.9073, Loss: 0.0770\n",
      "Epoch   2 Batch  720/1077 - Train Accuracy: 0.9186, Validation Accuracy: 0.9272, Loss: 0.1018\n",
      "Epoch   2 Batch  730/1077 - Train Accuracy: 0.9258, Validation Accuracy: 0.8960, Loss: 0.0977\n",
      "Epoch   2 Batch  740/1077 - Train Accuracy: 0.9316, Validation Accuracy: 0.9059, Loss: 0.0875\n",
      "Epoch   2 Batch  750/1077 - Train Accuracy: 0.9371, Validation Accuracy: 0.9176, Loss: 0.0826\n",
      "Epoch   2 Batch  760/1077 - Train Accuracy: 0.9129, Validation Accuracy: 0.8928, Loss: 0.0981\n",
      "Epoch   2 Batch  770/1077 - Train Accuracy: 0.8951, Validation Accuracy: 0.9332, Loss: 0.0903\n",
      "Epoch   2 Batch  780/1077 - Train Accuracy: 0.8922, Validation Accuracy: 0.9055, Loss: 0.1439\n",
      "Epoch   2 Batch  790/1077 - Train Accuracy: 0.8891, Validation Accuracy: 0.9084, Loss: 0.0955\n",
      "Epoch   2 Batch  800/1077 - Train Accuracy: 0.9254, Validation Accuracy: 0.9336, Loss: 0.0895\n",
      "Epoch   2 Batch  810/1077 - Train Accuracy: 0.9107, Validation Accuracy: 0.9077, Loss: 0.0824\n",
      "Epoch   2 Batch  820/1077 - Train Accuracy: 0.8773, Validation Accuracy: 0.9073, Loss: 0.1003\n",
      "Epoch   2 Batch  830/1077 - Train Accuracy: 0.8875, Validation Accuracy: 0.8967, Loss: 0.0953\n",
      "Epoch   2 Batch  840/1077 - Train Accuracy: 0.9020, Validation Accuracy: 0.9016, Loss: 0.0837\n",
      "Epoch   2 Batch  850/1077 - Train Accuracy: 0.9055, Validation Accuracy: 0.9173, Loss: 0.1144\n",
      "Epoch   2 Batch  860/1077 - Train Accuracy: 0.9576, Validation Accuracy: 0.9066, Loss: 0.0969\n",
      "Epoch   2 Batch  870/1077 - Train Accuracy: 0.8791, Validation Accuracy: 0.8949, Loss: 0.0930\n",
      "Epoch   2 Batch  880/1077 - Train Accuracy: 0.9395, Validation Accuracy: 0.9052, Loss: 0.0934\n",
      "Epoch   2 Batch  890/1077 - Train Accuracy: 0.9278, Validation Accuracy: 0.9038, Loss: 0.0960\n",
      "Epoch   2 Batch  900/1077 - Train Accuracy: 0.9305, Validation Accuracy: 0.9048, Loss: 0.1068\n",
      "Epoch   2 Batch  910/1077 - Train Accuracy: 0.9081, Validation Accuracy: 0.9258, Loss: 0.0963\n",
      "Epoch   2 Batch  920/1077 - Train Accuracy: 0.9176, Validation Accuracy: 0.8960, Loss: 0.0861\n",
      "Epoch   2 Batch  930/1077 - Train Accuracy: 0.9043, Validation Accuracy: 0.9020, Loss: 0.0775\n",
      "Epoch   2 Batch  940/1077 - Train Accuracy: 0.9172, Validation Accuracy: 0.9109, Loss: 0.0900\n",
      "Epoch   2 Batch  950/1077 - Train Accuracy: 0.9107, Validation Accuracy: 0.9137, Loss: 0.0950\n",
      "Epoch   2 Batch  960/1077 - Train Accuracy: 0.8876, Validation Accuracy: 0.9048, Loss: 0.0866\n",
      "Epoch   2 Batch  970/1077 - Train Accuracy: 0.9305, Validation Accuracy: 0.9229, Loss: 0.1035\n",
      "Epoch   2 Batch  980/1077 - Train Accuracy: 0.8832, Validation Accuracy: 0.9091, Loss: 0.0909\n",
      "Epoch   2 Batch  990/1077 - Train Accuracy: 0.9330, Validation Accuracy: 0.9109, Loss: 0.1048\n",
      "Epoch   2 Batch 1000/1077 - Train Accuracy: 0.9330, Validation Accuracy: 0.9169, Loss: 0.0778\n",
      "Epoch   2 Batch 1010/1077 - Train Accuracy: 0.9305, Validation Accuracy: 0.8924, Loss: 0.0926\n",
      "Epoch   2 Batch 1020/1077 - Train Accuracy: 0.9527, Validation Accuracy: 0.9162, Loss: 0.0764\n",
      "Epoch   2 Batch 1030/1077 - Train Accuracy: 0.9266, Validation Accuracy: 0.9045, Loss: 0.0984\n",
      "Epoch   2 Batch 1040/1077 - Train Accuracy: 0.8984, Validation Accuracy: 0.9002, Loss: 0.0834\n",
      "Epoch   2 Batch 1050/1077 - Train Accuracy: 0.9145, Validation Accuracy: 0.8977, Loss: 0.0792\n",
      "Epoch   2 Batch 1060/1077 - Train Accuracy: 0.9223, Validation Accuracy: 0.8999, Loss: 0.0776\n",
      "Epoch   2 Batch 1070/1077 - Train Accuracy: 0.9156, Validation Accuracy: 0.9158, Loss: 0.0929\n",
      "Epoch   3 Batch   10/1077 - Train Accuracy: 0.9412, Validation Accuracy: 0.9190, Loss: 0.0917\n",
      "Epoch   3 Batch   20/1077 - Train Accuracy: 0.9121, Validation Accuracy: 0.9272, Loss: 0.0700\n",
      "Epoch   3 Batch   30/1077 - Train Accuracy: 0.9145, Validation Accuracy: 0.9300, Loss: 0.0827\n",
      "Epoch   3 Batch   40/1077 - Train Accuracy: 0.9227, Validation Accuracy: 0.8981, Loss: 0.0696\n",
      "Epoch   3 Batch   50/1077 - Train Accuracy: 0.9230, Validation Accuracy: 0.8956, Loss: 0.0810\n",
      "Epoch   3 Batch   60/1077 - Train Accuracy: 0.9420, Validation Accuracy: 0.8718, Loss: 0.0819\n",
      "Epoch   3 Batch   70/1077 - Train Accuracy: 0.9120, Validation Accuracy: 0.9144, Loss: 0.0879\n",
      "Epoch   3 Batch   80/1077 - Train Accuracy: 0.9187, Validation Accuracy: 0.9197, Loss: 0.0808\n",
      "Epoch   3 Batch   90/1077 - Train Accuracy: 0.9168, Validation Accuracy: 0.9073, Loss: 0.0767\n",
      "Epoch   3 Batch  100/1077 - Train Accuracy: 0.9246, Validation Accuracy: 0.9205, Loss: 0.0873\n",
      "Epoch   3 Batch  110/1077 - Train Accuracy: 0.9566, Validation Accuracy: 0.9229, Loss: 0.0698\n",
      "Epoch   3 Batch  120/1077 - Train Accuracy: 0.9199, Validation Accuracy: 0.9194, Loss: 0.0951\n",
      "Epoch   3 Batch  130/1077 - Train Accuracy: 0.9449, Validation Accuracy: 0.8849, Loss: 0.0792\n",
      "Epoch   3 Batch  140/1077 - Train Accuracy: 0.9461, Validation Accuracy: 0.8881, Loss: 0.0633\n",
      "Epoch   3 Batch  150/1077 - Train Accuracy: 0.9129, Validation Accuracy: 0.9290, Loss: 0.0748\n",
      "Epoch   3 Batch  160/1077 - Train Accuracy: 0.9504, Validation Accuracy: 0.9105, Loss: 0.0760\n",
      "Epoch   3 Batch  170/1077 - Train Accuracy: 0.9344, Validation Accuracy: 0.9190, Loss: 0.0991\n",
      "Epoch   3 Batch  180/1077 - Train Accuracy: 0.9195, Validation Accuracy: 0.9151, Loss: 0.0839\n",
      "Epoch   3 Batch  190/1077 - Train Accuracy: 0.9559, Validation Accuracy: 0.9265, Loss: 0.0730\n",
      "Epoch   3 Batch  200/1077 - Train Accuracy: 0.9355, Validation Accuracy: 0.8995, Loss: 0.0890\n",
      "Epoch   3 Batch  210/1077 - Train Accuracy: 0.9297, Validation Accuracy: 0.9187, Loss: 0.0848\n",
      "Epoch   3 Batch  220/1077 - Train Accuracy: 0.9301, Validation Accuracy: 0.9009, Loss: 0.0741\n",
      "Epoch   3 Batch  230/1077 - Train Accuracy: 0.9048, Validation Accuracy: 0.8725, Loss: 0.0912\n",
      "Epoch   3 Batch  240/1077 - Train Accuracy: 0.9535, Validation Accuracy: 0.9027, Loss: 0.0745\n",
      "Epoch   3 Batch  250/1077 - Train Accuracy: 0.9261, Validation Accuracy: 0.8967, Loss: 0.0934\n",
      "Epoch   3 Batch  260/1077 - Train Accuracy: 0.9226, Validation Accuracy: 0.9098, Loss: 0.0700\n",
      "Epoch   3 Batch  270/1077 - Train Accuracy: 0.8965, Validation Accuracy: 0.9098, Loss: 0.1023\n",
      "Epoch   3 Batch  280/1077 - Train Accuracy: 0.8883, Validation Accuracy: 0.9105, Loss: 0.0939\n",
      "Epoch   3 Batch  290/1077 - Train Accuracy: 0.9117, Validation Accuracy: 0.9379, Loss: 0.1276\n",
      "Epoch   3 Batch  300/1077 - Train Accuracy: 0.9515, Validation Accuracy: 0.9212, Loss: 0.0851\n",
      "Epoch   3 Batch  310/1077 - Train Accuracy: 0.9398, Validation Accuracy: 0.9148, Loss: 0.0920\n",
      "Epoch   3 Batch  320/1077 - Train Accuracy: 0.9113, Validation Accuracy: 0.9002, Loss: 0.0986\n",
      "Epoch   3 Batch  330/1077 - Train Accuracy: 0.9117, Validation Accuracy: 0.9155, Loss: 0.0971\n"
     ]
    }
   ],
   "source": [
    "\"\"\"\n",
    "DON'T MODIFY ANYTHING IN THIS CELL\n",
    "\"\"\"\n",
    "def get_accuracy(target, logits):\n",
    "    \"\"\"\n",
    "    Calculate accuracy\n",
    "    \"\"\"\n",
    "    max_seq = max(target.shape[1], logits.shape[1])\n",
    "    if max_seq - target.shape[1]:\n",
    "        target = np.pad(\n",
    "            target,\n",
    "            [(0,0),(0,max_seq - target.shape[1])],\n",
    "            'constant')\n",
    "    if max_seq - logits.shape[1]:\n",
    "        logits = np.pad(\n",
    "            logits,\n",
    "            [(0,0),(0,max_seq - logits.shape[1])],\n",
    "            'constant')\n",
    "\n",
    "    return np.mean(np.equal(target, logits))\n",
    "\n",
    "# Split data to training and validation sets\n",
    "train_source = source_int_text[batch_size:]\n",
    "train_target = target_int_text[batch_size:]\n",
    "valid_source = source_int_text[:batch_size]\n",
    "valid_target = target_int_text[:batch_size]\n",
    "(valid_sources_batch, valid_targets_batch, valid_sources_lengths, valid_targets_lengths ) = next(get_batches(valid_source,\n",
    "                                                                                                             valid_target,\n",
    "                                                                                                             batch_size,\n",
    "                                                                                                             source_vocab_to_int['<PAD>'],\n",
    "                                                                                                             target_vocab_to_int['<PAD>']))                                                                                                  \n",
    "with tf.Session(graph=train_graph) as sess:\n",
    "    sess.run(tf.global_variables_initializer())\n",
    "\n",
    "    for epoch_i in range(epochs):\n",
    "        for batch_i, (source_batch, target_batch, sources_lengths, targets_lengths) in enumerate(\n",
    "                get_batches(train_source, train_target, batch_size,\n",
    "                            source_vocab_to_int['<PAD>'],\n",
    "                            target_vocab_to_int['<PAD>'])):\n",
    "\n",
    "            _, loss = sess.run(\n",
    "                [train_op, cost],\n",
    "                {input_data: source_batch,\n",
    "                 targets: target_batch,\n",
    "                 lr: learning_rate,\n",
    "                 target_sequence_length: targets_lengths,\n",
    "                 source_sequence_length: sources_lengths,\n",
    "                 keep_prob: keep_probability})\n",
    "\n",
    "\n",
    "            if batch_i % display_step == 0 and batch_i > 0:\n",
    "\n",
    "\n",
    "                batch_train_logits = sess.run(\n",
    "                    inference_logits,\n",
    "                    {input_data: source_batch,\n",
    "                     source_sequence_length: sources_lengths,\n",
    "                     target_sequence_length: targets_lengths,\n",
    "                     keep_prob: 1.0})\n",
    "\n",
    "\n",
    "                batch_valid_logits = sess.run(\n",
    "                    inference_logits,\n",
    "                    {input_data: valid_sources_batch,\n",
    "                     source_sequence_length: valid_sources_lengths,\n",
    "                     target_sequence_length: valid_targets_lengths,\n",
    "                     keep_prob: 1.0})\n",
    "\n",
    "                train_acc = get_accuracy(target_batch, batch_train_logits)\n",
    "\n",
    "                valid_acc = get_accuracy(valid_targets_batch, batch_valid_logits)\n",
    "\n",
    "                print('Epoch {:>3} Batch {:>4}/{} - Train Accuracy: {:>6.4f}, Validation Accuracy: {:>6.4f}, Loss: {:>6.4f}'\n",
    "                      .format(epoch_i, batch_i, len(source_int_text) // batch_size, train_acc, valid_acc, loss))\n",
    "\n",
    "    # Save Model\n",
    "    saver = tf.train.Saver()\n",
    "    saver.save(sess, save_path)\n",
    "    print('Model Trained and Saved')"
   ]
  },
  {
   "cell_type": "markdown",
   "metadata": {
    "deletable": true,
    "editable": true
   },
   "source": [
    "### Save Parameters\n",
    "Save the `batch_size` and `save_path` parameters for inference."
   ]
  },
  {
   "cell_type": "code",
   "execution_count": 36,
   "metadata": {
    "collapsed": true,
    "deletable": true,
    "editable": true
   },
   "outputs": [],
   "source": [
    "\"\"\"\n",
    "DON'T MODIFY ANYTHING IN THIS CELL\n",
    "\"\"\"\n",
    "# Save parameters for checkpoint\n",
    "helper.save_params(save_path)"
   ]
  },
  {
   "cell_type": "markdown",
   "metadata": {
    "deletable": true,
    "editable": true
   },
   "source": [
    "# Checkpoint"
   ]
  },
  {
   "cell_type": "code",
   "execution_count": 37,
   "metadata": {
    "collapsed": true,
    "deletable": true,
    "editable": true
   },
   "outputs": [],
   "source": [
    "\"\"\"\n",
    "DON'T MODIFY ANYTHING IN THIS CELL\n",
    "\"\"\"\n",
    "import tensorflow as tf\n",
    "import numpy as np\n",
    "import helper\n",
    "import problem_unittests as tests\n",
    "\n",
    "_, (source_vocab_to_int, target_vocab_to_int), (source_int_to_vocab, target_int_to_vocab) = helper.load_preprocess()\n",
    "load_path = helper.load_params()"
   ]
  },
  {
   "cell_type": "markdown",
   "metadata": {
    "deletable": true,
    "editable": true
   },
   "source": [
    "## Sentence to Sequence\n",
    "To feed a sentence into the model for translation, you first need to preprocess it.  Implement the function `sentence_to_seq()` to preprocess new sentences.\n",
    "\n",
    "- Convert the sentence to lowercase\n",
    "- Convert words into ids using `vocab_to_int`\n",
    " - Convert words not in the vocabulary, to the `<UNK>` word id."
   ]
  },
  {
   "cell_type": "code",
   "execution_count": 40,
   "metadata": {
    "collapsed": false,
    "deletable": true,
    "editable": true
   },
   "outputs": [
    {
     "name": "stdout",
     "output_type": "stream",
     "text": [
      "Tests Passed\n"
     ]
    }
   ],
   "source": [
    "def sentence_to_seq(sentence, vocab_to_int):\n",
    "    \"\"\"\n",
    "    Convert a sentence to a sequence of ids\n",
    "    :param sentence: String\n",
    "    :param vocab_to_int: Dictionary to go from the words to an id\n",
    "    :return: List of word ids\n",
    "    \"\"\"\n",
    "    unk = vocab_to_int.get('<UNK>')\n",
    "    return [vocab_to_int.get(word, unk) for word in sentence.split(' ')]\n",
    "\n",
    "\n",
    "\"\"\"\n",
    "DON'T MODIFY ANYTHING IN THIS CELL THAT IS BELOW THIS LINE\n",
    "\"\"\"\n",
    "tests.test_sentence_to_seq(sentence_to_seq)"
   ]
  },
  {
   "cell_type": "markdown",
   "metadata": {
    "deletable": true,
    "editable": true
   },
   "source": [
    "## Translate\n",
    "This will translate `translate_sentence` from English to French."
   ]
  },
  {
   "cell_type": "code",
   "execution_count": 41,
   "metadata": {
    "collapsed": false,
    "deletable": true,
    "editable": true
   },
   "outputs": [
    {
     "name": "stdout",
     "output_type": "stream",
     "text": [
      "INFO:tensorflow:Restoring parameters from checkpoints/dev\n",
      "Input\n",
      "  Word Ids:      [85, 159, 28, 143, 88, 102, 226]\n",
      "  English Words: ['he', 'saw', 'a', 'old', 'yellow', 'truck', '.']\n",
      "\n",
      "Prediction\n",
      "  Word Ids:      [141, 194, 73, 231, 5, 243, 236, 354, 1]\n",
      "  French Words: il a vu le pamplemousse voiture rouge . <EOS>\n"
     ]
    }
   ],
   "source": [
    "translate_sentence = 'he saw a old yellow truck .'\n",
    "\n",
    "\n",
    "\"\"\"\n",
    "DON'T MODIFY ANYTHING IN THIS CELL\n",
    "\"\"\"\n",
    "translate_sentence = sentence_to_seq(translate_sentence, source_vocab_to_int)\n",
    "\n",
    "loaded_graph = tf.Graph()\n",
    "with tf.Session(graph=loaded_graph) as sess:\n",
    "    # Load saved model\n",
    "    loader = tf.train.import_meta_graph(load_path + '.meta')\n",
    "    loader.restore(sess, load_path)\n",
    "\n",
    "    input_data = loaded_graph.get_tensor_by_name('input:0')\n",
    "    logits = loaded_graph.get_tensor_by_name('predictions:0')\n",
    "    target_sequence_length = loaded_graph.get_tensor_by_name('target_sequence_length:0')\n",
    "    source_sequence_length = loaded_graph.get_tensor_by_name('source_sequence_length:0')\n",
    "    keep_prob = loaded_graph.get_tensor_by_name('keep_prob:0')\n",
    "\n",
    "    translate_logits = sess.run(logits, {input_data: [translate_sentence]*batch_size,\n",
    "                                         target_sequence_length: [len(translate_sentence)*2]*batch_size,\n",
    "                                         source_sequence_length: [len(translate_sentence)]*batch_size,\n",
    "                                         keep_prob: 1.0})[0]\n",
    "\n",
    "print('Input')\n",
    "print('  Word Ids:      {}'.format([i for i in translate_sentence]))\n",
    "print('  English Words: {}'.format([source_int_to_vocab[i] for i in translate_sentence]))\n",
    "\n",
    "print('\\nPrediction')\n",
    "print('  Word Ids:      {}'.format([i for i in translate_logits]))\n",
    "print('  French Words: {}'.format(\" \".join([target_int_to_vocab[i] for i in translate_logits])))\n"
   ]
  },
  {
   "cell_type": "markdown",
   "metadata": {
    "deletable": true,
    "editable": true
   },
   "source": [
    "## Imperfect Translation\n",
    "You might notice that some sentences translate better than others.  Since the dataset you're using only has a vocabulary of 227 English words of the thousands that you use, you're only going to see good results using these words.  For this project, you don't need a perfect translation. However, if you want to create a better translation model, you'll need better data.\n",
    "\n",
    "You can train on the [WMT10 French-English corpus](http://www.statmt.org/wmt10/training-giga-fren.tar).  This dataset has more vocabulary and richer in topics discussed.  However, this will take you days to train, so make sure you've a GPU and the neural network is performing well on dataset we provided.  Just make sure you play with the WMT10 corpus after you've submitted this project.\n",
    "## Submitting This Project\n",
    "When submitting this project, make sure to run all the cells before saving the notebook. Save the notebook file as \"dlnd_language_translation.ipynb\" and save it as a HTML file under \"File\" -> \"Download as\". Include the \"helper.py\" and \"problem_unittests.py\" files in your submission."
   ]
  }
 ],
 "metadata": {
  "anaconda-cloud": {},
  "kernelspec": {
   "display_name": "Python 3",
   "language": "python",
   "name": "python3"
  },
  "language_info": {
   "codemirror_mode": {
    "name": "ipython",
    "version": 3
   },
   "file_extension": ".py",
   "mimetype": "text/x-python",
   "name": "python",
   "nbconvert_exporter": "python",
   "pygments_lexer": "ipython3",
   "version": "3.5.2"
  },
  "widgets": {
   "state": {},
   "version": "1.1.2"
  }
 },
 "nbformat": 4,
 "nbformat_minor": 1
}
